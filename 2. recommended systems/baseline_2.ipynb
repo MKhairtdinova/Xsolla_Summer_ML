{
 "cells": [
  {
   "cell_type": "code",
   "execution_count": 1,
   "metadata": {},
   "outputs": [],
   "source": [
    "import pickle\n",
    "import numpy as np\n",
    "import random"
   ]
  },
  {
   "cell_type": "code",
   "execution_count": 2,
   "metadata": {},
   "outputs": [],
   "source": [
    "ratings = pickle.load(open('items_10000_matrix.pickle', 'rb'), encoding='iso-8859-1')"
   ]
  },
  {
   "cell_type": "code",
   "execution_count": 3,
   "metadata": {},
   "outputs": [
    {
     "data": {
      "text/plain": [
       "scipy.sparse.csr.csr_matrix"
      ]
     },
     "execution_count": 3,
     "metadata": {},
     "output_type": "execute_result"
    }
   ],
   "source": [
    "type(ratings)"
   ]
  },
  {
   "cell_type": "code",
   "execution_count": 4,
   "metadata": {},
   "outputs": [],
   "source": [
    "ratings = ratings.toarray()"
   ]
  },
  {
   "cell_type": "code",
   "execution_count": 5,
   "metadata": {},
   "outputs": [
    {
     "data": {
      "text/plain": [
       "(71869, 10000)"
      ]
     },
     "execution_count": 5,
     "metadata": {},
     "output_type": "execute_result"
    }
   ],
   "source": [
    "ratings.shape"
   ]
  },
  {
   "cell_type": "markdown",
   "metadata": {},
   "source": [
    "*ratings* -  np.array состоящий из нулей и единиц, где каждая строка соответсвует пользователю, а каждая колонка - книге.  \n",
    "1 - на пересечении строки i колонки j значит, что пользователь i прочитал книгу j. 0 - пользователь i не читал книгу j."
   ]
  },
  {
   "cell_type": "markdown",
   "metadata": {},
   "source": [
    "# Part 1"
   ]
  },
  {
   "cell_type": "markdown",
   "metadata": {},
   "source": [
    "### Task 1. Найти самую популярную книгу."
   ]
  },
  {
   "cell_type": "code",
   "execution_count": 8,
   "metadata": {},
   "outputs": [
    {
     "name": "stdout",
     "output_type": "stream",
     "text": [
      "most popular book = 20 (numeration from 0)\n"
     ]
    }
   ],
   "source": [
    "book_readers_count = ratings.sum(axis=0)\n",
    "most_popular_book = book_readers_count.argmax()\n",
    "print('most popular book = {} (numeration from 0)'.format(most_popular_book))"
   ]
  },
  {
   "cell_type": "markdown",
   "metadata": {},
   "source": [
    "### Task 2. Найти пользователя со второй по величине библиотекой."
   ]
  },
  {
   "cell_type": "code",
   "execution_count": 9,
   "metadata": {},
   "outputs": [
    {
     "name": "stdout",
     "output_type": "stream",
     "text": [
      "user_id with the second biggest library = 69648\n"
     ]
    }
   ],
   "source": [
    "readers_library = ratings.sum(axis=1)\n",
    "second_biggest_library = readers_library.argsort()[-2]\n",
    "print('user_id with the second biggest library = {}'.format(second_biggest_library))"
   ]
  },
  {
   "cell_type": "markdown",
   "metadata": {},
   "source": [
    "### Task 3. Найти среднее и медиану размера библиотеки."
   ]
  },
  {
   "cell_type": "code",
   "execution_count": 10,
   "metadata": {},
   "outputs": [
    {
     "name": "stdout",
     "output_type": "stream",
     "text": [
      "mean = 2.266693567463023\n",
      "median = 2.0\n"
     ]
    }
   ],
   "source": [
    "mean = readers_library.mean()\n",
    "print('mean = {}'.format(mean))\n",
    "\n",
    "median = np.median(readers_library)\n",
    "print('median = {}'.format(median))"
   ]
  },
  {
   "cell_type": "markdown",
   "metadata": {},
   "source": [
    "### Task 4. Найти медиану размера библиотеки у пользователей, которые прочитали книгу номер с id 100."
   ]
  },
  {
   "cell_type": "code",
   "execution_count": 11,
   "metadata": {},
   "outputs": [
    {
     "name": "stdout",
     "output_type": "stream",
     "text": [
      "Median number of books of users who read the book with id 100 = 3.0\n"
     ]
    }
   ],
   "source": [
    "readers_100_library = list((x.sum() for x in ratings if x[100] == 1))\n",
    "median_number = np.median(readers_100_library)\n",
    "print('Median number of books of users who read the book with id 100 = {}'.format(median_number))"
   ]
  },
  {
   "cell_type": "markdown",
   "metadata": {},
   "source": [
    "# Part 2"
   ]
  },
  {
   "cell_type": "markdown",
   "metadata": {},
   "source": [
    "### Task 1. Похожие книги.\n",
    "1. Найди 20 наиболее похожих книг для книги с id = 100. В качестве меры похожести используй cosine similarity. Используй наиболее быстрый вариант подсчета.\n",
    "  \n",
    "$$cosine\\ similarity = \\frac{A\\cdot B}{||A||\\ ||B||} = \\frac{\\sum_{i=1}^{n} A_iB_i}{\\sqrt{\\sum_{i=1}^{n}A_i^2}\\sqrt{\\sum_{i=1}^{n}B_i^2}}$$  \n",
    "  \n",
    "В качестве ответа верни список кортежей, где каждый кортеж представляет собой пару (book_id, similarity)."
   ]
  },
  {
   "cell_type": "code",
   "execution_count": 12,
   "metadata": {},
   "outputs": [],
   "source": [
    "# будем использовать говую библиотеку, которая наверняка оптимизирована и проверена временем\n",
    "# поэтому это более быстрый способ, чем если бы я писала это ручками)\n",
    "\n",
    "from scipy import spatial\n",
    "import math"
   ]
  },
  {
   "cell_type": "code",
   "execution_count": 13,
   "metadata": {},
   "outputs": [],
   "source": [
    "ratings_t = ratings.T"
   ]
  },
  {
   "cell_type": "code",
   "execution_count": 14,
   "metadata": {},
   "outputs": [
    {
     "name": "stdout",
     "output_type": "stream",
     "text": [
      "Количество пользователей, прочитавших книгу 100: 14\n"
     ]
    }
   ],
   "source": [
    "vector_100 = ratings_t[100]\n",
    "print('Количество пользователей, прочитавших книгу 100:', vector_100.sum())\n"
   ]
  },
  {
   "cell_type": "markdown",
   "metadata": {},
   "source": [
    "Если книга читаемая, то книги, которые не читались явно не будут ей близки. Поскольку пользователей много, то расстояние будет вычисляться долго. Значит, вычислять расстояние будем только тогда, когда книгу прочитал хотя бы 1 человек"
   ]
  },
  {
   "cell_type": "code",
   "execution_count": 15,
   "metadata": {},
   "outputs": [],
   "source": [
    "similarities = []\n",
    "# сразу запомним непрочитанные книги\n",
    "zero_books = [] \n",
    "for book in range(10000):\n",
    "    s = ratings_t[book].sum()\n",
    "    \n",
    "    if (s != 0):\n",
    "        similarity = 1 - spatial.distance.cosine(ratings_t[book], vector_100)\n",
    "        similarities.append((book, similarity))\n",
    "    else:\n",
    "        zero_books.append(book)"
   ]
  },
  {
   "cell_type": "code",
   "execution_count": 16,
   "metadata": {},
   "outputs": [
    {
     "name": "stdout",
     "output_type": "stream",
     "text": [
      "Closest books to 100:\n"
     ]
    },
    {
     "data": {
      "text/plain": [
       "[(5819, 0.2672612419124244),\n",
       " (5863, 0.2672612419124244),\n",
       " (5134, 0.18898223650461365),\n",
       " (2370, 0.13363062095621214),\n",
       " (3940, 0.13363062095621214),\n",
       " (5440, 0.13363062095621214),\n",
       " (3468, 0.10910894511799618),\n",
       " (5546, 0.08451542547285162),\n",
       " (214, 0.06482037235521643),\n",
       " (1495, 0.06482037235521643),\n",
       " (6, 0.048795003647426616),\n",
       " (528, 0.04454354031873742),\n",
       " (251, 0.03479445003196102),\n",
       " (836, 0.031943828249996975),\n",
       " (426, 0.030656966974248245),\n",
       " (312, 0.030261376633440085),\n",
       " (446, 0.025141822757713483),\n",
       " (73, 0.02126216277812809),\n",
       " (191, 0.01667129822620217),\n",
       " (76, 0.015667131465128104)]"
      ]
     },
     "execution_count": 16,
     "metadata": {},
     "output_type": "execute_result"
    }
   ],
   "source": [
    "books_result = list(filter(lambda x: x[0] != 100, similarities))\n",
    "books_result.sort(key=lambda x: x[1], reverse=True)\n",
    "print(\"Closest books to 100:\")\n",
    "books_result[:20]"
   ]
  },
  {
   "cell_type": "markdown",
   "metadata": {},
   "source": [
    "Посмотрим, нашлись ли непрочтенные книги"
   ]
  },
  {
   "cell_type": "code",
   "execution_count": 23,
   "metadata": {},
   "outputs": [
    {
     "data": {
      "text/plain": [
       "4071"
      ]
     },
     "execution_count": 23,
     "metadata": {},
     "output_type": "execute_result"
    }
   ],
   "source": [
    "len(zero_books)"
   ]
  },
  {
   "cell_type": "markdown",
   "metadata": {},
   "source": [
    "Довольно много непрочитанных книг. Значит, мы очень хорошо улучшили скорость подсчета вектора близостей для книг)))"
   ]
  },
  {
   "cell_type": "markdown",
   "metadata": {
    "collapsed": true
   },
   "source": [
    "# Part 3"
   ]
  },
  {
   "cell_type": "markdown",
   "metadata": {},
   "source": [
    "### Task 1. Матрица похожих книг (топ-20)."
   ]
  },
  {
   "cell_type": "markdown",
   "metadata": {},
   "source": [
    "Создать матрицу похожих книг (матрица 10000 x 10000) использую метрику *cosine similarity*. В каждой строке оставить только топ 20 самых похожих. Лучше написать функцию которая на вход получает матрицу рейтингов на выходе матрица похожих книг. Эту фунцкцию можно будет использовать в следующем задании."
   ]
  },
  {
   "cell_type": "markdown",
   "metadata": {},
   "source": [
    "Если книгу никто не читал, то бесполезно вычислять косинуное расстояние, поскольку оно везде будет nan (деление на 0, если все значения 0). Поэтому всем книгам, которые не были прочитаны ближайшими будем ставить непрочитанные книги (например, это новинки)"
   ]
  },
  {
   "cell_type": "code",
   "execution_count": 36,
   "metadata": {},
   "outputs": [],
   "source": [
    "# функция подсчета близости для одной книги\n",
    "def compute_book_similarity(id_book, rating, zero_books):\n",
    "    similarities = []\n",
    "    current_book = ratings_t[id_book]    \n",
    "    \n",
    "    \n",
    "    for book in range(10000):\n",
    "        if book not in zero_books:\n",
    "            similarity = 1 - spatial.distance.cosine(rating[book], current_book)\n",
    "            similarities.append((book, similarity))\n",
    "    \n",
    "    books_result = list(filter(lambda x: x[0] != id_book, similarities))\n",
    "    books_result.sort(key=lambda x: x[1], reverse=True)\n",
    "            \n",
    "    return books_result[:20]  \n",
    "    \n",
    "# функция определения матрицы близости\n",
    "def compute_sim_matrix(ratings, zero_books):  \n",
    "    r_t = ratings.T\n",
    "    matrix = []\n",
    "        \n",
    "    for book in range(10000):\n",
    "        similar_books = [0] * 10000\n",
    "        \n",
    "        if book not in zero_books:\n",
    "            similar = compute_book_similarity(book, r_t, zero_books)\n",
    "            \n",
    "            for i in range(20):\n",
    "                similar_books[similar[i][0]] = similar[i][1]\n",
    "        else:\n",
    "            # для непрочитанных книг определим 20 других непрочитанных книг\n",
    "            zero_books.remove(book)\n",
    "            other_books = random.choices(zero_books, k=20)\n",
    "            \n",
    "            # будем считать книги очень похожими, если их никто не прочитал            \n",
    "            for i in range (20):\n",
    "                similar_books[other_books[i]] = 1\n",
    "                \n",
    "            zero_books.append(book)\n",
    "            \n",
    "        matrix.append(similar_books)\n",
    "            "
   ]
  },
  {
   "cell_type": "code",
   "execution_count": null,
   "metadata": {},
   "outputs": [],
   "source": [
    "compute_sim_matrix(ratings, zero_books)"
   ]
  },
  {
   "cell_type": "markdown",
   "metadata": {},
   "source": [
    "### Task 2. Оценить рекомендательную систему."
   ]
  },
  {
   "cell_type": "markdown",
   "metadata": {},
   "source": [
    "Оценить качество рекомендательной системы, основанной на матрице похожих книг, использую метрики **precision** и **recall**. Рекомендации должны получаться путем умножения матрицы похожих книг на вектор пользователя.\n",
    "  \n",
    "**precison** - кол-во книг которые попали пользователю в рекомендации и он их действительно добавил делить на кол-во рекомендованных книг.\n",
    "  \n",
    "**recall** - кол-во книг которые попали пользователю в рекомендации и он их действительно добавил делить на кол-во книг добавленных пользователем. \n",
    "  \n",
    "Метрики считать на 20 самых лучших рекомендациях для каждого пользователя."
   ]
  },
  {
   "cell_type": "code",
   "execution_count": null,
   "metadata": {},
   "outputs": [],
   "source": []
  }
 ],
 "metadata": {
  "kernelspec": {
   "display_name": "Python 3",
   "language": "python",
   "name": "python3"
  },
  "language_info": {
   "codemirror_mode": {
    "name": "ipython",
    "version": 3
   },
   "file_extension": ".py",
   "mimetype": "text/x-python",
   "name": "python",
   "nbconvert_exporter": "python",
   "pygments_lexer": "ipython3",
   "version": "3.7.3"
  }
 },
 "nbformat": 4,
 "nbformat_minor": 1
}
