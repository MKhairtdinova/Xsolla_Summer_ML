{
 "cells": [
  {
   "cell_type": "code",
   "execution_count": 34,
   "metadata": {},
   "outputs": [
    {
     "data": {
      "text/html": [
       "        <script type=\"text/javascript\">\n",
       "        window.PlotlyConfig = {MathJaxConfig: 'local'};\n",
       "        if (window.MathJax) {MathJax.Hub.Config({SVG: {font: \"STIX-Web\"}});}\n",
       "        if (typeof require !== 'undefined') {\n",
       "        require.undef(\"plotly\");\n",
       "        requirejs.config({\n",
       "            paths: {\n",
       "                'plotly': ['https://cdn.plot.ly/plotly-latest.min']\n",
       "            }\n",
       "        });\n",
       "        require(['plotly'], function(Plotly) {\n",
       "            window._Plotly = Plotly;\n",
       "        });\n",
       "        }\n",
       "        </script>\n",
       "        "
      ]
     },
     "metadata": {},
     "output_type": "display_data"
    }
   ],
   "source": [
    "import pandas as pd\n",
    "import numpy as np\n",
    "import matplotlib.pyplot as plt\n",
    "from sklearn.ensemble import RandomForestClassifier\n",
    "from sklearn.model_selection import cross_validate , train_test_split , StratifiedShuffleSplit\n",
    "from sklearn import   linear_model, metrics\n",
    "from sklearn.linear_model import SGDClassifier as SGD\n",
    "\n",
    "import plotly.plotly as py\n",
    "import plotly.graph_objs as go\n",
    "from plotly.offline import download_plotlyjs, init_notebook_mode, plot, iplot\n",
    "init_notebook_mode(connected=True)\n",
    "import plotly.figure_factory as ff"
   ]
  },
  {
   "cell_type": "code",
   "execution_count": 2,
   "metadata": {},
   "outputs": [],
   "source": [
    "train_directory = \"data/train.csv\"\n",
    "\n",
    "train = pd.read_csv(train_directory, header=0 )\n",
    "\n",
    "train['y'] = [1 if y == 'yes' else 0 for y in train['y']]"
   ]
  },
  {
   "cell_type": "code",
   "execution_count": 3,
   "metadata": {},
   "outputs": [],
   "source": [
    "X = train[['age' , 'previous']][:]\n",
    "y = train['y'][:]"
   ]
  },
  {
   "cell_type": "code",
   "execution_count": 4,
   "metadata": {},
   "outputs": [],
   "source": [
    "classifier = RandomForestClassifier()"
   ]
  },
  {
   "cell_type": "code",
   "execution_count": 5,
   "metadata": {},
   "outputs": [],
   "source": [
    "train_data, test_data, train_labels, test_labels = train_test_split(X, y, \n",
    "                                                                                     test_size = 0.2)"
   ]
  },
  {
   "cell_type": "code",
   "execution_count": 6,
   "metadata": {},
   "outputs": [
    {
     "name": "stderr",
     "output_type": "stream",
     "text": [
      "C:\\Users\\User\\Anaconda3\\lib\\site-packages\\sklearn\\ensemble\\forest.py:246: FutureWarning:\n",
      "\n",
      "The default value of n_estimators will change from 10 in version 0.20 to 100 in 0.22.\n",
      "\n"
     ]
    },
    {
     "data": {
      "text/plain": [
       "RandomForestClassifier(bootstrap=True, class_weight=None, criterion='gini',\n",
       "            max_depth=None, max_features='auto', max_leaf_nodes=None,\n",
       "            min_impurity_decrease=0.0, min_impurity_split=None,\n",
       "            min_samples_leaf=1, min_samples_split=2,\n",
       "            min_weight_fraction_leaf=0.0, n_estimators=10, n_jobs=None,\n",
       "            oob_score=False, random_state=None, verbose=0,\n",
       "            warm_start=False)"
      ]
     },
     "execution_count": 6,
     "metadata": {},
     "output_type": "execute_result"
    }
   ],
   "source": [
    "classifier.fit(train_data , train_labels)"
   ]
  },
  {
   "cell_type": "code",
   "execution_count": 7,
   "metadata": {},
   "outputs": [],
   "source": [
    "pred_labels = classifier.predict(test_data)"
   ]
  },
  {
   "cell_type": "code",
   "execution_count": 8,
   "metadata": {},
   "outputs": [
    {
     "data": {
      "text/plain": [
       "0.5151995883891437"
      ]
     },
     "execution_count": 8,
     "metadata": {},
     "output_type": "execute_result"
    }
   ],
   "source": [
    "metrics.roc_auc_score(test_labels, pred_labels)"
   ]
  },
  {
   "cell_type": "markdown",
   "metadata": {},
   "source": [
    "# 1. Выводы по существующим данным и исходной модели\n",
    "\n",
    "В случае исходной модели обрабатывается только один признак - количество предыдущих платежей. Для большого количества данных одного признака недостаточно, поэтому и была получена плохая оценка качества модели ~0,5, что говорит о том, что модель предсказывает по методу \"пальцем в небо\". Сначала необходимо добавить больше признаков для нашей модели. \n",
    "\n",
    "Всего в сете 20 признаков + таргет, поэтому есть где разгуляться и добавить новые признаки"
   ]
  },
  {
   "cell_type": "code",
   "execution_count": 9,
   "metadata": {},
   "outputs": [
    {
     "name": "stdout",
     "output_type": "stream",
     "text": [
      "Имеющиеся признаки:  age; job; marital; education; default; housing; loan; contact; month; day_of_week; duration; campaign; pdays; previous; poutcome; emp.var.rate; cons.price.idx; cons.conf.idx; euribor3m; nr.employed; y\n",
      "Наличие null  False\n",
      "Наличие пустых значений  False\n"
     ]
    },
    {
     "data": {
      "text/html": [
       "<div>\n",
       "<style scoped>\n",
       "    .dataframe tbody tr th:only-of-type {\n",
       "        vertical-align: middle;\n",
       "    }\n",
       "\n",
       "    .dataframe tbody tr th {\n",
       "        vertical-align: top;\n",
       "    }\n",
       "\n",
       "    .dataframe thead th {\n",
       "        text-align: right;\n",
       "    }\n",
       "</style>\n",
       "<table border=\"1\" class=\"dataframe\">\n",
       "  <thead>\n",
       "    <tr style=\"text-align: right;\">\n",
       "      <th></th>\n",
       "      <th>age</th>\n",
       "      <th>job</th>\n",
       "      <th>marital</th>\n",
       "      <th>education</th>\n",
       "      <th>default</th>\n",
       "      <th>housing</th>\n",
       "      <th>loan</th>\n",
       "      <th>contact</th>\n",
       "      <th>month</th>\n",
       "      <th>day_of_week</th>\n",
       "      <th>...</th>\n",
       "      <th>campaign</th>\n",
       "      <th>pdays</th>\n",
       "      <th>previous</th>\n",
       "      <th>poutcome</th>\n",
       "      <th>emp.var.rate</th>\n",
       "      <th>cons.price.idx</th>\n",
       "      <th>cons.conf.idx</th>\n",
       "      <th>euribor3m</th>\n",
       "      <th>nr.employed</th>\n",
       "      <th>y</th>\n",
       "    </tr>\n",
       "  </thead>\n",
       "  <tbody>\n",
       "    <tr>\n",
       "      <th>0</th>\n",
       "      <td>30</td>\n",
       "      <td>blue-collar</td>\n",
       "      <td>married</td>\n",
       "      <td>basic.9y</td>\n",
       "      <td>no</td>\n",
       "      <td>yes</td>\n",
       "      <td>no</td>\n",
       "      <td>cellular</td>\n",
       "      <td>may</td>\n",
       "      <td>fri</td>\n",
       "      <td>...</td>\n",
       "      <td>2</td>\n",
       "      <td>999</td>\n",
       "      <td>0</td>\n",
       "      <td>nonexistent</td>\n",
       "      <td>-1.8</td>\n",
       "      <td>92.893</td>\n",
       "      <td>-46.2</td>\n",
       "      <td>1.313</td>\n",
       "      <td>5099.1</td>\n",
       "      <td>0</td>\n",
       "    </tr>\n",
       "    <tr>\n",
       "      <th>1</th>\n",
       "      <td>39</td>\n",
       "      <td>services</td>\n",
       "      <td>single</td>\n",
       "      <td>high.school</td>\n",
       "      <td>no</td>\n",
       "      <td>no</td>\n",
       "      <td>no</td>\n",
       "      <td>telephone</td>\n",
       "      <td>may</td>\n",
       "      <td>fri</td>\n",
       "      <td>...</td>\n",
       "      <td>4</td>\n",
       "      <td>999</td>\n",
       "      <td>0</td>\n",
       "      <td>nonexistent</td>\n",
       "      <td>1.1</td>\n",
       "      <td>93.994</td>\n",
       "      <td>-36.4</td>\n",
       "      <td>4.855</td>\n",
       "      <td>5191.0</td>\n",
       "      <td>0</td>\n",
       "    </tr>\n",
       "    <tr>\n",
       "      <th>2</th>\n",
       "      <td>25</td>\n",
       "      <td>services</td>\n",
       "      <td>married</td>\n",
       "      <td>high.school</td>\n",
       "      <td>no</td>\n",
       "      <td>yes</td>\n",
       "      <td>no</td>\n",
       "      <td>telephone</td>\n",
       "      <td>jun</td>\n",
       "      <td>wed</td>\n",
       "      <td>...</td>\n",
       "      <td>1</td>\n",
       "      <td>999</td>\n",
       "      <td>0</td>\n",
       "      <td>nonexistent</td>\n",
       "      <td>1.4</td>\n",
       "      <td>94.465</td>\n",
       "      <td>-41.8</td>\n",
       "      <td>4.962</td>\n",
       "      <td>5228.1</td>\n",
       "      <td>0</td>\n",
       "    </tr>\n",
       "    <tr>\n",
       "      <th>3</th>\n",
       "      <td>38</td>\n",
       "      <td>services</td>\n",
       "      <td>married</td>\n",
       "      <td>basic.9y</td>\n",
       "      <td>no</td>\n",
       "      <td>unknown</td>\n",
       "      <td>unknown</td>\n",
       "      <td>telephone</td>\n",
       "      <td>jun</td>\n",
       "      <td>fri</td>\n",
       "      <td>...</td>\n",
       "      <td>3</td>\n",
       "      <td>999</td>\n",
       "      <td>0</td>\n",
       "      <td>nonexistent</td>\n",
       "      <td>1.4</td>\n",
       "      <td>94.465</td>\n",
       "      <td>-41.8</td>\n",
       "      <td>4.959</td>\n",
       "      <td>5228.1</td>\n",
       "      <td>0</td>\n",
       "    </tr>\n",
       "    <tr>\n",
       "      <th>4</th>\n",
       "      <td>47</td>\n",
       "      <td>admin.</td>\n",
       "      <td>married</td>\n",
       "      <td>university.degree</td>\n",
       "      <td>no</td>\n",
       "      <td>yes</td>\n",
       "      <td>no</td>\n",
       "      <td>cellular</td>\n",
       "      <td>nov</td>\n",
       "      <td>mon</td>\n",
       "      <td>...</td>\n",
       "      <td>1</td>\n",
       "      <td>999</td>\n",
       "      <td>0</td>\n",
       "      <td>nonexistent</td>\n",
       "      <td>-0.1</td>\n",
       "      <td>93.200</td>\n",
       "      <td>-42.0</td>\n",
       "      <td>4.191</td>\n",
       "      <td>5195.8</td>\n",
       "      <td>0</td>\n",
       "    </tr>\n",
       "  </tbody>\n",
       "</table>\n",
       "<p>5 rows × 21 columns</p>\n",
       "</div>"
      ],
      "text/plain": [
       "   age          job  marital          education default  housing     loan  \\\n",
       "0   30  blue-collar  married           basic.9y      no      yes       no   \n",
       "1   39     services   single        high.school      no       no       no   \n",
       "2   25     services  married        high.school      no      yes       no   \n",
       "3   38     services  married           basic.9y      no  unknown  unknown   \n",
       "4   47       admin.  married  university.degree      no      yes       no   \n",
       "\n",
       "     contact month day_of_week  ...  campaign  pdays  previous     poutcome  \\\n",
       "0   cellular   may         fri  ...         2    999         0  nonexistent   \n",
       "1  telephone   may         fri  ...         4    999         0  nonexistent   \n",
       "2  telephone   jun         wed  ...         1    999         0  nonexistent   \n",
       "3  telephone   jun         fri  ...         3    999         0  nonexistent   \n",
       "4   cellular   nov         mon  ...         1    999         0  nonexistent   \n",
       "\n",
       "  emp.var.rate  cons.price.idx  cons.conf.idx  euribor3m  nr.employed  y  \n",
       "0         -1.8          92.893          -46.2      1.313       5099.1  0  \n",
       "1          1.1          93.994          -36.4      4.855       5191.0  0  \n",
       "2          1.4          94.465          -41.8      4.962       5228.1  0  \n",
       "3          1.4          94.465          -41.8      4.959       5228.1  0  \n",
       "4         -0.1          93.200          -42.0      4.191       5195.8  0  \n",
       "\n",
       "[5 rows x 21 columns]"
      ]
     },
     "execution_count": 9,
     "metadata": {},
     "output_type": "execute_result"
    }
   ],
   "source": [
    "train.shape\n",
    "print('Имеющиеся признаки: ', '; '.join(list(train)))\n",
    "print('Наличие null ', train.isnull().values.any())\n",
    "print('Наличие пустых значений ', train.isna().values.any())\n",
    "train.head()"
   ]
  },
  {
   "cell_type": "markdown",
   "metadata": {},
   "source": [
    "# 2. Подготовка данных\n",
    "Многие признаки имеют нечисловые значения, которые не могут обрабатываться. Поэтому нужно перевести их в числа"
   ]
  },
  {
   "cell_type": "code",
   "execution_count": 10,
   "metadata": {},
   "outputs": [
    {
     "name": "stdout",
     "output_type": "stream",
     "text": [
      "AGE : {18, 19, 20, 21, 22, 23, 24, 25, 26, 27, 28, 29, 30, 31, 32, 33, 34, 35, 36, 37, 38, 39, 40, 41, 42, 43, 44, 45, 46, 47, 48, 49, 50, 51, 52, 53, 54, 55, 56, 57, 58, 59, 60, 61, 62, 63, 64, 65, 66, 67, 68, 69, 70, 71, 72, 73, 74, 75, 76, 77, 78, 80, 81, 82, 85, 86, 88}\n",
      "\n",
      "JOB : {'student', 'blue-collar', 'management', 'self-employed', 'entrepreneur', 'retired', 'admin.', 'unknown', 'unemployed', 'housemaid', 'technician', 'services'}\n",
      "\n",
      "MARITAL : {'married', 'single', 'unknown', 'divorced'}\n",
      "\n",
      "EDUCATION : {'basic.9y', 'basic.4y', 'high.school', 'basic.6y', 'unknown', 'professional.course', 'university.degree'}\n",
      "\n",
      "DEFAULT : {'unknown', 'no'}\n",
      "\n",
      "HOUSING : {'yes', 'unknown', 'no'}\n",
      "\n",
      "LOAN : {'unknown', 'no', 'yes'}\n",
      "\n",
      "CONTACT : {'telephone', 'cellular'}\n",
      "\n",
      "MONTH : {'may', 'oct', 'jul', 'jun', 'mar', 'dec', 'sep', 'nov', 'apr', 'aug'}\n",
      "\n",
      "DAY_OF_WEEK : {'fri', 'thu', 'mon', 'wed', 'tue'}\n",
      "\n",
      "DURATION : {0, 4, 5, 6, 7, 8, 9, 10, 11, 12, 13, 14, 15, 16, 17, 18, 19, 20, 21, 22, 23, 24, 25, 26, 27, 28, 29, 30, 31, 32, 33, 34, 35, 36, 37, 38, 39, 40, 41, 42, 43, 44, 45, 46, 47, 48, 49, 50, 51, 52, 53, 54, 55, 56, 57, 58, 59, 60, 61, 62, 63, 64, 65, 66, 67, 68, 69, 70, 71, 72, 73, 74, 75, 76, 77, 78, 79, 80, 81, 82, 83, 84, 85, 86, 87, 88, 89, 90, 91, 92, 93, 94, 95, 96, 97, 98, 99, 100, 101, 102, 103, 104, 105, 106, 107, 108, 109, 110, 111, 112, 113, 114, 115, 116, 117, 118, 119, 120, 121, 122, 123, 124, 125, 126, 127, 128, 129, 130, 131, 132, 133, 134, 135, 136, 137, 138, 139, 140, 141, 142, 143, 144, 145, 146, 147, 148, 149, 150, 151, 152, 153, 154, 155, 156, 157, 158, 159, 160, 161, 162, 163, 164, 165, 166, 167, 168, 169, 170, 171, 172, 173, 174, 175, 176, 177, 178, 179, 180, 181, 182, 183, 184, 185, 186, 187, 188, 189, 190, 191, 192, 193, 194, 195, 196, 197, 198, 199, 200, 201, 202, 203, 204, 205, 206, 207, 208, 209, 210, 211, 212, 213, 214, 215, 216, 217, 218, 219, 220, 221, 222, 223, 224, 225, 226, 227, 228, 229, 230, 231, 232, 233, 234, 235, 236, 237, 238, 239, 240, 241, 242, 243, 244, 245, 246, 247, 248, 249, 250, 251, 252, 253, 2301, 255, 256, 257, 258, 259, 260, 261, 262, 263, 264, 265, 266, 267, 268, 269, 270, 271, 272, 273, 274, 275, 276, 278, 279, 280, 281, 282, 283, 284, 285, 286, 287, 288, 289, 290, 291, 292, 293, 294, 295, 296, 297, 298, 299, 300, 301, 302, 303, 304, 305, 306, 307, 308, 309, 310, 311, 312, 313, 314, 315, 316, 317, 318, 319, 320, 321, 322, 323, 324, 325, 326, 327, 328, 329, 330, 331, 332, 333, 334, 335, 336, 337, 338, 339, 340, 341, 342, 343, 344, 345, 346, 347, 348, 349, 351, 352, 353, 354, 355, 356, 357, 358, 359, 360, 361, 362, 363, 364, 365, 366, 367, 368, 369, 370, 371, 372, 373, 374, 375, 377, 378, 379, 381, 382, 383, 384, 385, 386, 387, 388, 389, 390, 391, 393, 394, 395, 396, 397, 398, 399, 400, 401, 402, 403, 404, 405, 406, 407, 408, 409, 411, 412, 413, 414, 415, 417, 418, 419, 420, 421, 422, 423, 424, 426, 427, 428, 429, 430, 431, 432, 433, 434, 435, 436, 438, 439, 440, 441, 442, 446, 447, 448, 449, 451, 452, 453, 454, 455, 456, 457, 458, 459, 460, 461, 464, 468, 469, 470, 471, 473, 474, 475, 476, 477, 479, 480, 481, 482, 483, 484, 485, 486, 487, 488, 489, 490, 492, 493, 494, 496, 497, 498, 499, 501, 502, 503, 504, 505, 506, 507, 508, 509, 511, 513, 514, 517, 519, 523, 525, 526, 527, 529, 530, 531, 532, 533, 534, 536, 539, 541, 542, 543, 544, 545, 546, 548, 549, 550, 551, 553, 556, 557, 562, 565, 566, 567, 568, 569, 570, 571, 575, 577, 578, 581, 582, 584, 585, 587, 588, 589, 590, 591, 592, 595, 596, 599, 600, 602, 604, 605, 2653, 606, 608, 609, 607, 611, 614, 616, 617, 618, 619, 626, 628, 629, 630, 632, 633, 634, 636, 637, 638, 640, 641, 643, 644, 645, 646, 649, 650, 651, 653, 655, 659, 662, 663, 665, 667, 668, 671, 673, 674, 675, 677, 679, 683, 686, 687, 688, 689, 690, 693, 696, 697, 698, 699, 700, 701, 704, 706, 711, 712, 713, 715, 716, 718, 721, 722, 723, 725, 727, 728, 738, 739, 740, 742, 747, 748, 749, 750, 754, 758, 760, 762, 764, 766, 767, 768, 769, 771, 772, 775, 776, 780, 781, 789, 796, 797, 799, 800, 802, 806, 807, 809, 813, 818, 820, 823, 825, 829, 835, 837, 838, 840, 843, 846, 848, 849, 854, 855, 857, 861, 867, 868, 869, 873, 886, 888, 891, 892, 894, 898, 901, 903, 919, 938, 941, 951, 952, 955, 958, 979, 984, 988, 992, 997, 999, 1002, 1005, 1009, 1011, 1013, 1014, 1019, 1045, 1046, 1058, 1062, 1065, 1067, 1068, 1076, 1090, 1091, 1092, 1105, 1111, 1114, 1119, 1127, 1130, 1132, 1138, 1143, 1148, 1149, 1150, 1152, 1161, 1167, 1170, 1171, 1176, 1183, 1185, 1186, 1203, 3253, 1207, 1221, 1234, 1241, 1276, 254, 1319, 1327, 1334, 1340, 1348, 1353, 1357, 1360, 1432, 1441, 1447, 1476, 1551, 3643, 1628, 1720, 1806, 1855, 1868}\n",
      "\n",
      "CAMPAIGN : {1, 2, 3, 4, 5, 6, 7, 8, 9, 10, 11, 12, 13, 14, 15, 16, 17, 18, 19, 22, 23, 24, 27, 35}\n",
      "\n",
      "PDAYS : {0, 1, 2, 3, 4, 5, 6, 999, 7, 9, 10, 11, 12, 15, 16, 18, 19}\n",
      "\n",
      "PREVIOUS : {0, 1, 2, 3, 4, 5, 6}\n",
      "\n",
      "POUTCOME : {'nonexistent', 'failure', 'success'}\n",
      "\n",
      "EMP.VAR.RATE : {-0.1, 1.1, 1.4, -0.2, -1.8, -1.7, -3.0, -3.4, -2.9, -1.1}\n",
      "\n",
      "CONS.PRICE.IDX : {93.79799999999999, 92.89299999999999, 92.20100000000001, 92.649, 92.713, 92.756, 93.369, 93.749, 93.075, 93.994, 93.876, 94.465, 94.199, 94.215, 92.469, 92.84299999999999, 94.055, 94.76700000000001, 92.963, 94.601, 92.37899999999999, 92.431, 93.2, 93.91799999999999, 93.444, 94.027}\n",
      "\n",
      "CONS.CONF.IDX : {-40.3, -40.0, -40.4, -50.0, -49.5, -50.8, -47.1, -46.2, -45.9, -42.0, -41.8, -40.8, -42.7, -39.8, -38.3, -36.1, -37.5, -34.6, -36.4, -34.8, -33.6, -31.4, -29.8, -30.1, -33.0, -26.9}\n",
      "\n",
      "EURIBOR3M : {0.879, 1.3130000000000002, 0.639, 1.327, 4.959, 4.191, 4.855, 4.962, 4.1530000000000005, 4.958, 4.968, 4.859, 4.963, 4.957, 1.25, 1.811, 4.0760000000000005, 1.244, 1.0, 0.677, 0.767, 0.953, 0.6679999999999999, 0.982, 1.2990000000000002, 1.0490000000000002, 1.043, 1.046, 0.636, 1.7990000000000002, 0.851, 0.79, 0.7290000000000001, 1.354, 1.479, 1.415, 0.9440000000000001, 0.8190000000000001, 1.726, 0.755, 1.04, 0.659, 0.72, 4.967, 4.86, 4.592, 4.97, 4.8660000000000005, 4.9639999999999995, 1.281, 4.857, 1.531, 1.406, 1.031, 0.843, 0.7170000000000001, 0.778, 1.028, 1.778, 1.4, 0.682, 1.65, 0.7240000000000001, 0.737, 0.987, 1.266, 0.8590000000000001, 0.731, 0.885, 0.6990000000000001, 0.635, 4.961, 1.26, 4.955, 1.51, 0.914, 1.757, 0.754, 0.8759999999999999, 1.6869999999999998, 1.629, 0.748, 0.873, 0.937, 0.838, 0.652, 0.742, 0.8029999999999999, 1.4980000000000002, 1.0590000000000002, 0.7390000000000001, 0.861, 4.864, 1.05, 4.12, 4.794, 0.64, 4.245, 0.8290000000000001, 1.614, 0.73, 1.291, 1.483, 1.041, 0.695, 0.8809999999999999, 1.6019999999999999, 1.044, 1.41, 1.035, 1.224, 0.9420000000000001, 0.878, 1.099, 1.663, 0.6920000000000001, 1.538, 0.884, 0.654, 0.7020000000000001, 0.904, 0.715, 0.773, 0.898, 0.977, 0.9, 0.7040000000000001, 1.032, 0.6829999999999999, 4.965, 4.8580000000000005, 1.0290000000000001, 4.343, 0.8690000000000001, 0.741, 1.215, 4.663, 0.77, 0.9590000000000001, 0.8340000000000001, 0.645, 0.706, 1.334, 1.392, 1.27, 0.735, 0.7090000000000001, 0.9209999999999999, 1.52, 0.8859999999999999, 0.825, 0.7, 0.889, 0.7609999999999999, 1.453, 1.264, 1.703, 4.921, 0.883, 0.6970000000000001, 1.072, 0.877, 0.752, 4.947, 1.252, 4.956, 0.81, 0.7490000000000001, 1.435, 0.7140000000000001, 0.65, 0.74, 1.365, 0.644, 1.3719999999999999, 1.048, 1.423, 0.8270000000000001, 0.728, 4.856, 4.865, 0.882, 5.045, 0.722, 1.0390000000000001, 0.782, 3.853, 0.716, 0.905, 0.7190000000000001, 0.655, 1.344, 1.405, 1.466, 0.809, 0.87, 1.03, 0.899, 0.835, 0.8959999999999999, 0.71, 0.6459999999999999, 1.085, 0.649, 0.7709999999999999, 3.3289999999999997, 0.7070000000000001, 0.893, 0.643, 4.966, 1.268, 4.96, 4.021, 0.797, 0.846, 1.64, 0.637, 0.762, 1.262, 0.7879999999999999, 1.2590000000000001, 1.445, 1.3840000000000001, 0.8490000000000001}\n",
      "\n",
      "NR.EMPLOYED : {4963.6, 5191.0, 5195.8, 5099.1, 5228.1, 5008.7, 5076.2, 5023.5, 5017.5, 5176.3, 4991.6}\n",
      "\n",
      "Y : {0, 1}\n",
      "\n"
     ]
    }
   ],
   "source": [
    "for feature in list(train):\n",
    "    values = set(train[feature])\n",
    "    print(feature.upper(), ':', values)\n",
    "    print()\n"
   ]
  },
  {
   "cell_type": "markdown",
   "metadata": {},
   "source": [
    "Конечное множество строковых значений принимают фичи: job, marital, education, default, housing, loan, contact, month, day_of_week, poutcome. \n",
    "\n",
    "Пронумеруем все значения в множестве и заменим на порядковый номер все значения. За 0 примем во всех фичах значение 'unknown'"
   ]
  },
  {
   "cell_type": "code",
   "execution_count": 11,
   "metadata": {},
   "outputs": [
    {
     "data": {
      "text/html": [
       "<div>\n",
       "<style scoped>\n",
       "    .dataframe tbody tr th:only-of-type {\n",
       "        vertical-align: middle;\n",
       "    }\n",
       "\n",
       "    .dataframe tbody tr th {\n",
       "        vertical-align: top;\n",
       "    }\n",
       "\n",
       "    .dataframe thead th {\n",
       "        text-align: right;\n",
       "    }\n",
       "</style>\n",
       "<table border=\"1\" class=\"dataframe\">\n",
       "  <thead>\n",
       "    <tr style=\"text-align: right;\">\n",
       "      <th></th>\n",
       "      <th>age</th>\n",
       "      <th>job</th>\n",
       "      <th>marital</th>\n",
       "      <th>education</th>\n",
       "      <th>default</th>\n",
       "      <th>housing</th>\n",
       "      <th>loan</th>\n",
       "      <th>contact</th>\n",
       "      <th>month</th>\n",
       "      <th>day_of_week</th>\n",
       "      <th>...</th>\n",
       "      <th>campaign</th>\n",
       "      <th>pdays</th>\n",
       "      <th>previous</th>\n",
       "      <th>poutcome</th>\n",
       "      <th>emp.var.rate</th>\n",
       "      <th>cons.price.idx</th>\n",
       "      <th>cons.conf.idx</th>\n",
       "      <th>euribor3m</th>\n",
       "      <th>nr.employed</th>\n",
       "      <th>y</th>\n",
       "    </tr>\n",
       "  </thead>\n",
       "  <tbody>\n",
       "    <tr>\n",
       "      <th>0</th>\n",
       "      <td>30</td>\n",
       "      <td>7</td>\n",
       "      <td>1</td>\n",
       "      <td>3</td>\n",
       "      <td>1</td>\n",
       "      <td>2</td>\n",
       "      <td>1</td>\n",
       "      <td>1</td>\n",
       "      <td>5</td>\n",
       "      <td>5</td>\n",
       "      <td>...</td>\n",
       "      <td>2</td>\n",
       "      <td>999</td>\n",
       "      <td>0</td>\n",
       "      <td>0</td>\n",
       "      <td>-1.8</td>\n",
       "      <td>92.893</td>\n",
       "      <td>-46.2</td>\n",
       "      <td>1.313</td>\n",
       "      <td>5099.1</td>\n",
       "      <td>0</td>\n",
       "    </tr>\n",
       "    <tr>\n",
       "      <th>1</th>\n",
       "      <td>39</td>\n",
       "      <td>2</td>\n",
       "      <td>2</td>\n",
       "      <td>4</td>\n",
       "      <td>1</td>\n",
       "      <td>1</td>\n",
       "      <td>1</td>\n",
       "      <td>2</td>\n",
       "      <td>5</td>\n",
       "      <td>5</td>\n",
       "      <td>...</td>\n",
       "      <td>4</td>\n",
       "      <td>999</td>\n",
       "      <td>0</td>\n",
       "      <td>0</td>\n",
       "      <td>1.1</td>\n",
       "      <td>93.994</td>\n",
       "      <td>-36.4</td>\n",
       "      <td>4.855</td>\n",
       "      <td>5191.0</td>\n",
       "      <td>0</td>\n",
       "    </tr>\n",
       "    <tr>\n",
       "      <th>2</th>\n",
       "      <td>25</td>\n",
       "      <td>2</td>\n",
       "      <td>1</td>\n",
       "      <td>4</td>\n",
       "      <td>1</td>\n",
       "      <td>2</td>\n",
       "      <td>1</td>\n",
       "      <td>2</td>\n",
       "      <td>6</td>\n",
       "      <td>3</td>\n",
       "      <td>...</td>\n",
       "      <td>1</td>\n",
       "      <td>999</td>\n",
       "      <td>0</td>\n",
       "      <td>0</td>\n",
       "      <td>1.4</td>\n",
       "      <td>94.465</td>\n",
       "      <td>-41.8</td>\n",
       "      <td>4.962</td>\n",
       "      <td>5228.1</td>\n",
       "      <td>0</td>\n",
       "    </tr>\n",
       "    <tr>\n",
       "      <th>3</th>\n",
       "      <td>38</td>\n",
       "      <td>2</td>\n",
       "      <td>1</td>\n",
       "      <td>3</td>\n",
       "      <td>1</td>\n",
       "      <td>0</td>\n",
       "      <td>0</td>\n",
       "      <td>2</td>\n",
       "      <td>6</td>\n",
       "      <td>5</td>\n",
       "      <td>...</td>\n",
       "      <td>3</td>\n",
       "      <td>999</td>\n",
       "      <td>0</td>\n",
       "      <td>0</td>\n",
       "      <td>1.4</td>\n",
       "      <td>94.465</td>\n",
       "      <td>-41.8</td>\n",
       "      <td>4.959</td>\n",
       "      <td>5228.1</td>\n",
       "      <td>0</td>\n",
       "    </tr>\n",
       "    <tr>\n",
       "      <th>4</th>\n",
       "      <td>47</td>\n",
       "      <td>4</td>\n",
       "      <td>1</td>\n",
       "      <td>6</td>\n",
       "      <td>1</td>\n",
       "      <td>2</td>\n",
       "      <td>1</td>\n",
       "      <td>1</td>\n",
       "      <td>11</td>\n",
       "      <td>1</td>\n",
       "      <td>...</td>\n",
       "      <td>1</td>\n",
       "      <td>999</td>\n",
       "      <td>0</td>\n",
       "      <td>0</td>\n",
       "      <td>-0.1</td>\n",
       "      <td>93.200</td>\n",
       "      <td>-42.0</td>\n",
       "      <td>4.191</td>\n",
       "      <td>5195.8</td>\n",
       "      <td>0</td>\n",
       "    </tr>\n",
       "  </tbody>\n",
       "</table>\n",
       "<p>5 rows × 21 columns</p>\n",
       "</div>"
      ],
      "text/plain": [
       "   age  job  marital  education  default  housing  loan  contact  month  \\\n",
       "0   30    7        1          3        1        2     1        1      5   \n",
       "1   39    2        2          4        1        1     1        2      5   \n",
       "2   25    2        1          4        1        2     1        2      6   \n",
       "3   38    2        1          3        1        0     0        2      6   \n",
       "4   47    4        1          6        1        2     1        1     11   \n",
       "\n",
       "  day_of_week  ...  campaign  pdays  previous  poutcome  emp.var.rate  \\\n",
       "0           5  ...         2    999         0         0          -1.8   \n",
       "1           5  ...         4    999         0         0           1.1   \n",
       "2           3  ...         1    999         0         0           1.4   \n",
       "3           5  ...         3    999         0         0           1.4   \n",
       "4           1  ...         1    999         0         0          -0.1   \n",
       "\n",
       "   cons.price.idx  cons.conf.idx  euribor3m  nr.employed  y  \n",
       "0          92.893          -46.2      1.313       5099.1  0  \n",
       "1          93.994          -36.4      4.855       5191.0  0  \n",
       "2          94.465          -41.8      4.962       5228.1  0  \n",
       "3          94.465          -41.8      4.959       5228.1  0  \n",
       "4          93.200          -42.0      4.191       5195.8  0  \n",
       "\n",
       "[5 rows x 21 columns]"
      ]
     },
     "execution_count": 11,
     "metadata": {},
     "output_type": "execute_result"
    }
   ],
   "source": [
    "# замена 'job'\n",
    "job_values = ['technician', 'services', 'self-employed',\n",
    "              'admin.', 'retired', 'management', \n",
    "              'blue-collar', 'housemaid', 'unemployed',\n",
    "              'student', 'entrepreneur', 'unknown']\n",
    "\n",
    "job_numbers = [1, 2, 3,\n",
    "              4, 5, 6,\n",
    "              7, 8, 9,\n",
    "              10, 11, 0]\n",
    "\n",
    "train['job'] = train['job'].replace(job_values, job_numbers)\n",
    "\n",
    "# замена 'marital'\n",
    "marital_values = ['unknown', 'married', 'single', 'divorced']\n",
    "marital_numbers = [0, 1, 2, 3]\n",
    "\n",
    "train['marital'] = train['marital'].replace(marital_values, marital_numbers)\n",
    "\n",
    "# замена 'education'\n",
    "edu_values = ['basic.4y', 'basic.6y', 'basic.9y',\n",
    "              'high.school',  'professional.course', 'university.degree', 'unknown']\n",
    "edu_numbers = [1, 2, 3, 4, 5, 6, 0]\n",
    "\n",
    "train['education'] = train['education'].replace(edu_values, edu_numbers)\n",
    "\n",
    "# замена 'default'\n",
    "default_values = ['no', 'unknown']\n",
    "default_numbers = [1, 0]\n",
    "\n",
    "train['default'] = train['default'].replace(default_values, default_numbers)\n",
    "\n",
    "# замена 'housing'\n",
    "house_values = ['no', 'yes', 'unknown']\n",
    "house_numbers = [1, 2, 0]\n",
    "\n",
    "train['housing'] = train['housing'].replace(house_values, house_numbers)\n",
    "\n",
    "# замена 'loan'\n",
    "loan_values = ['no', 'yes', 'unknown']\n",
    "loan_numbers = [1, 2, 0]\n",
    "\n",
    "train['loan'] = train['loan'].replace(loan_values, loan_numbers)\n",
    "\n",
    "# замена 'contact'\n",
    "contact_values = ['cellular', 'telephone']\n",
    "contact_numbers = [1, 2]\n",
    "\n",
    "train['contact'] = train['contact'].replace(contact_values, contact_numbers)\n",
    "\n",
    "# замена 'month'\n",
    "# возьмем все месяцы, даже если их нет в выборке\n",
    "month_values = ['jan', 'feb', 'mar', 'apr', 'may', 'jun', 'jul', 'aug', 'sep', 'oct', 'nov', 'dec']\n",
    "month_numbers = [1, 2, 3, 4, 5, 6, 7, 8, 9, 10, 11, 12]\n",
    "\n",
    "train['month'] = train['month'].replace(month_values, month_numbers)\n",
    "\n",
    "# замена 'day_of_week'\n",
    "# возьмем все дни, даже если их нет в выборке\n",
    "day_values = ['mon', 'tue', 'wed', 'thu', 'fri', 'sat', 'sun']\n",
    "day_numbers = [1, 2, 3, 4, 5, 6, 7]\n",
    "\n",
    "train['day_of_week'] = train['day_of_week'].replace(day_values, day_numbers)\n",
    "\n",
    "# замена 'poutcome'\n",
    "outcome_values = ['success', 'nonexistent', 'failure']\n",
    "outcome_numbers = [1, 0, -1]\n",
    "\n",
    "train['poutcome'] = train['poutcome'].replace(outcome_values, outcome_numbers)\n",
    "\n",
    "train.head()"
   ]
  },
  {
   "cell_type": "markdown",
   "metadata": {},
   "source": [
    "# 3. Попытки улучшить модель\n",
    "## 3.1. Методом \"в лоб\"\n",
    "Возьмем все имеющиеся признаки (почему бы и нет, если их количество не сильно велико), а затем будем постепенно их удалять и наблюдать за изменением качества модели "
   ]
  },
  {
   "cell_type": "code",
   "execution_count": 27,
   "metadata": {},
   "outputs": [],
   "source": [
    "X = train[:][:]\n",
    "X = X.drop('y', axis=1)\n",
    "y = train['y'][:]"
   ]
  },
  {
   "cell_type": "code",
   "execution_count": 13,
   "metadata": {},
   "outputs": [
    {
     "data": {
      "text/plain": [
       "0.8968424541819038"
      ]
     },
     "execution_count": 13,
     "metadata": {},
     "output_type": "execute_result"
    }
   ],
   "source": [
    "sss = StratifiedShuffleSplit(n_splits=5, test_size=0.3, random_state=0)\n",
    "\n",
    "scores_rf = cross_validate(classifier, X, y, scoring='roc_auc', cv=sss)\n",
    "\n",
    "scores_rf['test_score'].mean()"
   ]
  },
  {
   "cell_type": "code",
   "execution_count": 14,
   "metadata": {},
   "outputs": [
    {
     "data": {
      "text/plain": [
       "0.8825816385449414"
      ]
     },
     "execution_count": 14,
     "metadata": {},
     "output_type": "execute_result"
    }
   ],
   "source": [
    "sgd = SGD(max_iter=1000, tol=1e-3)\n",
    "\n",
    "scores_sgd = cross_validate(sgd, X, y, scoring='roc_auc', cv=sss)\n",
    "scores_sgd['test_score'].mean()"
   ]
  },
  {
   "cell_type": "markdown",
   "metadata": {},
   "source": [
    "## 3.2. Фильтрация признаков\n",
    "\n",
    "### 3.2.1. Проверка зависимости таргета от признака\n",
    "Определим влияние признака на значение целевого параметра"
   ]
  },
  {
   "cell_type": "code",
   "execution_count": 15,
   "metadata": {},
   "outputs": [
    {
     "data": {
      "application/vnd.plotly.v1+json": {
       "config": {
        "linkText": "Export to plot.ly",
        "plotlyServerURL": "https://plot.ly",
        "showLink": false
       },
       "data": [
        {
         "type": "bar",
         "uid": "461843b1-805a-4875-b9d3-64da66ae57f5",
         "x": [
          "age",
          "job",
          "marital",
          "education",
          "default",
          "housing",
          "loan",
          "contact",
          "month",
          "day_of_week",
          "duration",
          "campaign",
          "pdays",
          "previous",
          "poutcome",
          "emp.var.rate",
          "cons.price.idx",
          "cons.conf.idx",
          "euribor3m",
          "nr.employed"
         ],
         "y": [
          0.053425164262011306,
          -0.012879199934497189,
          0.03165707813514039,
          0.0334041417997927,
          0.0689766927748519,
          -0.0014047410997329133,
          -0.0015503286842527028,
          -0.13252912295426364,
          0.039807247956315475,
          -0.015079539991408023,
          0.4335956815283212,
          -0.07992847286607391,
          -0.3446079298854697,
          0.2681341455552345,
          0.1259785338901149,
          -0.2598340590159534,
          -0.06577431259801515,
          0.03476802141162723,
          -0.27837521730824333,
          -0.3322809449913553
         ]
        }
       ],
       "layout": {}
      },
      "text/html": [
       "<div>\n",
       "        \n",
       "        \n",
       "            <div id=\"ffb4f437-8c29-4dce-990f-0d8f3bee07c4\" class=\"plotly-graph-div\" style=\"height:525px; width:100%;\"></div>\n",
       "            <script type=\"text/javascript\">\n",
       "                require([\"plotly\"], function(Plotly) {\n",
       "                    window.PLOTLYENV=window.PLOTLYENV || {};\n",
       "                    window.PLOTLYENV.BASE_URL='https://plot.ly';\n",
       "                    \n",
       "                if (document.getElementById(\"ffb4f437-8c29-4dce-990f-0d8f3bee07c4\")) {\n",
       "                    Plotly.newPlot(\n",
       "                        'ffb4f437-8c29-4dce-990f-0d8f3bee07c4',\n",
       "                        [{\"type\": \"bar\", \"uid\": \"461843b1-805a-4875-b9d3-64da66ae57f5\", \"x\": [\"age\", \"job\", \"marital\", \"education\", \"default\", \"housing\", \"loan\", \"contact\", \"month\", \"day_of_week\", \"duration\", \"campaign\", \"pdays\", \"previous\", \"poutcome\", \"emp.var.rate\", \"cons.price.idx\", \"cons.conf.idx\", \"euribor3m\", \"nr.employed\"], \"y\": [0.053425164262011306, -0.012879199934497189, 0.03165707813514039, 0.0334041417997927, 0.0689766927748519, -0.0014047410997329133, -0.0015503286842527028, -0.13252912295426364, 0.039807247956315475, -0.015079539991408023, 0.4335956815283212, -0.07992847286607391, -0.3446079298854697, 0.2681341455552345, 0.1259785338901149, -0.2598340590159534, -0.06577431259801515, 0.03476802141162723, -0.27837521730824333, -0.3322809449913553]}],\n",
       "                        {},\n",
       "                        {\"showLink\": false, \"linkText\": \"Export to plot.ly\", \"plotlyServerURL\": \"https://plot.ly\", \"responsive\": true}\n",
       "                    ).then(function(){\n",
       "                            \n",
       "var gd = document.getElementById('ffb4f437-8c29-4dce-990f-0d8f3bee07c4');\n",
       "var x = new MutationObserver(function (mutations, observer) {{\n",
       "        var display = window.getComputedStyle(gd).display;\n",
       "        if (!display || display === 'none') {{\n",
       "            console.log([gd, 'removed!']);\n",
       "            Plotly.purge(gd);\n",
       "            observer.disconnect();\n",
       "        }}\n",
       "}});\n",
       "\n",
       "// Listen for the removal of the full notebook cells\n",
       "var notebookContainer = gd.closest('#notebook-container');\n",
       "if (notebookContainer) {{\n",
       "    x.observe(notebookContainer, {childList: true});\n",
       "}}\n",
       "\n",
       "// Listen for the clearing of the current output cell\n",
       "var outputEl = gd.closest('.output');\n",
       "if (outputEl) {{\n",
       "    x.observe(outputEl, {childList: true});\n",
       "}}\n",
       "\n",
       "                        })\n",
       "                };\n",
       "                });\n",
       "            </script>\n",
       "        </div>"
      ]
     },
     "metadata": {},
     "output_type": "display_data"
    }
   ],
   "source": [
    "features = list(train)\n",
    "features.remove('y')\n",
    "target = list(train['y'])\n",
    "\n",
    "corr_values = {}\n",
    "for feature in features:      \n",
    "    corr_values[feature] = train['y'].astype('float64').corr(train[feature].astype('float64'))\n",
    "\n",
    "data = [go.Bar(y=list(corr_values.values()), x=list(corr_values.keys()))]\n",
    "\n",
    "iplot(data)"
   ]
  },
  {
   "cell_type": "markdown",
   "metadata": {},
   "source": [
    "Большая (по модулю) корреляция обнаружена на признаках duration, pdays, previous, emp.var.rate, euribor3m и nr.employed. Попробуем составить классификацию по этим признакам"
   ]
  },
  {
   "cell_type": "code",
   "execution_count": 32,
   "metadata": {},
   "outputs": [],
   "source": [
    "X = train[['duration', 'pdays', 'previous', 'emp.var.rate', 'euribor3m', 'nr.employed']]\n",
    "y = train['y']"
   ]
  },
  {
   "cell_type": "code",
   "execution_count": 17,
   "metadata": {},
   "outputs": [
    {
     "data": {
      "text/plain": [
       "0.8705972926156413"
      ]
     },
     "execution_count": 17,
     "metadata": {},
     "output_type": "execute_result"
    }
   ],
   "source": [
    "sss = StratifiedShuffleSplit(n_splits=5, test_size=0.3, random_state=0)\n",
    "\n",
    "scores_rf = cross_validate(classifier, X, y, scoring='roc_auc', cv=sss)\n",
    "\n",
    "scores_rf['test_score'].mean()"
   ]
  },
  {
   "cell_type": "code",
   "execution_count": 18,
   "metadata": {},
   "outputs": [
    {
     "data": {
      "text/plain": [
       "0.8814546309959154"
      ]
     },
     "execution_count": 18,
     "metadata": {},
     "output_type": "execute_result"
    }
   ],
   "source": [
    "sgd = SGD(max_iter=1000, tol=1e-3)\n",
    "\n",
    "scores_sgd = cross_validate(sgd, X, y, scoring='roc_auc', cv=sss)\n",
    "scores_sgd['test_score'].mean()"
   ]
  },
  {
   "cell_type": "markdown",
   "metadata": {},
   "source": [
    "### 3.2.2. Определение взаимосвязанных признаков"
   ]
  },
  {
   "cell_type": "code",
   "execution_count": 35,
   "metadata": {},
   "outputs": [
    {
     "data": {
      "text/html": [
       "<div>\n",
       "<style scoped>\n",
       "    .dataframe tbody tr th:only-of-type {\n",
       "        vertical-align: middle;\n",
       "    }\n",
       "\n",
       "    .dataframe tbody tr th {\n",
       "        vertical-align: top;\n",
       "    }\n",
       "\n",
       "    .dataframe thead th {\n",
       "        text-align: right;\n",
       "    }\n",
       "</style>\n",
       "<table border=\"1\" class=\"dataframe\">\n",
       "  <thead>\n",
       "    <tr style=\"text-align: right;\">\n",
       "      <th></th>\n",
       "      <th>age</th>\n",
       "      <th>job</th>\n",
       "      <th>marital</th>\n",
       "      <th>education</th>\n",
       "      <th>default</th>\n",
       "      <th>housing</th>\n",
       "      <th>loan</th>\n",
       "      <th>contact</th>\n",
       "      <th>month</th>\n",
       "      <th>duration</th>\n",
       "      <th>campaign</th>\n",
       "      <th>pdays</th>\n",
       "      <th>previous</th>\n",
       "      <th>poutcome</th>\n",
       "      <th>emp.var.rate</th>\n",
       "      <th>cons.price.idx</th>\n",
       "      <th>cons.conf.idx</th>\n",
       "      <th>euribor3m</th>\n",
       "      <th>nr.employed</th>\n",
       "    </tr>\n",
       "  </thead>\n",
       "  <tbody>\n",
       "    <tr>\n",
       "      <th>age</th>\n",
       "      <td>1.000000</td>\n",
       "      <td>0.032453</td>\n",
       "      <td>-0.120606</td>\n",
       "      <td>-0.167913</td>\n",
       "      <td>-0.166931</td>\n",
       "      <td>-0.007873</td>\n",
       "      <td>0.001910</td>\n",
       "      <td>0.024893</td>\n",
       "      <td>0.036197</td>\n",
       "      <td>0.039014</td>\n",
       "      <td>-0.006501</td>\n",
       "      <td>-0.040607</td>\n",
       "      <td>0.044000</td>\n",
       "      <td>0.023187</td>\n",
       "      <td>-0.011676</td>\n",
       "      <td>0.008798</td>\n",
       "      <td>0.086147</td>\n",
       "      <td>-0.009824</td>\n",
       "      <td>-0.036183</td>\n",
       "    </tr>\n",
       "    <tr>\n",
       "      <th>job</th>\n",
       "      <td>0.032453</td>\n",
       "      <td>1.000000</td>\n",
       "      <td>-0.047286</td>\n",
       "      <td>-0.273679</td>\n",
       "      <td>-0.094983</td>\n",
       "      <td>0.011255</td>\n",
       "      <td>0.000275</td>\n",
       "      <td>0.050780</td>\n",
       "      <td>0.008703</td>\n",
       "      <td>0.021832</td>\n",
       "      <td>-0.053307</td>\n",
       "      <td>0.007647</td>\n",
       "      <td>0.005273</td>\n",
       "      <td>-0.018442</td>\n",
       "      <td>-0.027801</td>\n",
       "      <td>0.030308</td>\n",
       "      <td>-0.064201</td>\n",
       "      <td>-0.025498</td>\n",
       "      <td>-0.026933</td>\n",
       "    </tr>\n",
       "    <tr>\n",
       "      <th>marital</th>\n",
       "      <td>-0.120606</td>\n",
       "      <td>-0.047286</td>\n",
       "      <td>1.000000</td>\n",
       "      <td>0.074236</td>\n",
       "      <td>0.091265</td>\n",
       "      <td>0.029736</td>\n",
       "      <td>0.006990</td>\n",
       "      <td>-0.060635</td>\n",
       "      <td>0.014228</td>\n",
       "      <td>0.015447</td>\n",
       "      <td>0.003189</td>\n",
       "      <td>-0.016277</td>\n",
       "      <td>0.037648</td>\n",
       "      <td>-0.024024</td>\n",
       "      <td>-0.053043</td>\n",
       "      <td>-0.027586</td>\n",
       "      <td>-0.044862</td>\n",
       "      <td>-0.057024</td>\n",
       "      <td>-0.052470</td>\n",
       "    </tr>\n",
       "    <tr>\n",
       "      <th>education</th>\n",
       "      <td>-0.167913</td>\n",
       "      <td>-0.273679</td>\n",
       "      <td>0.074236</td>\n",
       "      <td>1.000000</td>\n",
       "      <td>0.235561</td>\n",
       "      <td>0.054947</td>\n",
       "      <td>0.011536</td>\n",
       "      <td>-0.132811</td>\n",
       "      <td>0.134556</td>\n",
       "      <td>-0.005817</td>\n",
       "      <td>0.024268</td>\n",
       "      <td>-0.043201</td>\n",
       "      <td>0.032723</td>\n",
       "      <td>0.023182</td>\n",
       "      <td>-0.050796</td>\n",
       "      <td>-0.103538</td>\n",
       "      <td>0.070627</td>\n",
       "      <td>-0.038001</td>\n",
       "      <td>-0.038499</td>\n",
       "    </tr>\n",
       "    <tr>\n",
       "      <th>default</th>\n",
       "      <td>-0.166931</td>\n",
       "      <td>-0.094983</td>\n",
       "      <td>0.091265</td>\n",
       "      <td>0.235561</td>\n",
       "      <td>1.000000</td>\n",
       "      <td>0.016804</td>\n",
       "      <td>-0.011074</td>\n",
       "      <td>-0.157966</td>\n",
       "      <td>0.114282</td>\n",
       "      <td>0.017884</td>\n",
       "      <td>-0.017215</td>\n",
       "      <td>-0.091164</td>\n",
       "      <td>0.095020</td>\n",
       "      <td>0.000103</td>\n",
       "      <td>-0.187312</td>\n",
       "      <td>-0.164665</td>\n",
       "      <td>-0.024002</td>\n",
       "      <td>-0.180920</td>\n",
       "      <td>-0.172365</td>\n",
       "    </tr>\n",
       "  </tbody>\n",
       "</table>\n",
       "</div>"
      ],
      "text/plain": [
       "                age       job   marital  education   default   housing  \\\n",
       "age        1.000000  0.032453 -0.120606  -0.167913 -0.166931 -0.007873   \n",
       "job        0.032453  1.000000 -0.047286  -0.273679 -0.094983  0.011255   \n",
       "marital   -0.120606 -0.047286  1.000000   0.074236  0.091265  0.029736   \n",
       "education -0.167913 -0.273679  0.074236   1.000000  0.235561  0.054947   \n",
       "default   -0.166931 -0.094983  0.091265   0.235561  1.000000  0.016804   \n",
       "\n",
       "               loan   contact     month  duration  campaign     pdays  \\\n",
       "age        0.001910  0.024893  0.036197  0.039014 -0.006501 -0.040607   \n",
       "job        0.000275  0.050780  0.008703  0.021832 -0.053307  0.007647   \n",
       "marital    0.006990 -0.060635  0.014228  0.015447  0.003189 -0.016277   \n",
       "education  0.011536 -0.132811  0.134556 -0.005817  0.024268 -0.043201   \n",
       "default   -0.011074 -0.157966  0.114282  0.017884 -0.017215 -0.091164   \n",
       "\n",
       "           previous  poutcome  emp.var.rate  cons.price.idx  cons.conf.idx  \\\n",
       "age        0.044000  0.023187     -0.011676        0.008798       0.086147   \n",
       "job        0.005273 -0.018442     -0.027801        0.030308      -0.064201   \n",
       "marital    0.037648 -0.024024     -0.053043       -0.027586      -0.044862   \n",
       "education  0.032723  0.023182     -0.050796       -0.103538       0.070627   \n",
       "default    0.095020  0.000103     -0.187312       -0.164665      -0.024002   \n",
       "\n",
       "           euribor3m  nr.employed  \n",
       "age        -0.009824    -0.036183  \n",
       "job        -0.025498    -0.026933  \n",
       "marital    -0.057024    -0.052470  \n",
       "education  -0.038001    -0.038499  \n",
       "default    -0.180920    -0.172365  "
      ]
     },
     "execution_count": 35,
     "metadata": {},
     "output_type": "execute_result"
    }
   ],
   "source": [
    "X = train[:][:]\n",
    "X = X.drop('y', axis=1)\n",
    "y = train['y'][:]\n",
    "\n",
    "corr_features = X.corr()\n",
    "corr_features.head()"
   ]
  },
  {
   "cell_type": "code",
   "execution_count": 37,
   "metadata": {},
   "outputs": [
    {
     "data": {
      "application/vnd.plotly.v1+json": {
       "config": {
        "linkText": "Export to plot.ly",
        "plotlyServerURL": "https://plot.ly",
        "showLink": false
       },
       "data": [
        {
         "colorscale": "RdBu",
         "reversescale": false,
         "showscale": true,
         "type": "heatmap",
         "uid": "f85c27e3-ce88-4f89-8a78-0fd1abca3022",
         "x": [
          "age",
          "job",
          "marital",
          "education",
          "default",
          "housing",
          "loan",
          "contact",
          "month",
          "duration",
          "campaign",
          "pdays",
          "previous",
          "poutcome",
          "emp.var.rate",
          "cons.price.idx",
          "cons.conf.idx",
          "euribor3m",
          "nr.employed"
         ],
         "y": [
          "age",
          "job",
          "marital",
          "education",
          "default",
          "housing",
          "loan",
          "contact",
          "month",
          "duration",
          "campaign",
          "pdays",
          "previous",
          "poutcome",
          "emp.var.rate",
          "cons.price.idx",
          "cons.conf.idx",
          "euribor3m",
          "nr.employed"
         ],
         "z": [
          [
           1,
           0.032453453955406934,
           -0.12060558118368359,
           -0.1679130906782054,
           -0.16693084741955141,
           -0.007873253252371374,
           0.001909817558407383,
           0.024892641180616355,
           0.03619697960837363,
           0.039014078478507276,
           -0.006500515187578301,
           -0.040607379934363134,
           0.0440003007413333,
           0.02318687826405281,
           -0.01167599267788193,
           0.008797947811623647,
           0.08614662309327963,
           -0.009824088343084866,
           -0.03618301056381389
          ],
          [
           0.032453453955406934,
           1,
           -0.04728580207950027,
           -0.2736793166151321,
           -0.09498282009634856,
           0.01125548400458731,
           0.0002753074511699481,
           0.05078010268293696,
           0.00870317167143742,
           0.021832285525169907,
           -0.05330744186177272,
           0.007646962198175593,
           0.0052727777753918,
           -0.018442470622117933,
           -0.027801299106791355,
           0.030308376833452447,
           -0.06420071218322781,
           -0.025498310809270033,
           -0.026933376159490884
          ],
          [
           -0.12060558118368359,
           -0.04728580207950027,
           1,
           0.07423647068035141,
           0.09126452934178178,
           0.02973555646167765,
           0.006989890098811836,
           -0.06063530572590978,
           0.014228256293954338,
           0.015446671202324399,
           0.0031886811435112876,
           -0.01627666481333055,
           0.03764799716938042,
           -0.024024372871396547,
           -0.05304281051400705,
           -0.027585949902305326,
           -0.04486170139196521,
           -0.05702356498265719,
           -0.05246971241471022
          ],
          [
           -0.1679130906782054,
           -0.2736793166151321,
           0.07423647068035141,
           1,
           0.23556144731000106,
           0.054946792662010684,
           0.011535702912791759,
           -0.13281124350848916,
           0.13455594645395644,
           -0.0058173756346190115,
           0.024267841166729053,
           -0.0432008521230863,
           0.03272322761326337,
           0.02318160749227881,
           -0.05079587083770671,
           -0.10353809203871983,
           0.07062701542948024,
           -0.03800087061023955,
           -0.03849872723028962
          ],
          [
           -0.16693084741955141,
           -0.09498282009634856,
           0.09126452934178178,
           0.23556144731000106,
           1,
           0.016803772628645547,
           -0.011073545533218569,
           -0.15796557595013286,
           0.11428167088684285,
           0.01788390793656941,
           -0.01721479169528327,
           -0.09116353327854398,
           0.09502036146229315,
           0.00010285129191608753,
           -0.1873124726801994,
           -0.164664791313163,
           -0.024002108617300892,
           -0.18091958652770251,
           -0.1723651156450434
          ],
          [
           -0.007873253252371374,
           0.01125548400458731,
           0.02973555646167765,
           0.054946792662010684,
           0.016803772628645547,
           1,
           0.2655102627604137,
           -0.07118376573111217,
           0.04275856578693935,
           -0.016509016539671836,
           -0.019420711844311635,
           -0.027140746738277217,
           0.019045516028358456,
           0.019040576705983178,
           -0.05112193953000435,
           -0.08631471429857208,
           -0.025549921591117054,
           -0.04757993542030873,
           -0.02794547651999823
          ],
          [
           0.001909817558407383,
           0.0002753074511699481,
           0.006989890098811836,
           0.011535702912791759,
           -0.011073545533218569,
           0.2655102627604137,
           1,
           -0.0017071022202722324,
           0.0029874884209559337,
           0.00027800817132604954,
           -0.01937999349868463,
           0.0020110530490833637,
           -0.009263486767136297,
           0.013674378473417676,
           -0.015793726211158578,
           -0.025167581666951978,
           -0.004511480918392998,
           -0.007527586746834769,
           -0.0022048914260761263
          ],
          [
           0.024892641180616355,
           0.05078010268293696,
           -0.06063530572590978,
           -0.13281124350848916,
           -0.15796557595013286,
           -0.07118376573111217,
           -0.0017071022202722324,
           1,
           -0.34663924795855044,
           -0.029471632609458273,
           0.09405198896630391,
           0.12181836712409568,
           -0.21741038210551422,
           0.128400358671503,
           0.3855566630817072,
           0.5665585462580564,
           0.2645400510555424,
           0.3931139178464609,
           0.2653155792526592
          ],
          [
           0.03619697960837363,
           0.00870317167143742,
           0.014228256293954338,
           0.13455594645395644,
           0.11428167088684285,
           0.04275856578693935,
           0.0029874884209559337,
           -0.34663924795855044,
           1,
           -0.01417380867379643,
           -0.042934642007937264,
           -0.10599720126337055,
           0.07065718711204144,
           0.045816792066115,
           0.044435186063308194,
           -0.12526774450798328,
           0.21915932320695236,
           0.13670486291797454,
           0.0888628789606826
          ],
          [
           0.039014078478507276,
           0.021832285525169907,
           0.015446671202324399,
           -0.0058173756346190115,
           0.01788390793656941,
           -0.016509016539671836,
           0.00027800817132604954,
           -0.029471632609458273,
           -0.01417380867379643,
           1,
           -0.09747713309163133,
           -0.04572609935215353,
           0.025395373881532367,
           0.026700615378408878,
           -0.028857011141858582,
           0.022067258591631694,
           -0.03654286532779077,
           -0.03314702605515019,
           -0.046759595288247434
          ],
          [
           -0.006500515187578301,
           -0.05330744186177272,
           0.0031886811435112876,
           0.024267841166729053,
           -0.01721479169528327,
           -0.019420711844311635,
           -0.01937999349868463,
           0.09405198896630391,
           -0.042934642007937264,
           -0.09747713309163133,
           1,
           0.05831378651448923,
           -0.09074060095631636,
           0.03943408640320525,
           0.1770545026329796,
           0.1454288668233582,
           0.007416445618988856,
           0.15998042007093644,
           0.16246132764484367
          ],
          [
           -0.040607379934363134,
           0.007646962198175593,
           -0.01627666481333055,
           -0.0432008521230863,
           -0.09116353327854398,
           -0.027140746738277217,
           0.0020110530490833637,
           0.12181836712409568,
           -0.10599720126337055,
           -0.04572609935215353,
           0.05831378651448923,
           1,
           -0.5904613753222322,
           -0.4811531896444154,
           0.27111595608703065,
           0.04644959427164807,
           -0.09335933330110041,
           0.3036867507267099,
           0.39037932938773007
          ],
          [
           0.0440003007413333,
           0.0052727777753918,
           0.03764799716938042,
           0.03272322761326337,
           0.09502036146229315,
           0.019045516028358456,
           -0.009263486767136297,
           -0.21741038210551422,
           0.07065718711204144,
           0.025395373881532367,
           -0.09074060095631636,
           -0.5904613753222322,
           1,
           -0.2740193608243155,
           -0.4099436404067917,
           -0.14169248308711357,
           -0.05476106538169655,
           -0.4581221320689598,
           -0.5200391122584905
          ],
          [
           0.02318687826405281,
           -0.018442470622117933,
           -0.024024372871396547,
           0.02318160749227881,
           0.00010285129191608753,
           0.019040576705983178,
           0.013674378473417676,
           0.128400358671503,
           0.045816792066115,
           0.026700615378408878,
           0.03943408640320525,
           -0.4811531896444154,
           -0.2740193608243155,
           1,
           0.1973845955615515,
           0.21029022807977038,
           0.1856533487168269,
           0.1925006030037626,
           0.12442574042056051
          ],
          [
           -0.01167599267788193,
           -0.027801299106791355,
           -0.05304281051400705,
           -0.05079587083770671,
           -0.1873124726801994,
           -0.05112193953000435,
           -0.015793726211158578,
           0.3855566630817072,
           0.044435186063308194,
           -0.028857011141858582,
           0.1770545026329796,
           0.27111595608703065,
           -0.4099436404067917,
           0.1973845955615515,
           1,
           0.7475130291521909,
           0.21975141779694563,
           0.969967791039401,
           0.89232813579329
          ],
          [
           0.008797947811623647,
           0.030308376833452447,
           -0.027585949902305326,
           -0.10353809203871983,
           -0.164664791313163,
           -0.08631471429857208,
           -0.025167581666951978,
           0.5665585462580564,
           -0.12526774450798328,
           0.022067258591631694,
           0.1454288668233582,
           0.04644959427164807,
           -0.14169248308711357,
           0.21029022807977038,
           0.7475130291521909,
           1,
           0.06394782311809408,
           0.6455676336851165,
           0.4508697910024793
          ],
          [
           0.08614662309327963,
           -0.06420071218322781,
           -0.04486170139196521,
           0.07062701542948024,
           -0.024002108617300892,
           -0.025549921591117054,
           -0.004511480918392998,
           0.2645400510555424,
           0.21915932320695236,
           -0.03654286532779077,
           0.007416445618988856,
           -0.09335933330110041,
           -0.05476106538169655,
           0.1856533487168269,
           0.21975141779694563,
           0.06394782311809408,
           1,
           0.3002116484204507,
           0.1305930494567276
          ],
          [
           -0.009824088343084866,
           -0.025498310809270033,
           -0.05702356498265719,
           -0.03800087061023955,
           -0.18091958652770251,
           -0.04757993542030873,
           -0.007527586746834769,
           0.3931139178464609,
           0.13670486291797454,
           -0.03314702605515019,
           0.15998042007093644,
           0.3036867507267099,
           -0.4581221320689598,
           0.1925006030037626,
           0.969967791039401,
           0.6455676336851165,
           0.3002116484204507,
           1,
           0.9404341724703444
          ],
          [
           -0.03618301056381389,
           -0.026933376159490884,
           -0.05246971241471022,
           -0.03849872723028962,
           -0.1723651156450434,
           -0.02794547651999823,
           -0.0022048914260761263,
           0.2653155792526592,
           0.0888628789606826,
           -0.046759595288247434,
           0.16246132764484367,
           0.39037932938773007,
           -0.5200391122584905,
           0.12442574042056051,
           0.89232813579329,
           0.4508697910024793,
           0.1305930494567276,
           0.9404341724703444,
           1
          ]
         ]
        }
       ],
       "layout": {
        "annotations": [
         {
          "font": {
           "color": "#000000"
          },
          "showarrow": false,
          "text": "1.0",
          "x": "age",
          "xref": "x",
          "y": "age",
          "yref": "y"
         },
         {
          "font": {
           "color": "#FFFFFF"
          },
          "showarrow": false,
          "text": "0.03",
          "x": "job",
          "xref": "x",
          "y": "age",
          "yref": "y"
         },
         {
          "font": {
           "color": "#FFFFFF"
          },
          "showarrow": false,
          "text": "-0.12",
          "x": "marital",
          "xref": "x",
          "y": "age",
          "yref": "y"
         },
         {
          "font": {
           "color": "#FFFFFF"
          },
          "showarrow": false,
          "text": "-0.17",
          "x": "education",
          "xref": "x",
          "y": "age",
          "yref": "y"
         },
         {
          "font": {
           "color": "#FFFFFF"
          },
          "showarrow": false,
          "text": "-0.17",
          "x": "default",
          "xref": "x",
          "y": "age",
          "yref": "y"
         },
         {
          "font": {
           "color": "#FFFFFF"
          },
          "showarrow": false,
          "text": "-0.01",
          "x": "housing",
          "xref": "x",
          "y": "age",
          "yref": "y"
         },
         {
          "font": {
           "color": "#FFFFFF"
          },
          "showarrow": false,
          "text": "0.0",
          "x": "loan",
          "xref": "x",
          "y": "age",
          "yref": "y"
         },
         {
          "font": {
           "color": "#FFFFFF"
          },
          "showarrow": false,
          "text": "0.02",
          "x": "contact",
          "xref": "x",
          "y": "age",
          "yref": "y"
         },
         {
          "font": {
           "color": "#FFFFFF"
          },
          "showarrow": false,
          "text": "0.04",
          "x": "month",
          "xref": "x",
          "y": "age",
          "yref": "y"
         },
         {
          "font": {
           "color": "#FFFFFF"
          },
          "showarrow": false,
          "text": "0.04",
          "x": "duration",
          "xref": "x",
          "y": "age",
          "yref": "y"
         },
         {
          "font": {
           "color": "#FFFFFF"
          },
          "showarrow": false,
          "text": "-0.01",
          "x": "campaign",
          "xref": "x",
          "y": "age",
          "yref": "y"
         },
         {
          "font": {
           "color": "#FFFFFF"
          },
          "showarrow": false,
          "text": "-0.04",
          "x": "pdays",
          "xref": "x",
          "y": "age",
          "yref": "y"
         },
         {
          "font": {
           "color": "#FFFFFF"
          },
          "showarrow": false,
          "text": "0.04",
          "x": "previous",
          "xref": "x",
          "y": "age",
          "yref": "y"
         },
         {
          "font": {
           "color": "#FFFFFF"
          },
          "showarrow": false,
          "text": "0.02",
          "x": "poutcome",
          "xref": "x",
          "y": "age",
          "yref": "y"
         },
         {
          "font": {
           "color": "#FFFFFF"
          },
          "showarrow": false,
          "text": "-0.01",
          "x": "emp.var.rate",
          "xref": "x",
          "y": "age",
          "yref": "y"
         },
         {
          "font": {
           "color": "#FFFFFF"
          },
          "showarrow": false,
          "text": "0.01",
          "x": "cons.price.idx",
          "xref": "x",
          "y": "age",
          "yref": "y"
         },
         {
          "font": {
           "color": "#FFFFFF"
          },
          "showarrow": false,
          "text": "0.09",
          "x": "cons.conf.idx",
          "xref": "x",
          "y": "age",
          "yref": "y"
         },
         {
          "font": {
           "color": "#FFFFFF"
          },
          "showarrow": false,
          "text": "-0.01",
          "x": "euribor3m",
          "xref": "x",
          "y": "age",
          "yref": "y"
         },
         {
          "font": {
           "color": "#FFFFFF"
          },
          "showarrow": false,
          "text": "-0.04",
          "x": "nr.employed",
          "xref": "x",
          "y": "age",
          "yref": "y"
         },
         {
          "font": {
           "color": "#FFFFFF"
          },
          "showarrow": false,
          "text": "0.03",
          "x": "age",
          "xref": "x",
          "y": "job",
          "yref": "y"
         },
         {
          "font": {
           "color": "#000000"
          },
          "showarrow": false,
          "text": "1.0",
          "x": "job",
          "xref": "x",
          "y": "job",
          "yref": "y"
         },
         {
          "font": {
           "color": "#FFFFFF"
          },
          "showarrow": false,
          "text": "-0.05",
          "x": "marital",
          "xref": "x",
          "y": "job",
          "yref": "y"
         },
         {
          "font": {
           "color": "#FFFFFF"
          },
          "showarrow": false,
          "text": "-0.27",
          "x": "education",
          "xref": "x",
          "y": "job",
          "yref": "y"
         },
         {
          "font": {
           "color": "#FFFFFF"
          },
          "showarrow": false,
          "text": "-0.09",
          "x": "default",
          "xref": "x",
          "y": "job",
          "yref": "y"
         },
         {
          "font": {
           "color": "#FFFFFF"
          },
          "showarrow": false,
          "text": "0.01",
          "x": "housing",
          "xref": "x",
          "y": "job",
          "yref": "y"
         },
         {
          "font": {
           "color": "#FFFFFF"
          },
          "showarrow": false,
          "text": "0.0",
          "x": "loan",
          "xref": "x",
          "y": "job",
          "yref": "y"
         },
         {
          "font": {
           "color": "#FFFFFF"
          },
          "showarrow": false,
          "text": "0.05",
          "x": "contact",
          "xref": "x",
          "y": "job",
          "yref": "y"
         },
         {
          "font": {
           "color": "#FFFFFF"
          },
          "showarrow": false,
          "text": "0.01",
          "x": "month",
          "xref": "x",
          "y": "job",
          "yref": "y"
         },
         {
          "font": {
           "color": "#FFFFFF"
          },
          "showarrow": false,
          "text": "0.02",
          "x": "duration",
          "xref": "x",
          "y": "job",
          "yref": "y"
         },
         {
          "font": {
           "color": "#FFFFFF"
          },
          "showarrow": false,
          "text": "-0.05",
          "x": "campaign",
          "xref": "x",
          "y": "job",
          "yref": "y"
         },
         {
          "font": {
           "color": "#FFFFFF"
          },
          "showarrow": false,
          "text": "0.01",
          "x": "pdays",
          "xref": "x",
          "y": "job",
          "yref": "y"
         },
         {
          "font": {
           "color": "#FFFFFF"
          },
          "showarrow": false,
          "text": "0.01",
          "x": "previous",
          "xref": "x",
          "y": "job",
          "yref": "y"
         },
         {
          "font": {
           "color": "#FFFFFF"
          },
          "showarrow": false,
          "text": "-0.02",
          "x": "poutcome",
          "xref": "x",
          "y": "job",
          "yref": "y"
         },
         {
          "font": {
           "color": "#FFFFFF"
          },
          "showarrow": false,
          "text": "-0.03",
          "x": "emp.var.rate",
          "xref": "x",
          "y": "job",
          "yref": "y"
         },
         {
          "font": {
           "color": "#FFFFFF"
          },
          "showarrow": false,
          "text": "0.03",
          "x": "cons.price.idx",
          "xref": "x",
          "y": "job",
          "yref": "y"
         },
         {
          "font": {
           "color": "#FFFFFF"
          },
          "showarrow": false,
          "text": "-0.06",
          "x": "cons.conf.idx",
          "xref": "x",
          "y": "job",
          "yref": "y"
         },
         {
          "font": {
           "color": "#FFFFFF"
          },
          "showarrow": false,
          "text": "-0.03",
          "x": "euribor3m",
          "xref": "x",
          "y": "job",
          "yref": "y"
         },
         {
          "font": {
           "color": "#FFFFFF"
          },
          "showarrow": false,
          "text": "-0.03",
          "x": "nr.employed",
          "xref": "x",
          "y": "job",
          "yref": "y"
         },
         {
          "font": {
           "color": "#FFFFFF"
          },
          "showarrow": false,
          "text": "-0.12",
          "x": "age",
          "xref": "x",
          "y": "marital",
          "yref": "y"
         },
         {
          "font": {
           "color": "#FFFFFF"
          },
          "showarrow": false,
          "text": "-0.05",
          "x": "job",
          "xref": "x",
          "y": "marital",
          "yref": "y"
         },
         {
          "font": {
           "color": "#000000"
          },
          "showarrow": false,
          "text": "1.0",
          "x": "marital",
          "xref": "x",
          "y": "marital",
          "yref": "y"
         },
         {
          "font": {
           "color": "#FFFFFF"
          },
          "showarrow": false,
          "text": "0.07",
          "x": "education",
          "xref": "x",
          "y": "marital",
          "yref": "y"
         },
         {
          "font": {
           "color": "#FFFFFF"
          },
          "showarrow": false,
          "text": "0.09",
          "x": "default",
          "xref": "x",
          "y": "marital",
          "yref": "y"
         },
         {
          "font": {
           "color": "#FFFFFF"
          },
          "showarrow": false,
          "text": "0.03",
          "x": "housing",
          "xref": "x",
          "y": "marital",
          "yref": "y"
         },
         {
          "font": {
           "color": "#FFFFFF"
          },
          "showarrow": false,
          "text": "0.01",
          "x": "loan",
          "xref": "x",
          "y": "marital",
          "yref": "y"
         },
         {
          "font": {
           "color": "#FFFFFF"
          },
          "showarrow": false,
          "text": "-0.06",
          "x": "contact",
          "xref": "x",
          "y": "marital",
          "yref": "y"
         },
         {
          "font": {
           "color": "#FFFFFF"
          },
          "showarrow": false,
          "text": "0.01",
          "x": "month",
          "xref": "x",
          "y": "marital",
          "yref": "y"
         },
         {
          "font": {
           "color": "#FFFFFF"
          },
          "showarrow": false,
          "text": "0.02",
          "x": "duration",
          "xref": "x",
          "y": "marital",
          "yref": "y"
         },
         {
          "font": {
           "color": "#FFFFFF"
          },
          "showarrow": false,
          "text": "0.0",
          "x": "campaign",
          "xref": "x",
          "y": "marital",
          "yref": "y"
         },
         {
          "font": {
           "color": "#FFFFFF"
          },
          "showarrow": false,
          "text": "-0.02",
          "x": "pdays",
          "xref": "x",
          "y": "marital",
          "yref": "y"
         },
         {
          "font": {
           "color": "#FFFFFF"
          },
          "showarrow": false,
          "text": "0.04",
          "x": "previous",
          "xref": "x",
          "y": "marital",
          "yref": "y"
         },
         {
          "font": {
           "color": "#FFFFFF"
          },
          "showarrow": false,
          "text": "-0.02",
          "x": "poutcome",
          "xref": "x",
          "y": "marital",
          "yref": "y"
         },
         {
          "font": {
           "color": "#FFFFFF"
          },
          "showarrow": false,
          "text": "-0.05",
          "x": "emp.var.rate",
          "xref": "x",
          "y": "marital",
          "yref": "y"
         },
         {
          "font": {
           "color": "#FFFFFF"
          },
          "showarrow": false,
          "text": "-0.03",
          "x": "cons.price.idx",
          "xref": "x",
          "y": "marital",
          "yref": "y"
         },
         {
          "font": {
           "color": "#FFFFFF"
          },
          "showarrow": false,
          "text": "-0.04",
          "x": "cons.conf.idx",
          "xref": "x",
          "y": "marital",
          "yref": "y"
         },
         {
          "font": {
           "color": "#FFFFFF"
          },
          "showarrow": false,
          "text": "-0.06",
          "x": "euribor3m",
          "xref": "x",
          "y": "marital",
          "yref": "y"
         },
         {
          "font": {
           "color": "#FFFFFF"
          },
          "showarrow": false,
          "text": "-0.05",
          "x": "nr.employed",
          "xref": "x",
          "y": "marital",
          "yref": "y"
         },
         {
          "font": {
           "color": "#FFFFFF"
          },
          "showarrow": false,
          "text": "-0.17",
          "x": "age",
          "xref": "x",
          "y": "education",
          "yref": "y"
         },
         {
          "font": {
           "color": "#FFFFFF"
          },
          "showarrow": false,
          "text": "-0.27",
          "x": "job",
          "xref": "x",
          "y": "education",
          "yref": "y"
         },
         {
          "font": {
           "color": "#FFFFFF"
          },
          "showarrow": false,
          "text": "0.07",
          "x": "marital",
          "xref": "x",
          "y": "education",
          "yref": "y"
         },
         {
          "font": {
           "color": "#000000"
          },
          "showarrow": false,
          "text": "1.0",
          "x": "education",
          "xref": "x",
          "y": "education",
          "yref": "y"
         },
         {
          "font": {
           "color": "#000000"
          },
          "showarrow": false,
          "text": "0.24",
          "x": "default",
          "xref": "x",
          "y": "education",
          "yref": "y"
         },
         {
          "font": {
           "color": "#FFFFFF"
          },
          "showarrow": false,
          "text": "0.05",
          "x": "housing",
          "xref": "x",
          "y": "education",
          "yref": "y"
         },
         {
          "font": {
           "color": "#FFFFFF"
          },
          "showarrow": false,
          "text": "0.01",
          "x": "loan",
          "xref": "x",
          "y": "education",
          "yref": "y"
         },
         {
          "font": {
           "color": "#FFFFFF"
          },
          "showarrow": false,
          "text": "-0.13",
          "x": "contact",
          "xref": "x",
          "y": "education",
          "yref": "y"
         },
         {
          "font": {
           "color": "#FFFFFF"
          },
          "showarrow": false,
          "text": "0.13",
          "x": "month",
          "xref": "x",
          "y": "education",
          "yref": "y"
         },
         {
          "font": {
           "color": "#FFFFFF"
          },
          "showarrow": false,
          "text": "-0.01",
          "x": "duration",
          "xref": "x",
          "y": "education",
          "yref": "y"
         },
         {
          "font": {
           "color": "#FFFFFF"
          },
          "showarrow": false,
          "text": "0.02",
          "x": "campaign",
          "xref": "x",
          "y": "education",
          "yref": "y"
         },
         {
          "font": {
           "color": "#FFFFFF"
          },
          "showarrow": false,
          "text": "-0.04",
          "x": "pdays",
          "xref": "x",
          "y": "education",
          "yref": "y"
         },
         {
          "font": {
           "color": "#FFFFFF"
          },
          "showarrow": false,
          "text": "0.03",
          "x": "previous",
          "xref": "x",
          "y": "education",
          "yref": "y"
         },
         {
          "font": {
           "color": "#FFFFFF"
          },
          "showarrow": false,
          "text": "0.02",
          "x": "poutcome",
          "xref": "x",
          "y": "education",
          "yref": "y"
         },
         {
          "font": {
           "color": "#FFFFFF"
          },
          "showarrow": false,
          "text": "-0.05",
          "x": "emp.var.rate",
          "xref": "x",
          "y": "education",
          "yref": "y"
         },
         {
          "font": {
           "color": "#FFFFFF"
          },
          "showarrow": false,
          "text": "-0.1",
          "x": "cons.price.idx",
          "xref": "x",
          "y": "education",
          "yref": "y"
         },
         {
          "font": {
           "color": "#FFFFFF"
          },
          "showarrow": false,
          "text": "0.07",
          "x": "cons.conf.idx",
          "xref": "x",
          "y": "education",
          "yref": "y"
         },
         {
          "font": {
           "color": "#FFFFFF"
          },
          "showarrow": false,
          "text": "-0.04",
          "x": "euribor3m",
          "xref": "x",
          "y": "education",
          "yref": "y"
         },
         {
          "font": {
           "color": "#FFFFFF"
          },
          "showarrow": false,
          "text": "-0.04",
          "x": "nr.employed",
          "xref": "x",
          "y": "education",
          "yref": "y"
         },
         {
          "font": {
           "color": "#FFFFFF"
          },
          "showarrow": false,
          "text": "-0.17",
          "x": "age",
          "xref": "x",
          "y": "default",
          "yref": "y"
         },
         {
          "font": {
           "color": "#FFFFFF"
          },
          "showarrow": false,
          "text": "-0.09",
          "x": "job",
          "xref": "x",
          "y": "default",
          "yref": "y"
         },
         {
          "font": {
           "color": "#FFFFFF"
          },
          "showarrow": false,
          "text": "0.09",
          "x": "marital",
          "xref": "x",
          "y": "default",
          "yref": "y"
         },
         {
          "font": {
           "color": "#000000"
          },
          "showarrow": false,
          "text": "0.24",
          "x": "education",
          "xref": "x",
          "y": "default",
          "yref": "y"
         },
         {
          "font": {
           "color": "#000000"
          },
          "showarrow": false,
          "text": "1.0",
          "x": "default",
          "xref": "x",
          "y": "default",
          "yref": "y"
         },
         {
          "font": {
           "color": "#FFFFFF"
          },
          "showarrow": false,
          "text": "0.02",
          "x": "housing",
          "xref": "x",
          "y": "default",
          "yref": "y"
         },
         {
          "font": {
           "color": "#FFFFFF"
          },
          "showarrow": false,
          "text": "-0.01",
          "x": "loan",
          "xref": "x",
          "y": "default",
          "yref": "y"
         },
         {
          "font": {
           "color": "#FFFFFF"
          },
          "showarrow": false,
          "text": "-0.16",
          "x": "contact",
          "xref": "x",
          "y": "default",
          "yref": "y"
         },
         {
          "font": {
           "color": "#FFFFFF"
          },
          "showarrow": false,
          "text": "0.11",
          "x": "month",
          "xref": "x",
          "y": "default",
          "yref": "y"
         },
         {
          "font": {
           "color": "#FFFFFF"
          },
          "showarrow": false,
          "text": "0.02",
          "x": "duration",
          "xref": "x",
          "y": "default",
          "yref": "y"
         },
         {
          "font": {
           "color": "#FFFFFF"
          },
          "showarrow": false,
          "text": "-0.02",
          "x": "campaign",
          "xref": "x",
          "y": "default",
          "yref": "y"
         },
         {
          "font": {
           "color": "#FFFFFF"
          },
          "showarrow": false,
          "text": "-0.09",
          "x": "pdays",
          "xref": "x",
          "y": "default",
          "yref": "y"
         },
         {
          "font": {
           "color": "#FFFFFF"
          },
          "showarrow": false,
          "text": "0.1",
          "x": "previous",
          "xref": "x",
          "y": "default",
          "yref": "y"
         },
         {
          "font": {
           "color": "#FFFFFF"
          },
          "showarrow": false,
          "text": "0.0",
          "x": "poutcome",
          "xref": "x",
          "y": "default",
          "yref": "y"
         },
         {
          "font": {
           "color": "#FFFFFF"
          },
          "showarrow": false,
          "text": "-0.19",
          "x": "emp.var.rate",
          "xref": "x",
          "y": "default",
          "yref": "y"
         },
         {
          "font": {
           "color": "#FFFFFF"
          },
          "showarrow": false,
          "text": "-0.16",
          "x": "cons.price.idx",
          "xref": "x",
          "y": "default",
          "yref": "y"
         },
         {
          "font": {
           "color": "#FFFFFF"
          },
          "showarrow": false,
          "text": "-0.02",
          "x": "cons.conf.idx",
          "xref": "x",
          "y": "default",
          "yref": "y"
         },
         {
          "font": {
           "color": "#FFFFFF"
          },
          "showarrow": false,
          "text": "-0.18",
          "x": "euribor3m",
          "xref": "x",
          "y": "default",
          "yref": "y"
         },
         {
          "font": {
           "color": "#FFFFFF"
          },
          "showarrow": false,
          "text": "-0.17",
          "x": "nr.employed",
          "xref": "x",
          "y": "default",
          "yref": "y"
         },
         {
          "font": {
           "color": "#FFFFFF"
          },
          "showarrow": false,
          "text": "-0.01",
          "x": "age",
          "xref": "x",
          "y": "housing",
          "yref": "y"
         },
         {
          "font": {
           "color": "#FFFFFF"
          },
          "showarrow": false,
          "text": "0.01",
          "x": "job",
          "xref": "x",
          "y": "housing",
          "yref": "y"
         },
         {
          "font": {
           "color": "#FFFFFF"
          },
          "showarrow": false,
          "text": "0.03",
          "x": "marital",
          "xref": "x",
          "y": "housing",
          "yref": "y"
         },
         {
          "font": {
           "color": "#FFFFFF"
          },
          "showarrow": false,
          "text": "0.05",
          "x": "education",
          "xref": "x",
          "y": "housing",
          "yref": "y"
         },
         {
          "font": {
           "color": "#FFFFFF"
          },
          "showarrow": false,
          "text": "0.02",
          "x": "default",
          "xref": "x",
          "y": "housing",
          "yref": "y"
         },
         {
          "font": {
           "color": "#000000"
          },
          "showarrow": false,
          "text": "1.0",
          "x": "housing",
          "xref": "x",
          "y": "housing",
          "yref": "y"
         },
         {
          "font": {
           "color": "#000000"
          },
          "showarrow": false,
          "text": "0.27",
          "x": "loan",
          "xref": "x",
          "y": "housing",
          "yref": "y"
         },
         {
          "font": {
           "color": "#FFFFFF"
          },
          "showarrow": false,
          "text": "-0.07",
          "x": "contact",
          "xref": "x",
          "y": "housing",
          "yref": "y"
         },
         {
          "font": {
           "color": "#FFFFFF"
          },
          "showarrow": false,
          "text": "0.04",
          "x": "month",
          "xref": "x",
          "y": "housing",
          "yref": "y"
         },
         {
          "font": {
           "color": "#FFFFFF"
          },
          "showarrow": false,
          "text": "-0.02",
          "x": "duration",
          "xref": "x",
          "y": "housing",
          "yref": "y"
         },
         {
          "font": {
           "color": "#FFFFFF"
          },
          "showarrow": false,
          "text": "-0.02",
          "x": "campaign",
          "xref": "x",
          "y": "housing",
          "yref": "y"
         },
         {
          "font": {
           "color": "#FFFFFF"
          },
          "showarrow": false,
          "text": "-0.03",
          "x": "pdays",
          "xref": "x",
          "y": "housing",
          "yref": "y"
         },
         {
          "font": {
           "color": "#FFFFFF"
          },
          "showarrow": false,
          "text": "0.02",
          "x": "previous",
          "xref": "x",
          "y": "housing",
          "yref": "y"
         },
         {
          "font": {
           "color": "#FFFFFF"
          },
          "showarrow": false,
          "text": "0.02",
          "x": "poutcome",
          "xref": "x",
          "y": "housing",
          "yref": "y"
         },
         {
          "font": {
           "color": "#FFFFFF"
          },
          "showarrow": false,
          "text": "-0.05",
          "x": "emp.var.rate",
          "xref": "x",
          "y": "housing",
          "yref": "y"
         },
         {
          "font": {
           "color": "#FFFFFF"
          },
          "showarrow": false,
          "text": "-0.09",
          "x": "cons.price.idx",
          "xref": "x",
          "y": "housing",
          "yref": "y"
         },
         {
          "font": {
           "color": "#FFFFFF"
          },
          "showarrow": false,
          "text": "-0.03",
          "x": "cons.conf.idx",
          "xref": "x",
          "y": "housing",
          "yref": "y"
         },
         {
          "font": {
           "color": "#FFFFFF"
          },
          "showarrow": false,
          "text": "-0.05",
          "x": "euribor3m",
          "xref": "x",
          "y": "housing",
          "yref": "y"
         },
         {
          "font": {
           "color": "#FFFFFF"
          },
          "showarrow": false,
          "text": "-0.03",
          "x": "nr.employed",
          "xref": "x",
          "y": "housing",
          "yref": "y"
         },
         {
          "font": {
           "color": "#FFFFFF"
          },
          "showarrow": false,
          "text": "0.0",
          "x": "age",
          "xref": "x",
          "y": "loan",
          "yref": "y"
         },
         {
          "font": {
           "color": "#FFFFFF"
          },
          "showarrow": false,
          "text": "0.0",
          "x": "job",
          "xref": "x",
          "y": "loan",
          "yref": "y"
         },
         {
          "font": {
           "color": "#FFFFFF"
          },
          "showarrow": false,
          "text": "0.01",
          "x": "marital",
          "xref": "x",
          "y": "loan",
          "yref": "y"
         },
         {
          "font": {
           "color": "#FFFFFF"
          },
          "showarrow": false,
          "text": "0.01",
          "x": "education",
          "xref": "x",
          "y": "loan",
          "yref": "y"
         },
         {
          "font": {
           "color": "#FFFFFF"
          },
          "showarrow": false,
          "text": "-0.01",
          "x": "default",
          "xref": "x",
          "y": "loan",
          "yref": "y"
         },
         {
          "font": {
           "color": "#000000"
          },
          "showarrow": false,
          "text": "0.27",
          "x": "housing",
          "xref": "x",
          "y": "loan",
          "yref": "y"
         },
         {
          "font": {
           "color": "#000000"
          },
          "showarrow": false,
          "text": "1.0",
          "x": "loan",
          "xref": "x",
          "y": "loan",
          "yref": "y"
         },
         {
          "font": {
           "color": "#FFFFFF"
          },
          "showarrow": false,
          "text": "-0.0",
          "x": "contact",
          "xref": "x",
          "y": "loan",
          "yref": "y"
         },
         {
          "font": {
           "color": "#FFFFFF"
          },
          "showarrow": false,
          "text": "0.0",
          "x": "month",
          "xref": "x",
          "y": "loan",
          "yref": "y"
         },
         {
          "font": {
           "color": "#FFFFFF"
          },
          "showarrow": false,
          "text": "0.0",
          "x": "duration",
          "xref": "x",
          "y": "loan",
          "yref": "y"
         },
         {
          "font": {
           "color": "#FFFFFF"
          },
          "showarrow": false,
          "text": "-0.02",
          "x": "campaign",
          "xref": "x",
          "y": "loan",
          "yref": "y"
         },
         {
          "font": {
           "color": "#FFFFFF"
          },
          "showarrow": false,
          "text": "0.0",
          "x": "pdays",
          "xref": "x",
          "y": "loan",
          "yref": "y"
         },
         {
          "font": {
           "color": "#FFFFFF"
          },
          "showarrow": false,
          "text": "-0.01",
          "x": "previous",
          "xref": "x",
          "y": "loan",
          "yref": "y"
         },
         {
          "font": {
           "color": "#FFFFFF"
          },
          "showarrow": false,
          "text": "0.01",
          "x": "poutcome",
          "xref": "x",
          "y": "loan",
          "yref": "y"
         },
         {
          "font": {
           "color": "#FFFFFF"
          },
          "showarrow": false,
          "text": "-0.02",
          "x": "emp.var.rate",
          "xref": "x",
          "y": "loan",
          "yref": "y"
         },
         {
          "font": {
           "color": "#FFFFFF"
          },
          "showarrow": false,
          "text": "-0.03",
          "x": "cons.price.idx",
          "xref": "x",
          "y": "loan",
          "yref": "y"
         },
         {
          "font": {
           "color": "#FFFFFF"
          },
          "showarrow": false,
          "text": "-0.0",
          "x": "cons.conf.idx",
          "xref": "x",
          "y": "loan",
          "yref": "y"
         },
         {
          "font": {
           "color": "#FFFFFF"
          },
          "showarrow": false,
          "text": "-0.01",
          "x": "euribor3m",
          "xref": "x",
          "y": "loan",
          "yref": "y"
         },
         {
          "font": {
           "color": "#FFFFFF"
          },
          "showarrow": false,
          "text": "-0.0",
          "x": "nr.employed",
          "xref": "x",
          "y": "loan",
          "yref": "y"
         },
         {
          "font": {
           "color": "#FFFFFF"
          },
          "showarrow": false,
          "text": "0.02",
          "x": "age",
          "xref": "x",
          "y": "contact",
          "yref": "y"
         },
         {
          "font": {
           "color": "#FFFFFF"
          },
          "showarrow": false,
          "text": "0.05",
          "x": "job",
          "xref": "x",
          "y": "contact",
          "yref": "y"
         },
         {
          "font": {
           "color": "#FFFFFF"
          },
          "showarrow": false,
          "text": "-0.06",
          "x": "marital",
          "xref": "x",
          "y": "contact",
          "yref": "y"
         },
         {
          "font": {
           "color": "#FFFFFF"
          },
          "showarrow": false,
          "text": "-0.13",
          "x": "education",
          "xref": "x",
          "y": "contact",
          "yref": "y"
         },
         {
          "font": {
           "color": "#FFFFFF"
          },
          "showarrow": false,
          "text": "-0.16",
          "x": "default",
          "xref": "x",
          "y": "contact",
          "yref": "y"
         },
         {
          "font": {
           "color": "#FFFFFF"
          },
          "showarrow": false,
          "text": "-0.07",
          "x": "housing",
          "xref": "x",
          "y": "contact",
          "yref": "y"
         },
         {
          "font": {
           "color": "#FFFFFF"
          },
          "showarrow": false,
          "text": "-0.0",
          "x": "loan",
          "xref": "x",
          "y": "contact",
          "yref": "y"
         },
         {
          "font": {
           "color": "#000000"
          },
          "showarrow": false,
          "text": "1.0",
          "x": "contact",
          "xref": "x",
          "y": "contact",
          "yref": "y"
         },
         {
          "font": {
           "color": "#FFFFFF"
          },
          "showarrow": false,
          "text": "-0.35",
          "x": "month",
          "xref": "x",
          "y": "contact",
          "yref": "y"
         },
         {
          "font": {
           "color": "#FFFFFF"
          },
          "showarrow": false,
          "text": "-0.03",
          "x": "duration",
          "xref": "x",
          "y": "contact",
          "yref": "y"
         },
         {
          "font": {
           "color": "#FFFFFF"
          },
          "showarrow": false,
          "text": "0.09",
          "x": "campaign",
          "xref": "x",
          "y": "contact",
          "yref": "y"
         },
         {
          "font": {
           "color": "#FFFFFF"
          },
          "showarrow": false,
          "text": "0.12",
          "x": "pdays",
          "xref": "x",
          "y": "contact",
          "yref": "y"
         },
         {
          "font": {
           "color": "#FFFFFF"
          },
          "showarrow": false,
          "text": "-0.22",
          "x": "previous",
          "xref": "x",
          "y": "contact",
          "yref": "y"
         },
         {
          "font": {
           "color": "#FFFFFF"
          },
          "showarrow": false,
          "text": "0.13",
          "x": "poutcome",
          "xref": "x",
          "y": "contact",
          "yref": "y"
         },
         {
          "font": {
           "color": "#000000"
          },
          "showarrow": false,
          "text": "0.39",
          "x": "emp.var.rate",
          "xref": "x",
          "y": "contact",
          "yref": "y"
         },
         {
          "font": {
           "color": "#000000"
          },
          "showarrow": false,
          "text": "0.57",
          "x": "cons.price.idx",
          "xref": "x",
          "y": "contact",
          "yref": "y"
         },
         {
          "font": {
           "color": "#000000"
          },
          "showarrow": false,
          "text": "0.26",
          "x": "cons.conf.idx",
          "xref": "x",
          "y": "contact",
          "yref": "y"
         },
         {
          "font": {
           "color": "#000000"
          },
          "showarrow": false,
          "text": "0.39",
          "x": "euribor3m",
          "xref": "x",
          "y": "contact",
          "yref": "y"
         },
         {
          "font": {
           "color": "#000000"
          },
          "showarrow": false,
          "text": "0.27",
          "x": "nr.employed",
          "xref": "x",
          "y": "contact",
          "yref": "y"
         },
         {
          "font": {
           "color": "#FFFFFF"
          },
          "showarrow": false,
          "text": "0.04",
          "x": "age",
          "xref": "x",
          "y": "month",
          "yref": "y"
         },
         {
          "font": {
           "color": "#FFFFFF"
          },
          "showarrow": false,
          "text": "0.01",
          "x": "job",
          "xref": "x",
          "y": "month",
          "yref": "y"
         },
         {
          "font": {
           "color": "#FFFFFF"
          },
          "showarrow": false,
          "text": "0.01",
          "x": "marital",
          "xref": "x",
          "y": "month",
          "yref": "y"
         },
         {
          "font": {
           "color": "#FFFFFF"
          },
          "showarrow": false,
          "text": "0.13",
          "x": "education",
          "xref": "x",
          "y": "month",
          "yref": "y"
         },
         {
          "font": {
           "color": "#FFFFFF"
          },
          "showarrow": false,
          "text": "0.11",
          "x": "default",
          "xref": "x",
          "y": "month",
          "yref": "y"
         },
         {
          "font": {
           "color": "#FFFFFF"
          },
          "showarrow": false,
          "text": "0.04",
          "x": "housing",
          "xref": "x",
          "y": "month",
          "yref": "y"
         },
         {
          "font": {
           "color": "#FFFFFF"
          },
          "showarrow": false,
          "text": "0.0",
          "x": "loan",
          "xref": "x",
          "y": "month",
          "yref": "y"
         },
         {
          "font": {
           "color": "#FFFFFF"
          },
          "showarrow": false,
          "text": "-0.35",
          "x": "contact",
          "xref": "x",
          "y": "month",
          "yref": "y"
         },
         {
          "font": {
           "color": "#000000"
          },
          "showarrow": false,
          "text": "1.0",
          "x": "month",
          "xref": "x",
          "y": "month",
          "yref": "y"
         },
         {
          "font": {
           "color": "#FFFFFF"
          },
          "showarrow": false,
          "text": "-0.01",
          "x": "duration",
          "xref": "x",
          "y": "month",
          "yref": "y"
         },
         {
          "font": {
           "color": "#FFFFFF"
          },
          "showarrow": false,
          "text": "-0.04",
          "x": "campaign",
          "xref": "x",
          "y": "month",
          "yref": "y"
         },
         {
          "font": {
           "color": "#FFFFFF"
          },
          "showarrow": false,
          "text": "-0.11",
          "x": "pdays",
          "xref": "x",
          "y": "month",
          "yref": "y"
         },
         {
          "font": {
           "color": "#FFFFFF"
          },
          "showarrow": false,
          "text": "0.07",
          "x": "previous",
          "xref": "x",
          "y": "month",
          "yref": "y"
         },
         {
          "font": {
           "color": "#FFFFFF"
          },
          "showarrow": false,
          "text": "0.05",
          "x": "poutcome",
          "xref": "x",
          "y": "month",
          "yref": "y"
         },
         {
          "font": {
           "color": "#FFFFFF"
          },
          "showarrow": false,
          "text": "0.04",
          "x": "emp.var.rate",
          "xref": "x",
          "y": "month",
          "yref": "y"
         },
         {
          "font": {
           "color": "#FFFFFF"
          },
          "showarrow": false,
          "text": "-0.13",
          "x": "cons.price.idx",
          "xref": "x",
          "y": "month",
          "yref": "y"
         },
         {
          "font": {
           "color": "#000000"
          },
          "showarrow": false,
          "text": "0.22",
          "x": "cons.conf.idx",
          "xref": "x",
          "y": "month",
          "yref": "y"
         },
         {
          "font": {
           "color": "#FFFFFF"
          },
          "showarrow": false,
          "text": "0.14",
          "x": "euribor3m",
          "xref": "x",
          "y": "month",
          "yref": "y"
         },
         {
          "font": {
           "color": "#FFFFFF"
          },
          "showarrow": false,
          "text": "0.09",
          "x": "nr.employed",
          "xref": "x",
          "y": "month",
          "yref": "y"
         },
         {
          "font": {
           "color": "#FFFFFF"
          },
          "showarrow": false,
          "text": "0.04",
          "x": "age",
          "xref": "x",
          "y": "duration",
          "yref": "y"
         },
         {
          "font": {
           "color": "#FFFFFF"
          },
          "showarrow": false,
          "text": "0.02",
          "x": "job",
          "xref": "x",
          "y": "duration",
          "yref": "y"
         },
         {
          "font": {
           "color": "#FFFFFF"
          },
          "showarrow": false,
          "text": "0.02",
          "x": "marital",
          "xref": "x",
          "y": "duration",
          "yref": "y"
         },
         {
          "font": {
           "color": "#FFFFFF"
          },
          "showarrow": false,
          "text": "-0.01",
          "x": "education",
          "xref": "x",
          "y": "duration",
          "yref": "y"
         },
         {
          "font": {
           "color": "#FFFFFF"
          },
          "showarrow": false,
          "text": "0.02",
          "x": "default",
          "xref": "x",
          "y": "duration",
          "yref": "y"
         },
         {
          "font": {
           "color": "#FFFFFF"
          },
          "showarrow": false,
          "text": "-0.02",
          "x": "housing",
          "xref": "x",
          "y": "duration",
          "yref": "y"
         },
         {
          "font": {
           "color": "#FFFFFF"
          },
          "showarrow": false,
          "text": "0.0",
          "x": "loan",
          "xref": "x",
          "y": "duration",
          "yref": "y"
         },
         {
          "font": {
           "color": "#FFFFFF"
          },
          "showarrow": false,
          "text": "-0.03",
          "x": "contact",
          "xref": "x",
          "y": "duration",
          "yref": "y"
         },
         {
          "font": {
           "color": "#FFFFFF"
          },
          "showarrow": false,
          "text": "-0.01",
          "x": "month",
          "xref": "x",
          "y": "duration",
          "yref": "y"
         },
         {
          "font": {
           "color": "#000000"
          },
          "showarrow": false,
          "text": "1.0",
          "x": "duration",
          "xref": "x",
          "y": "duration",
          "yref": "y"
         },
         {
          "font": {
           "color": "#FFFFFF"
          },
          "showarrow": false,
          "text": "-0.1",
          "x": "campaign",
          "xref": "x",
          "y": "duration",
          "yref": "y"
         },
         {
          "font": {
           "color": "#FFFFFF"
          },
          "showarrow": false,
          "text": "-0.05",
          "x": "pdays",
          "xref": "x",
          "y": "duration",
          "yref": "y"
         },
         {
          "font": {
           "color": "#FFFFFF"
          },
          "showarrow": false,
          "text": "0.03",
          "x": "previous",
          "xref": "x",
          "y": "duration",
          "yref": "y"
         },
         {
          "font": {
           "color": "#FFFFFF"
          },
          "showarrow": false,
          "text": "0.03",
          "x": "poutcome",
          "xref": "x",
          "y": "duration",
          "yref": "y"
         },
         {
          "font": {
           "color": "#FFFFFF"
          },
          "showarrow": false,
          "text": "-0.03",
          "x": "emp.var.rate",
          "xref": "x",
          "y": "duration",
          "yref": "y"
         },
         {
          "font": {
           "color": "#FFFFFF"
          },
          "showarrow": false,
          "text": "0.02",
          "x": "cons.price.idx",
          "xref": "x",
          "y": "duration",
          "yref": "y"
         },
         {
          "font": {
           "color": "#FFFFFF"
          },
          "showarrow": false,
          "text": "-0.04",
          "x": "cons.conf.idx",
          "xref": "x",
          "y": "duration",
          "yref": "y"
         },
         {
          "font": {
           "color": "#FFFFFF"
          },
          "showarrow": false,
          "text": "-0.03",
          "x": "euribor3m",
          "xref": "x",
          "y": "duration",
          "yref": "y"
         },
         {
          "font": {
           "color": "#FFFFFF"
          },
          "showarrow": false,
          "text": "-0.05",
          "x": "nr.employed",
          "xref": "x",
          "y": "duration",
          "yref": "y"
         },
         {
          "font": {
           "color": "#FFFFFF"
          },
          "showarrow": false,
          "text": "-0.01",
          "x": "age",
          "xref": "x",
          "y": "campaign",
          "yref": "y"
         },
         {
          "font": {
           "color": "#FFFFFF"
          },
          "showarrow": false,
          "text": "-0.05",
          "x": "job",
          "xref": "x",
          "y": "campaign",
          "yref": "y"
         },
         {
          "font": {
           "color": "#FFFFFF"
          },
          "showarrow": false,
          "text": "0.0",
          "x": "marital",
          "xref": "x",
          "y": "campaign",
          "yref": "y"
         },
         {
          "font": {
           "color": "#FFFFFF"
          },
          "showarrow": false,
          "text": "0.02",
          "x": "education",
          "xref": "x",
          "y": "campaign",
          "yref": "y"
         },
         {
          "font": {
           "color": "#FFFFFF"
          },
          "showarrow": false,
          "text": "-0.02",
          "x": "default",
          "xref": "x",
          "y": "campaign",
          "yref": "y"
         },
         {
          "font": {
           "color": "#FFFFFF"
          },
          "showarrow": false,
          "text": "-0.02",
          "x": "housing",
          "xref": "x",
          "y": "campaign",
          "yref": "y"
         },
         {
          "font": {
           "color": "#FFFFFF"
          },
          "showarrow": false,
          "text": "-0.02",
          "x": "loan",
          "xref": "x",
          "y": "campaign",
          "yref": "y"
         },
         {
          "font": {
           "color": "#FFFFFF"
          },
          "showarrow": false,
          "text": "0.09",
          "x": "contact",
          "xref": "x",
          "y": "campaign",
          "yref": "y"
         },
         {
          "font": {
           "color": "#FFFFFF"
          },
          "showarrow": false,
          "text": "-0.04",
          "x": "month",
          "xref": "x",
          "y": "campaign",
          "yref": "y"
         },
         {
          "font": {
           "color": "#FFFFFF"
          },
          "showarrow": false,
          "text": "-0.1",
          "x": "duration",
          "xref": "x",
          "y": "campaign",
          "yref": "y"
         },
         {
          "font": {
           "color": "#000000"
          },
          "showarrow": false,
          "text": "1.0",
          "x": "campaign",
          "xref": "x",
          "y": "campaign",
          "yref": "y"
         },
         {
          "font": {
           "color": "#FFFFFF"
          },
          "showarrow": false,
          "text": "0.06",
          "x": "pdays",
          "xref": "x",
          "y": "campaign",
          "yref": "y"
         },
         {
          "font": {
           "color": "#FFFFFF"
          },
          "showarrow": false,
          "text": "-0.09",
          "x": "previous",
          "xref": "x",
          "y": "campaign",
          "yref": "y"
         },
         {
          "font": {
           "color": "#FFFFFF"
          },
          "showarrow": false,
          "text": "0.04",
          "x": "poutcome",
          "xref": "x",
          "y": "campaign",
          "yref": "y"
         },
         {
          "font": {
           "color": "#FFFFFF"
          },
          "showarrow": false,
          "text": "0.18",
          "x": "emp.var.rate",
          "xref": "x",
          "y": "campaign",
          "yref": "y"
         },
         {
          "font": {
           "color": "#FFFFFF"
          },
          "showarrow": false,
          "text": "0.15",
          "x": "cons.price.idx",
          "xref": "x",
          "y": "campaign",
          "yref": "y"
         },
         {
          "font": {
           "color": "#FFFFFF"
          },
          "showarrow": false,
          "text": "0.01",
          "x": "cons.conf.idx",
          "xref": "x",
          "y": "campaign",
          "yref": "y"
         },
         {
          "font": {
           "color": "#FFFFFF"
          },
          "showarrow": false,
          "text": "0.16",
          "x": "euribor3m",
          "xref": "x",
          "y": "campaign",
          "yref": "y"
         },
         {
          "font": {
           "color": "#FFFFFF"
          },
          "showarrow": false,
          "text": "0.16",
          "x": "nr.employed",
          "xref": "x",
          "y": "campaign",
          "yref": "y"
         },
         {
          "font": {
           "color": "#FFFFFF"
          },
          "showarrow": false,
          "text": "-0.04",
          "x": "age",
          "xref": "x",
          "y": "pdays",
          "yref": "y"
         },
         {
          "font": {
           "color": "#FFFFFF"
          },
          "showarrow": false,
          "text": "0.01",
          "x": "job",
          "xref": "x",
          "y": "pdays",
          "yref": "y"
         },
         {
          "font": {
           "color": "#FFFFFF"
          },
          "showarrow": false,
          "text": "-0.02",
          "x": "marital",
          "xref": "x",
          "y": "pdays",
          "yref": "y"
         },
         {
          "font": {
           "color": "#FFFFFF"
          },
          "showarrow": false,
          "text": "-0.04",
          "x": "education",
          "xref": "x",
          "y": "pdays",
          "yref": "y"
         },
         {
          "font": {
           "color": "#FFFFFF"
          },
          "showarrow": false,
          "text": "-0.09",
          "x": "default",
          "xref": "x",
          "y": "pdays",
          "yref": "y"
         },
         {
          "font": {
           "color": "#FFFFFF"
          },
          "showarrow": false,
          "text": "-0.03",
          "x": "housing",
          "xref": "x",
          "y": "pdays",
          "yref": "y"
         },
         {
          "font": {
           "color": "#FFFFFF"
          },
          "showarrow": false,
          "text": "0.0",
          "x": "loan",
          "xref": "x",
          "y": "pdays",
          "yref": "y"
         },
         {
          "font": {
           "color": "#FFFFFF"
          },
          "showarrow": false,
          "text": "0.12",
          "x": "contact",
          "xref": "x",
          "y": "pdays",
          "yref": "y"
         },
         {
          "font": {
           "color": "#FFFFFF"
          },
          "showarrow": false,
          "text": "-0.11",
          "x": "month",
          "xref": "x",
          "y": "pdays",
          "yref": "y"
         },
         {
          "font": {
           "color": "#FFFFFF"
          },
          "showarrow": false,
          "text": "-0.05",
          "x": "duration",
          "xref": "x",
          "y": "pdays",
          "yref": "y"
         },
         {
          "font": {
           "color": "#FFFFFF"
          },
          "showarrow": false,
          "text": "0.06",
          "x": "campaign",
          "xref": "x",
          "y": "pdays",
          "yref": "y"
         },
         {
          "font": {
           "color": "#000000"
          },
          "showarrow": false,
          "text": "1.0",
          "x": "pdays",
          "xref": "x",
          "y": "pdays",
          "yref": "y"
         },
         {
          "font": {
           "color": "#FFFFFF"
          },
          "showarrow": false,
          "text": "-0.59",
          "x": "previous",
          "xref": "x",
          "y": "pdays",
          "yref": "y"
         },
         {
          "font": {
           "color": "#FFFFFF"
          },
          "showarrow": false,
          "text": "-0.48",
          "x": "poutcome",
          "xref": "x",
          "y": "pdays",
          "yref": "y"
         },
         {
          "font": {
           "color": "#000000"
          },
          "showarrow": false,
          "text": "0.27",
          "x": "emp.var.rate",
          "xref": "x",
          "y": "pdays",
          "yref": "y"
         },
         {
          "font": {
           "color": "#FFFFFF"
          },
          "showarrow": false,
          "text": "0.05",
          "x": "cons.price.idx",
          "xref": "x",
          "y": "pdays",
          "yref": "y"
         },
         {
          "font": {
           "color": "#FFFFFF"
          },
          "showarrow": false,
          "text": "-0.09",
          "x": "cons.conf.idx",
          "xref": "x",
          "y": "pdays",
          "yref": "y"
         },
         {
          "font": {
           "color": "#000000"
          },
          "showarrow": false,
          "text": "0.3",
          "x": "euribor3m",
          "xref": "x",
          "y": "pdays",
          "yref": "y"
         },
         {
          "font": {
           "color": "#000000"
          },
          "showarrow": false,
          "text": "0.39",
          "x": "nr.employed",
          "xref": "x",
          "y": "pdays",
          "yref": "y"
         },
         {
          "font": {
           "color": "#FFFFFF"
          },
          "showarrow": false,
          "text": "0.04",
          "x": "age",
          "xref": "x",
          "y": "previous",
          "yref": "y"
         },
         {
          "font": {
           "color": "#FFFFFF"
          },
          "showarrow": false,
          "text": "0.01",
          "x": "job",
          "xref": "x",
          "y": "previous",
          "yref": "y"
         },
         {
          "font": {
           "color": "#FFFFFF"
          },
          "showarrow": false,
          "text": "0.04",
          "x": "marital",
          "xref": "x",
          "y": "previous",
          "yref": "y"
         },
         {
          "font": {
           "color": "#FFFFFF"
          },
          "showarrow": false,
          "text": "0.03",
          "x": "education",
          "xref": "x",
          "y": "previous",
          "yref": "y"
         },
         {
          "font": {
           "color": "#FFFFFF"
          },
          "showarrow": false,
          "text": "0.1",
          "x": "default",
          "xref": "x",
          "y": "previous",
          "yref": "y"
         },
         {
          "font": {
           "color": "#FFFFFF"
          },
          "showarrow": false,
          "text": "0.02",
          "x": "housing",
          "xref": "x",
          "y": "previous",
          "yref": "y"
         },
         {
          "font": {
           "color": "#FFFFFF"
          },
          "showarrow": false,
          "text": "-0.01",
          "x": "loan",
          "xref": "x",
          "y": "previous",
          "yref": "y"
         },
         {
          "font": {
           "color": "#FFFFFF"
          },
          "showarrow": false,
          "text": "-0.22",
          "x": "contact",
          "xref": "x",
          "y": "previous",
          "yref": "y"
         },
         {
          "font": {
           "color": "#FFFFFF"
          },
          "showarrow": false,
          "text": "0.07",
          "x": "month",
          "xref": "x",
          "y": "previous",
          "yref": "y"
         },
         {
          "font": {
           "color": "#FFFFFF"
          },
          "showarrow": false,
          "text": "0.03",
          "x": "duration",
          "xref": "x",
          "y": "previous",
          "yref": "y"
         },
         {
          "font": {
           "color": "#FFFFFF"
          },
          "showarrow": false,
          "text": "-0.09",
          "x": "campaign",
          "xref": "x",
          "y": "previous",
          "yref": "y"
         },
         {
          "font": {
           "color": "#FFFFFF"
          },
          "showarrow": false,
          "text": "-0.59",
          "x": "pdays",
          "xref": "x",
          "y": "previous",
          "yref": "y"
         },
         {
          "font": {
           "color": "#000000"
          },
          "showarrow": false,
          "text": "1.0",
          "x": "previous",
          "xref": "x",
          "y": "previous",
          "yref": "y"
         },
         {
          "font": {
           "color": "#FFFFFF"
          },
          "showarrow": false,
          "text": "-0.27",
          "x": "poutcome",
          "xref": "x",
          "y": "previous",
          "yref": "y"
         },
         {
          "font": {
           "color": "#FFFFFF"
          },
          "showarrow": false,
          "text": "-0.41",
          "x": "emp.var.rate",
          "xref": "x",
          "y": "previous",
          "yref": "y"
         },
         {
          "font": {
           "color": "#FFFFFF"
          },
          "showarrow": false,
          "text": "-0.14",
          "x": "cons.price.idx",
          "xref": "x",
          "y": "previous",
          "yref": "y"
         },
         {
          "font": {
           "color": "#FFFFFF"
          },
          "showarrow": false,
          "text": "-0.05",
          "x": "cons.conf.idx",
          "xref": "x",
          "y": "previous",
          "yref": "y"
         },
         {
          "font": {
           "color": "#FFFFFF"
          },
          "showarrow": false,
          "text": "-0.46",
          "x": "euribor3m",
          "xref": "x",
          "y": "previous",
          "yref": "y"
         },
         {
          "font": {
           "color": "#FFFFFF"
          },
          "showarrow": false,
          "text": "-0.52",
          "x": "nr.employed",
          "xref": "x",
          "y": "previous",
          "yref": "y"
         },
         {
          "font": {
           "color": "#FFFFFF"
          },
          "showarrow": false,
          "text": "0.02",
          "x": "age",
          "xref": "x",
          "y": "poutcome",
          "yref": "y"
         },
         {
          "font": {
           "color": "#FFFFFF"
          },
          "showarrow": false,
          "text": "-0.02",
          "x": "job",
          "xref": "x",
          "y": "poutcome",
          "yref": "y"
         },
         {
          "font": {
           "color": "#FFFFFF"
          },
          "showarrow": false,
          "text": "-0.02",
          "x": "marital",
          "xref": "x",
          "y": "poutcome",
          "yref": "y"
         },
         {
          "font": {
           "color": "#FFFFFF"
          },
          "showarrow": false,
          "text": "0.02",
          "x": "education",
          "xref": "x",
          "y": "poutcome",
          "yref": "y"
         },
         {
          "font": {
           "color": "#FFFFFF"
          },
          "showarrow": false,
          "text": "0.0",
          "x": "default",
          "xref": "x",
          "y": "poutcome",
          "yref": "y"
         },
         {
          "font": {
           "color": "#FFFFFF"
          },
          "showarrow": false,
          "text": "0.02",
          "x": "housing",
          "xref": "x",
          "y": "poutcome",
          "yref": "y"
         },
         {
          "font": {
           "color": "#FFFFFF"
          },
          "showarrow": false,
          "text": "0.01",
          "x": "loan",
          "xref": "x",
          "y": "poutcome",
          "yref": "y"
         },
         {
          "font": {
           "color": "#FFFFFF"
          },
          "showarrow": false,
          "text": "0.13",
          "x": "contact",
          "xref": "x",
          "y": "poutcome",
          "yref": "y"
         },
         {
          "font": {
           "color": "#FFFFFF"
          },
          "showarrow": false,
          "text": "0.05",
          "x": "month",
          "xref": "x",
          "y": "poutcome",
          "yref": "y"
         },
         {
          "font": {
           "color": "#FFFFFF"
          },
          "showarrow": false,
          "text": "0.03",
          "x": "duration",
          "xref": "x",
          "y": "poutcome",
          "yref": "y"
         },
         {
          "font": {
           "color": "#FFFFFF"
          },
          "showarrow": false,
          "text": "0.04",
          "x": "campaign",
          "xref": "x",
          "y": "poutcome",
          "yref": "y"
         },
         {
          "font": {
           "color": "#FFFFFF"
          },
          "showarrow": false,
          "text": "-0.48",
          "x": "pdays",
          "xref": "x",
          "y": "poutcome",
          "yref": "y"
         },
         {
          "font": {
           "color": "#FFFFFF"
          },
          "showarrow": false,
          "text": "-0.27",
          "x": "previous",
          "xref": "x",
          "y": "poutcome",
          "yref": "y"
         },
         {
          "font": {
           "color": "#000000"
          },
          "showarrow": false,
          "text": "1.0",
          "x": "poutcome",
          "xref": "x",
          "y": "poutcome",
          "yref": "y"
         },
         {
          "font": {
           "color": "#FFFFFF"
          },
          "showarrow": false,
          "text": "0.2",
          "x": "emp.var.rate",
          "xref": "x",
          "y": "poutcome",
          "yref": "y"
         },
         {
          "font": {
           "color": "#000000"
          },
          "showarrow": false,
          "text": "0.21",
          "x": "cons.price.idx",
          "xref": "x",
          "y": "poutcome",
          "yref": "y"
         },
         {
          "font": {
           "color": "#FFFFFF"
          },
          "showarrow": false,
          "text": "0.19",
          "x": "cons.conf.idx",
          "xref": "x",
          "y": "poutcome",
          "yref": "y"
         },
         {
          "font": {
           "color": "#FFFFFF"
          },
          "showarrow": false,
          "text": "0.19",
          "x": "euribor3m",
          "xref": "x",
          "y": "poutcome",
          "yref": "y"
         },
         {
          "font": {
           "color": "#FFFFFF"
          },
          "showarrow": false,
          "text": "0.12",
          "x": "nr.employed",
          "xref": "x",
          "y": "poutcome",
          "yref": "y"
         },
         {
          "font": {
           "color": "#FFFFFF"
          },
          "showarrow": false,
          "text": "-0.01",
          "x": "age",
          "xref": "x",
          "y": "emp.var.rate",
          "yref": "y"
         },
         {
          "font": {
           "color": "#FFFFFF"
          },
          "showarrow": false,
          "text": "-0.03",
          "x": "job",
          "xref": "x",
          "y": "emp.var.rate",
          "yref": "y"
         },
         {
          "font": {
           "color": "#FFFFFF"
          },
          "showarrow": false,
          "text": "-0.05",
          "x": "marital",
          "xref": "x",
          "y": "emp.var.rate",
          "yref": "y"
         },
         {
          "font": {
           "color": "#FFFFFF"
          },
          "showarrow": false,
          "text": "-0.05",
          "x": "education",
          "xref": "x",
          "y": "emp.var.rate",
          "yref": "y"
         },
         {
          "font": {
           "color": "#FFFFFF"
          },
          "showarrow": false,
          "text": "-0.19",
          "x": "default",
          "xref": "x",
          "y": "emp.var.rate",
          "yref": "y"
         },
         {
          "font": {
           "color": "#FFFFFF"
          },
          "showarrow": false,
          "text": "-0.05",
          "x": "housing",
          "xref": "x",
          "y": "emp.var.rate",
          "yref": "y"
         },
         {
          "font": {
           "color": "#FFFFFF"
          },
          "showarrow": false,
          "text": "-0.02",
          "x": "loan",
          "xref": "x",
          "y": "emp.var.rate",
          "yref": "y"
         },
         {
          "font": {
           "color": "#000000"
          },
          "showarrow": false,
          "text": "0.39",
          "x": "contact",
          "xref": "x",
          "y": "emp.var.rate",
          "yref": "y"
         },
         {
          "font": {
           "color": "#FFFFFF"
          },
          "showarrow": false,
          "text": "0.04",
          "x": "month",
          "xref": "x",
          "y": "emp.var.rate",
          "yref": "y"
         },
         {
          "font": {
           "color": "#FFFFFF"
          },
          "showarrow": false,
          "text": "-0.03",
          "x": "duration",
          "xref": "x",
          "y": "emp.var.rate",
          "yref": "y"
         },
         {
          "font": {
           "color": "#FFFFFF"
          },
          "showarrow": false,
          "text": "0.18",
          "x": "campaign",
          "xref": "x",
          "y": "emp.var.rate",
          "yref": "y"
         },
         {
          "font": {
           "color": "#000000"
          },
          "showarrow": false,
          "text": "0.27",
          "x": "pdays",
          "xref": "x",
          "y": "emp.var.rate",
          "yref": "y"
         },
         {
          "font": {
           "color": "#FFFFFF"
          },
          "showarrow": false,
          "text": "-0.41",
          "x": "previous",
          "xref": "x",
          "y": "emp.var.rate",
          "yref": "y"
         },
         {
          "font": {
           "color": "#FFFFFF"
          },
          "showarrow": false,
          "text": "0.2",
          "x": "poutcome",
          "xref": "x",
          "y": "emp.var.rate",
          "yref": "y"
         },
         {
          "font": {
           "color": "#000000"
          },
          "showarrow": false,
          "text": "1.0",
          "x": "emp.var.rate",
          "xref": "x",
          "y": "emp.var.rate",
          "yref": "y"
         },
         {
          "font": {
           "color": "#000000"
          },
          "showarrow": false,
          "text": "0.75",
          "x": "cons.price.idx",
          "xref": "x",
          "y": "emp.var.rate",
          "yref": "y"
         },
         {
          "font": {
           "color": "#000000"
          },
          "showarrow": false,
          "text": "0.22",
          "x": "cons.conf.idx",
          "xref": "x",
          "y": "emp.var.rate",
          "yref": "y"
         },
         {
          "font": {
           "color": "#000000"
          },
          "showarrow": false,
          "text": "0.97",
          "x": "euribor3m",
          "xref": "x",
          "y": "emp.var.rate",
          "yref": "y"
         },
         {
          "font": {
           "color": "#000000"
          },
          "showarrow": false,
          "text": "0.89",
          "x": "nr.employed",
          "xref": "x",
          "y": "emp.var.rate",
          "yref": "y"
         },
         {
          "font": {
           "color": "#FFFFFF"
          },
          "showarrow": false,
          "text": "0.01",
          "x": "age",
          "xref": "x",
          "y": "cons.price.idx",
          "yref": "y"
         },
         {
          "font": {
           "color": "#FFFFFF"
          },
          "showarrow": false,
          "text": "0.03",
          "x": "job",
          "xref": "x",
          "y": "cons.price.idx",
          "yref": "y"
         },
         {
          "font": {
           "color": "#FFFFFF"
          },
          "showarrow": false,
          "text": "-0.03",
          "x": "marital",
          "xref": "x",
          "y": "cons.price.idx",
          "yref": "y"
         },
         {
          "font": {
           "color": "#FFFFFF"
          },
          "showarrow": false,
          "text": "-0.1",
          "x": "education",
          "xref": "x",
          "y": "cons.price.idx",
          "yref": "y"
         },
         {
          "font": {
           "color": "#FFFFFF"
          },
          "showarrow": false,
          "text": "-0.16",
          "x": "default",
          "xref": "x",
          "y": "cons.price.idx",
          "yref": "y"
         },
         {
          "font": {
           "color": "#FFFFFF"
          },
          "showarrow": false,
          "text": "-0.09",
          "x": "housing",
          "xref": "x",
          "y": "cons.price.idx",
          "yref": "y"
         },
         {
          "font": {
           "color": "#FFFFFF"
          },
          "showarrow": false,
          "text": "-0.03",
          "x": "loan",
          "xref": "x",
          "y": "cons.price.idx",
          "yref": "y"
         },
         {
          "font": {
           "color": "#000000"
          },
          "showarrow": false,
          "text": "0.57",
          "x": "contact",
          "xref": "x",
          "y": "cons.price.idx",
          "yref": "y"
         },
         {
          "font": {
           "color": "#FFFFFF"
          },
          "showarrow": false,
          "text": "-0.13",
          "x": "month",
          "xref": "x",
          "y": "cons.price.idx",
          "yref": "y"
         },
         {
          "font": {
           "color": "#FFFFFF"
          },
          "showarrow": false,
          "text": "0.02",
          "x": "duration",
          "xref": "x",
          "y": "cons.price.idx",
          "yref": "y"
         },
         {
          "font": {
           "color": "#FFFFFF"
          },
          "showarrow": false,
          "text": "0.15",
          "x": "campaign",
          "xref": "x",
          "y": "cons.price.idx",
          "yref": "y"
         },
         {
          "font": {
           "color": "#FFFFFF"
          },
          "showarrow": false,
          "text": "0.05",
          "x": "pdays",
          "xref": "x",
          "y": "cons.price.idx",
          "yref": "y"
         },
         {
          "font": {
           "color": "#FFFFFF"
          },
          "showarrow": false,
          "text": "-0.14",
          "x": "previous",
          "xref": "x",
          "y": "cons.price.idx",
          "yref": "y"
         },
         {
          "font": {
           "color": "#000000"
          },
          "showarrow": false,
          "text": "0.21",
          "x": "poutcome",
          "xref": "x",
          "y": "cons.price.idx",
          "yref": "y"
         },
         {
          "font": {
           "color": "#000000"
          },
          "showarrow": false,
          "text": "0.75",
          "x": "emp.var.rate",
          "xref": "x",
          "y": "cons.price.idx",
          "yref": "y"
         },
         {
          "font": {
           "color": "#000000"
          },
          "showarrow": false,
          "text": "1.0",
          "x": "cons.price.idx",
          "xref": "x",
          "y": "cons.price.idx",
          "yref": "y"
         },
         {
          "font": {
           "color": "#FFFFFF"
          },
          "showarrow": false,
          "text": "0.06",
          "x": "cons.conf.idx",
          "xref": "x",
          "y": "cons.price.idx",
          "yref": "y"
         },
         {
          "font": {
           "color": "#000000"
          },
          "showarrow": false,
          "text": "0.65",
          "x": "euribor3m",
          "xref": "x",
          "y": "cons.price.idx",
          "yref": "y"
         },
         {
          "font": {
           "color": "#000000"
          },
          "showarrow": false,
          "text": "0.45",
          "x": "nr.employed",
          "xref": "x",
          "y": "cons.price.idx",
          "yref": "y"
         },
         {
          "font": {
           "color": "#FFFFFF"
          },
          "showarrow": false,
          "text": "0.09",
          "x": "age",
          "xref": "x",
          "y": "cons.conf.idx",
          "yref": "y"
         },
         {
          "font": {
           "color": "#FFFFFF"
          },
          "showarrow": false,
          "text": "-0.06",
          "x": "job",
          "xref": "x",
          "y": "cons.conf.idx",
          "yref": "y"
         },
         {
          "font": {
           "color": "#FFFFFF"
          },
          "showarrow": false,
          "text": "-0.04",
          "x": "marital",
          "xref": "x",
          "y": "cons.conf.idx",
          "yref": "y"
         },
         {
          "font": {
           "color": "#FFFFFF"
          },
          "showarrow": false,
          "text": "0.07",
          "x": "education",
          "xref": "x",
          "y": "cons.conf.idx",
          "yref": "y"
         },
         {
          "font": {
           "color": "#FFFFFF"
          },
          "showarrow": false,
          "text": "-0.02",
          "x": "default",
          "xref": "x",
          "y": "cons.conf.idx",
          "yref": "y"
         },
         {
          "font": {
           "color": "#FFFFFF"
          },
          "showarrow": false,
          "text": "-0.03",
          "x": "housing",
          "xref": "x",
          "y": "cons.conf.idx",
          "yref": "y"
         },
         {
          "font": {
           "color": "#FFFFFF"
          },
          "showarrow": false,
          "text": "-0.0",
          "x": "loan",
          "xref": "x",
          "y": "cons.conf.idx",
          "yref": "y"
         },
         {
          "font": {
           "color": "#000000"
          },
          "showarrow": false,
          "text": "0.26",
          "x": "contact",
          "xref": "x",
          "y": "cons.conf.idx",
          "yref": "y"
         },
         {
          "font": {
           "color": "#000000"
          },
          "showarrow": false,
          "text": "0.22",
          "x": "month",
          "xref": "x",
          "y": "cons.conf.idx",
          "yref": "y"
         },
         {
          "font": {
           "color": "#FFFFFF"
          },
          "showarrow": false,
          "text": "-0.04",
          "x": "duration",
          "xref": "x",
          "y": "cons.conf.idx",
          "yref": "y"
         },
         {
          "font": {
           "color": "#FFFFFF"
          },
          "showarrow": false,
          "text": "0.01",
          "x": "campaign",
          "xref": "x",
          "y": "cons.conf.idx",
          "yref": "y"
         },
         {
          "font": {
           "color": "#FFFFFF"
          },
          "showarrow": false,
          "text": "-0.09",
          "x": "pdays",
          "xref": "x",
          "y": "cons.conf.idx",
          "yref": "y"
         },
         {
          "font": {
           "color": "#FFFFFF"
          },
          "showarrow": false,
          "text": "-0.05",
          "x": "previous",
          "xref": "x",
          "y": "cons.conf.idx",
          "yref": "y"
         },
         {
          "font": {
           "color": "#FFFFFF"
          },
          "showarrow": false,
          "text": "0.19",
          "x": "poutcome",
          "xref": "x",
          "y": "cons.conf.idx",
          "yref": "y"
         },
         {
          "font": {
           "color": "#000000"
          },
          "showarrow": false,
          "text": "0.22",
          "x": "emp.var.rate",
          "xref": "x",
          "y": "cons.conf.idx",
          "yref": "y"
         },
         {
          "font": {
           "color": "#FFFFFF"
          },
          "showarrow": false,
          "text": "0.06",
          "x": "cons.price.idx",
          "xref": "x",
          "y": "cons.conf.idx",
          "yref": "y"
         },
         {
          "font": {
           "color": "#000000"
          },
          "showarrow": false,
          "text": "1.0",
          "x": "cons.conf.idx",
          "xref": "x",
          "y": "cons.conf.idx",
          "yref": "y"
         },
         {
          "font": {
           "color": "#000000"
          },
          "showarrow": false,
          "text": "0.3",
          "x": "euribor3m",
          "xref": "x",
          "y": "cons.conf.idx",
          "yref": "y"
         },
         {
          "font": {
           "color": "#FFFFFF"
          },
          "showarrow": false,
          "text": "0.13",
          "x": "nr.employed",
          "xref": "x",
          "y": "cons.conf.idx",
          "yref": "y"
         },
         {
          "font": {
           "color": "#FFFFFF"
          },
          "showarrow": false,
          "text": "-0.01",
          "x": "age",
          "xref": "x",
          "y": "euribor3m",
          "yref": "y"
         },
         {
          "font": {
           "color": "#FFFFFF"
          },
          "showarrow": false,
          "text": "-0.03",
          "x": "job",
          "xref": "x",
          "y": "euribor3m",
          "yref": "y"
         },
         {
          "font": {
           "color": "#FFFFFF"
          },
          "showarrow": false,
          "text": "-0.06",
          "x": "marital",
          "xref": "x",
          "y": "euribor3m",
          "yref": "y"
         },
         {
          "font": {
           "color": "#FFFFFF"
          },
          "showarrow": false,
          "text": "-0.04",
          "x": "education",
          "xref": "x",
          "y": "euribor3m",
          "yref": "y"
         },
         {
          "font": {
           "color": "#FFFFFF"
          },
          "showarrow": false,
          "text": "-0.18",
          "x": "default",
          "xref": "x",
          "y": "euribor3m",
          "yref": "y"
         },
         {
          "font": {
           "color": "#FFFFFF"
          },
          "showarrow": false,
          "text": "-0.05",
          "x": "housing",
          "xref": "x",
          "y": "euribor3m",
          "yref": "y"
         },
         {
          "font": {
           "color": "#FFFFFF"
          },
          "showarrow": false,
          "text": "-0.01",
          "x": "loan",
          "xref": "x",
          "y": "euribor3m",
          "yref": "y"
         },
         {
          "font": {
           "color": "#000000"
          },
          "showarrow": false,
          "text": "0.39",
          "x": "contact",
          "xref": "x",
          "y": "euribor3m",
          "yref": "y"
         },
         {
          "font": {
           "color": "#FFFFFF"
          },
          "showarrow": false,
          "text": "0.14",
          "x": "month",
          "xref": "x",
          "y": "euribor3m",
          "yref": "y"
         },
         {
          "font": {
           "color": "#FFFFFF"
          },
          "showarrow": false,
          "text": "-0.03",
          "x": "duration",
          "xref": "x",
          "y": "euribor3m",
          "yref": "y"
         },
         {
          "font": {
           "color": "#FFFFFF"
          },
          "showarrow": false,
          "text": "0.16",
          "x": "campaign",
          "xref": "x",
          "y": "euribor3m",
          "yref": "y"
         },
         {
          "font": {
           "color": "#000000"
          },
          "showarrow": false,
          "text": "0.3",
          "x": "pdays",
          "xref": "x",
          "y": "euribor3m",
          "yref": "y"
         },
         {
          "font": {
           "color": "#FFFFFF"
          },
          "showarrow": false,
          "text": "-0.46",
          "x": "previous",
          "xref": "x",
          "y": "euribor3m",
          "yref": "y"
         },
         {
          "font": {
           "color": "#FFFFFF"
          },
          "showarrow": false,
          "text": "0.19",
          "x": "poutcome",
          "xref": "x",
          "y": "euribor3m",
          "yref": "y"
         },
         {
          "font": {
           "color": "#000000"
          },
          "showarrow": false,
          "text": "0.97",
          "x": "emp.var.rate",
          "xref": "x",
          "y": "euribor3m",
          "yref": "y"
         },
         {
          "font": {
           "color": "#000000"
          },
          "showarrow": false,
          "text": "0.65",
          "x": "cons.price.idx",
          "xref": "x",
          "y": "euribor3m",
          "yref": "y"
         },
         {
          "font": {
           "color": "#000000"
          },
          "showarrow": false,
          "text": "0.3",
          "x": "cons.conf.idx",
          "xref": "x",
          "y": "euribor3m",
          "yref": "y"
         },
         {
          "font": {
           "color": "#000000"
          },
          "showarrow": false,
          "text": "1.0",
          "x": "euribor3m",
          "xref": "x",
          "y": "euribor3m",
          "yref": "y"
         },
         {
          "font": {
           "color": "#000000"
          },
          "showarrow": false,
          "text": "0.94",
          "x": "nr.employed",
          "xref": "x",
          "y": "euribor3m",
          "yref": "y"
         },
         {
          "font": {
           "color": "#FFFFFF"
          },
          "showarrow": false,
          "text": "-0.04",
          "x": "age",
          "xref": "x",
          "y": "nr.employed",
          "yref": "y"
         },
         {
          "font": {
           "color": "#FFFFFF"
          },
          "showarrow": false,
          "text": "-0.03",
          "x": "job",
          "xref": "x",
          "y": "nr.employed",
          "yref": "y"
         },
         {
          "font": {
           "color": "#FFFFFF"
          },
          "showarrow": false,
          "text": "-0.05",
          "x": "marital",
          "xref": "x",
          "y": "nr.employed",
          "yref": "y"
         },
         {
          "font": {
           "color": "#FFFFFF"
          },
          "showarrow": false,
          "text": "-0.04",
          "x": "education",
          "xref": "x",
          "y": "nr.employed",
          "yref": "y"
         },
         {
          "font": {
           "color": "#FFFFFF"
          },
          "showarrow": false,
          "text": "-0.17",
          "x": "default",
          "xref": "x",
          "y": "nr.employed",
          "yref": "y"
         },
         {
          "font": {
           "color": "#FFFFFF"
          },
          "showarrow": false,
          "text": "-0.03",
          "x": "housing",
          "xref": "x",
          "y": "nr.employed",
          "yref": "y"
         },
         {
          "font": {
           "color": "#FFFFFF"
          },
          "showarrow": false,
          "text": "-0.0",
          "x": "loan",
          "xref": "x",
          "y": "nr.employed",
          "yref": "y"
         },
         {
          "font": {
           "color": "#000000"
          },
          "showarrow": false,
          "text": "0.27",
          "x": "contact",
          "xref": "x",
          "y": "nr.employed",
          "yref": "y"
         },
         {
          "font": {
           "color": "#FFFFFF"
          },
          "showarrow": false,
          "text": "0.09",
          "x": "month",
          "xref": "x",
          "y": "nr.employed",
          "yref": "y"
         },
         {
          "font": {
           "color": "#FFFFFF"
          },
          "showarrow": false,
          "text": "-0.05",
          "x": "duration",
          "xref": "x",
          "y": "nr.employed",
          "yref": "y"
         },
         {
          "font": {
           "color": "#FFFFFF"
          },
          "showarrow": false,
          "text": "0.16",
          "x": "campaign",
          "xref": "x",
          "y": "nr.employed",
          "yref": "y"
         },
         {
          "font": {
           "color": "#000000"
          },
          "showarrow": false,
          "text": "0.39",
          "x": "pdays",
          "xref": "x",
          "y": "nr.employed",
          "yref": "y"
         },
         {
          "font": {
           "color": "#FFFFFF"
          },
          "showarrow": false,
          "text": "-0.52",
          "x": "previous",
          "xref": "x",
          "y": "nr.employed",
          "yref": "y"
         },
         {
          "font": {
           "color": "#FFFFFF"
          },
          "showarrow": false,
          "text": "0.12",
          "x": "poutcome",
          "xref": "x",
          "y": "nr.employed",
          "yref": "y"
         },
         {
          "font": {
           "color": "#000000"
          },
          "showarrow": false,
          "text": "0.89",
          "x": "emp.var.rate",
          "xref": "x",
          "y": "nr.employed",
          "yref": "y"
         },
         {
          "font": {
           "color": "#000000"
          },
          "showarrow": false,
          "text": "0.45",
          "x": "cons.price.idx",
          "xref": "x",
          "y": "nr.employed",
          "yref": "y"
         },
         {
          "font": {
           "color": "#FFFFFF"
          },
          "showarrow": false,
          "text": "0.13",
          "x": "cons.conf.idx",
          "xref": "x",
          "y": "nr.employed",
          "yref": "y"
         },
         {
          "font": {
           "color": "#000000"
          },
          "showarrow": false,
          "text": "0.94",
          "x": "euribor3m",
          "xref": "x",
          "y": "nr.employed",
          "yref": "y"
         },
         {
          "font": {
           "color": "#000000"
          },
          "showarrow": false,
          "text": "1.0",
          "x": "nr.employed",
          "xref": "x",
          "y": "nr.employed",
          "yref": "y"
         }
        ],
        "xaxis": {
         "dtick": 1,
         "gridcolor": "rgb(0, 0, 0)",
         "side": "top",
         "ticks": ""
        },
        "yaxis": {
         "dtick": 1,
         "ticks": "",
         "ticksuffix": "  "
        }
       }
      },
      "text/html": [
       "<div>\n",
       "        \n",
       "        \n",
       "            <div id=\"419763b0-c406-4348-a4d1-fb5735263a83\" class=\"plotly-graph-div\" style=\"height:525px; width:100%;\"></div>\n",
       "            <script type=\"text/javascript\">\n",
       "                require([\"plotly\"], function(Plotly) {\n",
       "                    window.PLOTLYENV=window.PLOTLYENV || {};\n",
       "                    window.PLOTLYENV.BASE_URL='https://plot.ly';\n",
       "                    \n",
       "                if (document.getElementById(\"419763b0-c406-4348-a4d1-fb5735263a83\")) {\n",
       "                    Plotly.newPlot(\n",
       "                        '419763b0-c406-4348-a4d1-fb5735263a83',\n",
       "                        [{\"colorscale\": \"RdBu\", \"reversescale\": false, \"showscale\": true, \"type\": \"heatmap\", \"uid\": \"f85c27e3-ce88-4f89-8a78-0fd1abca3022\", \"x\": [\"age\", \"job\", \"marital\", \"education\", \"default\", \"housing\", \"loan\", \"contact\", \"month\", \"duration\", \"campaign\", \"pdays\", \"previous\", \"poutcome\", \"emp.var.rate\", \"cons.price.idx\", \"cons.conf.idx\", \"euribor3m\", \"nr.employed\"], \"y\": [\"age\", \"job\", \"marital\", \"education\", \"default\", \"housing\", \"loan\", \"contact\", \"month\", \"duration\", \"campaign\", \"pdays\", \"previous\", \"poutcome\", \"emp.var.rate\", \"cons.price.idx\", \"cons.conf.idx\", \"euribor3m\", \"nr.employed\"], \"z\": [[1.0, 0.032453453955406934, -0.12060558118368359, -0.1679130906782054, -0.16693084741955141, -0.007873253252371374, 0.001909817558407383, 0.024892641180616355, 0.03619697960837363, 0.039014078478507276, -0.006500515187578301, -0.040607379934363134, 0.0440003007413333, 0.02318687826405281, -0.01167599267788193, 0.008797947811623647, 0.08614662309327963, -0.009824088343084866, -0.03618301056381389], [0.032453453955406934, 1.0, -0.04728580207950027, -0.2736793166151321, -0.09498282009634856, 0.01125548400458731, 0.0002753074511699481, 0.05078010268293696, 0.00870317167143742, 0.021832285525169907, -0.05330744186177272, 0.007646962198175593, 0.0052727777753918, -0.018442470622117933, -0.027801299106791355, 0.030308376833452447, -0.06420071218322781, -0.025498310809270033, -0.026933376159490884], [-0.12060558118368359, -0.04728580207950027, 1.0, 0.07423647068035141, 0.09126452934178178, 0.02973555646167765, 0.006989890098811836, -0.06063530572590978, 0.014228256293954338, 0.015446671202324399, 0.0031886811435112876, -0.01627666481333055, 0.03764799716938042, -0.024024372871396547, -0.05304281051400705, -0.027585949902305326, -0.04486170139196521, -0.05702356498265719, -0.05246971241471022], [-0.1679130906782054, -0.2736793166151321, 0.07423647068035141, 1.0, 0.23556144731000106, 0.054946792662010684, 0.011535702912791759, -0.13281124350848916, 0.13455594645395644, -0.0058173756346190115, 0.024267841166729053, -0.0432008521230863, 0.03272322761326337, 0.02318160749227881, -0.05079587083770671, -0.10353809203871983, 0.07062701542948024, -0.03800087061023955, -0.03849872723028962], [-0.16693084741955141, -0.09498282009634856, 0.09126452934178178, 0.23556144731000106, 1.0, 0.016803772628645547, -0.011073545533218569, -0.15796557595013286, 0.11428167088684285, 0.01788390793656941, -0.01721479169528327, -0.09116353327854398, 0.09502036146229315, 0.00010285129191608753, -0.1873124726801994, -0.164664791313163, -0.024002108617300892, -0.18091958652770251, -0.1723651156450434], [-0.007873253252371374, 0.01125548400458731, 0.02973555646167765, 0.054946792662010684, 0.016803772628645547, 1.0, 0.2655102627604137, -0.07118376573111217, 0.04275856578693935, -0.016509016539671836, -0.019420711844311635, -0.027140746738277217, 0.019045516028358456, 0.019040576705983178, -0.05112193953000435, -0.08631471429857208, -0.025549921591117054, -0.04757993542030873, -0.02794547651999823], [0.001909817558407383, 0.0002753074511699481, 0.006989890098811836, 0.011535702912791759, -0.011073545533218569, 0.2655102627604137, 1.0, -0.0017071022202722324, 0.0029874884209559337, 0.00027800817132604954, -0.01937999349868463, 0.0020110530490833637, -0.009263486767136297, 0.013674378473417676, -0.015793726211158578, -0.025167581666951978, -0.004511480918392998, -0.007527586746834769, -0.0022048914260761263], [0.024892641180616355, 0.05078010268293696, -0.06063530572590978, -0.13281124350848916, -0.15796557595013286, -0.07118376573111217, -0.0017071022202722324, 1.0, -0.34663924795855044, -0.029471632609458273, 0.09405198896630391, 0.12181836712409568, -0.21741038210551422, 0.128400358671503, 0.3855566630817072, 0.5665585462580564, 0.2645400510555424, 0.3931139178464609, 0.2653155792526592], [0.03619697960837363, 0.00870317167143742, 0.014228256293954338, 0.13455594645395644, 0.11428167088684285, 0.04275856578693935, 0.0029874884209559337, -0.34663924795855044, 1.0, -0.01417380867379643, -0.042934642007937264, -0.10599720126337055, 0.07065718711204144, 0.045816792066115, 0.044435186063308194, -0.12526774450798328, 0.21915932320695236, 0.13670486291797454, 0.0888628789606826], [0.039014078478507276, 0.021832285525169907, 0.015446671202324399, -0.0058173756346190115, 0.01788390793656941, -0.016509016539671836, 0.00027800817132604954, -0.029471632609458273, -0.01417380867379643, 1.0, -0.09747713309163133, -0.04572609935215353, 0.025395373881532367, 0.026700615378408878, -0.028857011141858582, 0.022067258591631694, -0.03654286532779077, -0.03314702605515019, -0.046759595288247434], [-0.006500515187578301, -0.05330744186177272, 0.0031886811435112876, 0.024267841166729053, -0.01721479169528327, -0.019420711844311635, -0.01937999349868463, 0.09405198896630391, -0.042934642007937264, -0.09747713309163133, 1.0, 0.05831378651448923, -0.09074060095631636, 0.03943408640320525, 0.1770545026329796, 0.1454288668233582, 0.007416445618988856, 0.15998042007093644, 0.16246132764484367], [-0.040607379934363134, 0.007646962198175593, -0.01627666481333055, -0.0432008521230863, -0.09116353327854398, -0.027140746738277217, 0.0020110530490833637, 0.12181836712409568, -0.10599720126337055, -0.04572609935215353, 0.05831378651448923, 1.0, -0.5904613753222322, -0.4811531896444154, 0.27111595608703065, 0.04644959427164807, -0.09335933330110041, 0.3036867507267099, 0.39037932938773007], [0.0440003007413333, 0.0052727777753918, 0.03764799716938042, 0.03272322761326337, 0.09502036146229315, 0.019045516028358456, -0.009263486767136297, -0.21741038210551422, 0.07065718711204144, 0.025395373881532367, -0.09074060095631636, -0.5904613753222322, 1.0, -0.2740193608243155, -0.4099436404067917, -0.14169248308711357, -0.05476106538169655, -0.4581221320689598, -0.5200391122584905], [0.02318687826405281, -0.018442470622117933, -0.024024372871396547, 0.02318160749227881, 0.00010285129191608753, 0.019040576705983178, 0.013674378473417676, 0.128400358671503, 0.045816792066115, 0.026700615378408878, 0.03943408640320525, -0.4811531896444154, -0.2740193608243155, 1.0, 0.1973845955615515, 0.21029022807977038, 0.1856533487168269, 0.1925006030037626, 0.12442574042056051], [-0.01167599267788193, -0.027801299106791355, -0.05304281051400705, -0.05079587083770671, -0.1873124726801994, -0.05112193953000435, -0.015793726211158578, 0.3855566630817072, 0.044435186063308194, -0.028857011141858582, 0.1770545026329796, 0.27111595608703065, -0.4099436404067917, 0.1973845955615515, 1.0, 0.7475130291521909, 0.21975141779694563, 0.969967791039401, 0.89232813579329], [0.008797947811623647, 0.030308376833452447, -0.027585949902305326, -0.10353809203871983, -0.164664791313163, -0.08631471429857208, -0.025167581666951978, 0.5665585462580564, -0.12526774450798328, 0.022067258591631694, 0.1454288668233582, 0.04644959427164807, -0.14169248308711357, 0.21029022807977038, 0.7475130291521909, 1.0, 0.06394782311809408, 0.6455676336851165, 0.4508697910024793], [0.08614662309327963, -0.06420071218322781, -0.04486170139196521, 0.07062701542948024, -0.024002108617300892, -0.025549921591117054, -0.004511480918392998, 0.2645400510555424, 0.21915932320695236, -0.03654286532779077, 0.007416445618988856, -0.09335933330110041, -0.05476106538169655, 0.1856533487168269, 0.21975141779694563, 0.06394782311809408, 1.0, 0.3002116484204507, 0.1305930494567276], [-0.009824088343084866, -0.025498310809270033, -0.05702356498265719, -0.03800087061023955, -0.18091958652770251, -0.04757993542030873, -0.007527586746834769, 0.3931139178464609, 0.13670486291797454, -0.03314702605515019, 0.15998042007093644, 0.3036867507267099, -0.4581221320689598, 0.1925006030037626, 0.969967791039401, 0.6455676336851165, 0.3002116484204507, 1.0, 0.9404341724703444], [-0.03618301056381389, -0.026933376159490884, -0.05246971241471022, -0.03849872723028962, -0.1723651156450434, -0.02794547651999823, -0.0022048914260761263, 0.2653155792526592, 0.0888628789606826, -0.046759595288247434, 0.16246132764484367, 0.39037932938773007, -0.5200391122584905, 0.12442574042056051, 0.89232813579329, 0.4508697910024793, 0.1305930494567276, 0.9404341724703444, 1.0]]}],\n",
       "                        {\"annotations\": [{\"font\": {\"color\": \"#000000\"}, \"showarrow\": false, \"text\": \"1.0\", \"x\": \"age\", \"xref\": \"x\", \"y\": \"age\", \"yref\": \"y\"}, {\"font\": {\"color\": \"#FFFFFF\"}, \"showarrow\": false, \"text\": \"0.03\", \"x\": \"job\", \"xref\": \"x\", \"y\": \"age\", \"yref\": \"y\"}, {\"font\": {\"color\": \"#FFFFFF\"}, \"showarrow\": false, \"text\": \"-0.12\", \"x\": \"marital\", \"xref\": \"x\", \"y\": \"age\", \"yref\": \"y\"}, {\"font\": {\"color\": \"#FFFFFF\"}, \"showarrow\": false, \"text\": \"-0.17\", \"x\": \"education\", \"xref\": \"x\", \"y\": \"age\", \"yref\": \"y\"}, {\"font\": {\"color\": \"#FFFFFF\"}, \"showarrow\": false, \"text\": \"-0.17\", \"x\": \"default\", \"xref\": \"x\", \"y\": \"age\", \"yref\": \"y\"}, {\"font\": {\"color\": \"#FFFFFF\"}, \"showarrow\": false, \"text\": \"-0.01\", \"x\": \"housing\", \"xref\": \"x\", \"y\": \"age\", \"yref\": \"y\"}, {\"font\": {\"color\": \"#FFFFFF\"}, \"showarrow\": false, \"text\": \"0.0\", \"x\": \"loan\", \"xref\": \"x\", \"y\": \"age\", \"yref\": \"y\"}, {\"font\": {\"color\": \"#FFFFFF\"}, \"showarrow\": false, \"text\": \"0.02\", \"x\": \"contact\", \"xref\": \"x\", \"y\": \"age\", \"yref\": \"y\"}, {\"font\": {\"color\": \"#FFFFFF\"}, \"showarrow\": false, \"text\": \"0.04\", \"x\": \"month\", \"xref\": \"x\", \"y\": \"age\", \"yref\": \"y\"}, {\"font\": {\"color\": \"#FFFFFF\"}, \"showarrow\": false, \"text\": \"0.04\", \"x\": \"duration\", \"xref\": \"x\", \"y\": \"age\", \"yref\": \"y\"}, {\"font\": {\"color\": \"#FFFFFF\"}, \"showarrow\": false, \"text\": \"-0.01\", \"x\": \"campaign\", \"xref\": \"x\", \"y\": \"age\", \"yref\": \"y\"}, {\"font\": {\"color\": \"#FFFFFF\"}, \"showarrow\": false, \"text\": \"-0.04\", \"x\": \"pdays\", \"xref\": \"x\", \"y\": \"age\", \"yref\": \"y\"}, {\"font\": {\"color\": \"#FFFFFF\"}, \"showarrow\": false, \"text\": \"0.04\", \"x\": \"previous\", \"xref\": \"x\", \"y\": \"age\", \"yref\": \"y\"}, {\"font\": {\"color\": \"#FFFFFF\"}, \"showarrow\": false, \"text\": \"0.02\", \"x\": \"poutcome\", \"xref\": \"x\", \"y\": \"age\", \"yref\": \"y\"}, {\"font\": {\"color\": \"#FFFFFF\"}, \"showarrow\": false, \"text\": \"-0.01\", \"x\": \"emp.var.rate\", \"xref\": \"x\", \"y\": \"age\", \"yref\": \"y\"}, {\"font\": {\"color\": \"#FFFFFF\"}, \"showarrow\": false, \"text\": \"0.01\", \"x\": \"cons.price.idx\", \"xref\": \"x\", \"y\": \"age\", \"yref\": \"y\"}, {\"font\": {\"color\": \"#FFFFFF\"}, \"showarrow\": false, \"text\": \"0.09\", \"x\": \"cons.conf.idx\", \"xref\": \"x\", \"y\": \"age\", \"yref\": \"y\"}, {\"font\": {\"color\": \"#FFFFFF\"}, \"showarrow\": false, \"text\": \"-0.01\", \"x\": \"euribor3m\", \"xref\": \"x\", \"y\": \"age\", \"yref\": \"y\"}, {\"font\": {\"color\": \"#FFFFFF\"}, \"showarrow\": false, \"text\": \"-0.04\", \"x\": \"nr.employed\", \"xref\": \"x\", \"y\": \"age\", \"yref\": \"y\"}, {\"font\": {\"color\": \"#FFFFFF\"}, \"showarrow\": false, \"text\": \"0.03\", \"x\": \"age\", \"xref\": \"x\", \"y\": \"job\", \"yref\": \"y\"}, {\"font\": {\"color\": \"#000000\"}, \"showarrow\": false, \"text\": \"1.0\", \"x\": \"job\", \"xref\": \"x\", \"y\": \"job\", \"yref\": \"y\"}, {\"font\": {\"color\": \"#FFFFFF\"}, \"showarrow\": false, \"text\": \"-0.05\", \"x\": \"marital\", \"xref\": \"x\", \"y\": \"job\", \"yref\": \"y\"}, {\"font\": {\"color\": \"#FFFFFF\"}, \"showarrow\": false, \"text\": \"-0.27\", \"x\": \"education\", \"xref\": \"x\", \"y\": \"job\", \"yref\": \"y\"}, {\"font\": {\"color\": \"#FFFFFF\"}, \"showarrow\": false, \"text\": \"-0.09\", \"x\": \"default\", \"xref\": \"x\", \"y\": \"job\", \"yref\": \"y\"}, {\"font\": {\"color\": \"#FFFFFF\"}, \"showarrow\": false, \"text\": \"0.01\", \"x\": \"housing\", \"xref\": \"x\", \"y\": \"job\", \"yref\": \"y\"}, {\"font\": {\"color\": \"#FFFFFF\"}, \"showarrow\": false, \"text\": \"0.0\", \"x\": \"loan\", \"xref\": \"x\", \"y\": \"job\", \"yref\": \"y\"}, {\"font\": {\"color\": \"#FFFFFF\"}, \"showarrow\": false, \"text\": \"0.05\", \"x\": \"contact\", \"xref\": \"x\", \"y\": \"job\", \"yref\": \"y\"}, {\"font\": {\"color\": \"#FFFFFF\"}, \"showarrow\": false, \"text\": \"0.01\", \"x\": \"month\", \"xref\": \"x\", \"y\": \"job\", \"yref\": \"y\"}, {\"font\": {\"color\": \"#FFFFFF\"}, \"showarrow\": false, \"text\": \"0.02\", \"x\": \"duration\", \"xref\": \"x\", \"y\": \"job\", \"yref\": \"y\"}, {\"font\": {\"color\": \"#FFFFFF\"}, \"showarrow\": false, \"text\": \"-0.05\", \"x\": \"campaign\", \"xref\": \"x\", \"y\": \"job\", \"yref\": \"y\"}, {\"font\": {\"color\": \"#FFFFFF\"}, \"showarrow\": false, \"text\": \"0.01\", \"x\": \"pdays\", \"xref\": \"x\", \"y\": \"job\", \"yref\": \"y\"}, {\"font\": {\"color\": \"#FFFFFF\"}, \"showarrow\": false, \"text\": \"0.01\", \"x\": \"previous\", \"xref\": \"x\", \"y\": \"job\", \"yref\": \"y\"}, {\"font\": {\"color\": \"#FFFFFF\"}, \"showarrow\": false, \"text\": \"-0.02\", \"x\": \"poutcome\", \"xref\": \"x\", \"y\": \"job\", \"yref\": \"y\"}, {\"font\": {\"color\": \"#FFFFFF\"}, \"showarrow\": false, \"text\": \"-0.03\", \"x\": \"emp.var.rate\", \"xref\": \"x\", \"y\": \"job\", \"yref\": \"y\"}, {\"font\": {\"color\": \"#FFFFFF\"}, \"showarrow\": false, \"text\": \"0.03\", \"x\": \"cons.price.idx\", \"xref\": \"x\", \"y\": \"job\", \"yref\": \"y\"}, {\"font\": {\"color\": \"#FFFFFF\"}, \"showarrow\": false, \"text\": \"-0.06\", \"x\": \"cons.conf.idx\", \"xref\": \"x\", \"y\": \"job\", \"yref\": \"y\"}, {\"font\": {\"color\": \"#FFFFFF\"}, \"showarrow\": false, \"text\": \"-0.03\", \"x\": \"euribor3m\", \"xref\": \"x\", \"y\": \"job\", \"yref\": \"y\"}, {\"font\": {\"color\": \"#FFFFFF\"}, \"showarrow\": false, \"text\": \"-0.03\", \"x\": \"nr.employed\", \"xref\": \"x\", \"y\": \"job\", \"yref\": \"y\"}, {\"font\": {\"color\": \"#FFFFFF\"}, \"showarrow\": false, \"text\": \"-0.12\", \"x\": \"age\", \"xref\": \"x\", \"y\": \"marital\", \"yref\": \"y\"}, {\"font\": {\"color\": \"#FFFFFF\"}, \"showarrow\": false, \"text\": \"-0.05\", \"x\": \"job\", \"xref\": \"x\", \"y\": \"marital\", \"yref\": \"y\"}, {\"font\": {\"color\": \"#000000\"}, \"showarrow\": false, \"text\": \"1.0\", \"x\": \"marital\", \"xref\": \"x\", \"y\": \"marital\", \"yref\": \"y\"}, {\"font\": {\"color\": \"#FFFFFF\"}, \"showarrow\": false, \"text\": \"0.07\", \"x\": \"education\", \"xref\": \"x\", \"y\": \"marital\", \"yref\": \"y\"}, {\"font\": {\"color\": \"#FFFFFF\"}, \"showarrow\": false, \"text\": \"0.09\", \"x\": \"default\", \"xref\": \"x\", \"y\": \"marital\", \"yref\": \"y\"}, {\"font\": {\"color\": \"#FFFFFF\"}, \"showarrow\": false, \"text\": \"0.03\", \"x\": \"housing\", \"xref\": \"x\", \"y\": \"marital\", \"yref\": \"y\"}, {\"font\": {\"color\": \"#FFFFFF\"}, \"showarrow\": false, \"text\": \"0.01\", \"x\": \"loan\", \"xref\": \"x\", \"y\": \"marital\", \"yref\": \"y\"}, {\"font\": {\"color\": \"#FFFFFF\"}, \"showarrow\": false, \"text\": \"-0.06\", \"x\": \"contact\", \"xref\": \"x\", \"y\": \"marital\", \"yref\": \"y\"}, {\"font\": {\"color\": \"#FFFFFF\"}, \"showarrow\": false, \"text\": \"0.01\", \"x\": \"month\", \"xref\": \"x\", \"y\": \"marital\", \"yref\": \"y\"}, {\"font\": {\"color\": \"#FFFFFF\"}, \"showarrow\": false, \"text\": \"0.02\", \"x\": \"duration\", \"xref\": \"x\", \"y\": \"marital\", \"yref\": \"y\"}, {\"font\": {\"color\": \"#FFFFFF\"}, \"showarrow\": false, \"text\": \"0.0\", \"x\": \"campaign\", \"xref\": \"x\", \"y\": \"marital\", \"yref\": \"y\"}, {\"font\": {\"color\": \"#FFFFFF\"}, \"showarrow\": false, \"text\": \"-0.02\", \"x\": \"pdays\", \"xref\": \"x\", \"y\": \"marital\", \"yref\": \"y\"}, {\"font\": {\"color\": \"#FFFFFF\"}, \"showarrow\": false, \"text\": \"0.04\", \"x\": \"previous\", \"xref\": \"x\", \"y\": \"marital\", \"yref\": \"y\"}, {\"font\": {\"color\": \"#FFFFFF\"}, \"showarrow\": false, \"text\": \"-0.02\", \"x\": \"poutcome\", \"xref\": \"x\", \"y\": \"marital\", \"yref\": \"y\"}, {\"font\": {\"color\": \"#FFFFFF\"}, \"showarrow\": false, \"text\": \"-0.05\", \"x\": \"emp.var.rate\", \"xref\": \"x\", \"y\": \"marital\", \"yref\": \"y\"}, {\"font\": {\"color\": \"#FFFFFF\"}, \"showarrow\": false, \"text\": \"-0.03\", \"x\": \"cons.price.idx\", \"xref\": \"x\", \"y\": \"marital\", \"yref\": \"y\"}, {\"font\": {\"color\": \"#FFFFFF\"}, \"showarrow\": false, \"text\": \"-0.04\", \"x\": \"cons.conf.idx\", \"xref\": \"x\", \"y\": \"marital\", \"yref\": \"y\"}, {\"font\": {\"color\": \"#FFFFFF\"}, \"showarrow\": false, \"text\": \"-0.06\", \"x\": \"euribor3m\", \"xref\": \"x\", \"y\": \"marital\", \"yref\": \"y\"}, {\"font\": {\"color\": \"#FFFFFF\"}, \"showarrow\": false, \"text\": \"-0.05\", \"x\": \"nr.employed\", \"xref\": \"x\", \"y\": \"marital\", \"yref\": \"y\"}, {\"font\": {\"color\": \"#FFFFFF\"}, \"showarrow\": false, \"text\": \"-0.17\", \"x\": \"age\", \"xref\": \"x\", \"y\": \"education\", \"yref\": \"y\"}, {\"font\": {\"color\": \"#FFFFFF\"}, \"showarrow\": false, \"text\": \"-0.27\", \"x\": \"job\", \"xref\": \"x\", \"y\": \"education\", \"yref\": \"y\"}, {\"font\": {\"color\": \"#FFFFFF\"}, \"showarrow\": false, \"text\": \"0.07\", \"x\": \"marital\", \"xref\": \"x\", \"y\": \"education\", \"yref\": \"y\"}, {\"font\": {\"color\": \"#000000\"}, \"showarrow\": false, \"text\": \"1.0\", \"x\": \"education\", \"xref\": \"x\", \"y\": \"education\", \"yref\": \"y\"}, {\"font\": {\"color\": \"#000000\"}, \"showarrow\": false, \"text\": \"0.24\", \"x\": \"default\", \"xref\": \"x\", \"y\": \"education\", \"yref\": \"y\"}, {\"font\": {\"color\": \"#FFFFFF\"}, \"showarrow\": false, \"text\": \"0.05\", \"x\": \"housing\", \"xref\": \"x\", \"y\": \"education\", \"yref\": \"y\"}, {\"font\": {\"color\": \"#FFFFFF\"}, \"showarrow\": false, \"text\": \"0.01\", \"x\": \"loan\", \"xref\": \"x\", \"y\": \"education\", \"yref\": \"y\"}, {\"font\": {\"color\": \"#FFFFFF\"}, \"showarrow\": false, \"text\": \"-0.13\", \"x\": \"contact\", \"xref\": \"x\", \"y\": \"education\", \"yref\": \"y\"}, {\"font\": {\"color\": \"#FFFFFF\"}, \"showarrow\": false, \"text\": \"0.13\", \"x\": \"month\", \"xref\": \"x\", \"y\": \"education\", \"yref\": \"y\"}, {\"font\": {\"color\": \"#FFFFFF\"}, \"showarrow\": false, \"text\": \"-0.01\", \"x\": \"duration\", \"xref\": \"x\", \"y\": \"education\", \"yref\": \"y\"}, {\"font\": {\"color\": \"#FFFFFF\"}, \"showarrow\": false, \"text\": \"0.02\", \"x\": \"campaign\", \"xref\": \"x\", \"y\": \"education\", \"yref\": \"y\"}, {\"font\": {\"color\": \"#FFFFFF\"}, \"showarrow\": false, \"text\": \"-0.04\", \"x\": \"pdays\", \"xref\": \"x\", \"y\": \"education\", \"yref\": \"y\"}, {\"font\": {\"color\": \"#FFFFFF\"}, \"showarrow\": false, \"text\": \"0.03\", \"x\": \"previous\", \"xref\": \"x\", \"y\": \"education\", \"yref\": \"y\"}, {\"font\": {\"color\": \"#FFFFFF\"}, \"showarrow\": false, \"text\": \"0.02\", \"x\": \"poutcome\", \"xref\": \"x\", \"y\": \"education\", \"yref\": \"y\"}, {\"font\": {\"color\": \"#FFFFFF\"}, \"showarrow\": false, \"text\": \"-0.05\", \"x\": \"emp.var.rate\", \"xref\": \"x\", \"y\": \"education\", \"yref\": \"y\"}, {\"font\": {\"color\": \"#FFFFFF\"}, \"showarrow\": false, \"text\": \"-0.1\", \"x\": \"cons.price.idx\", \"xref\": \"x\", \"y\": \"education\", \"yref\": \"y\"}, {\"font\": {\"color\": \"#FFFFFF\"}, \"showarrow\": false, \"text\": \"0.07\", \"x\": \"cons.conf.idx\", \"xref\": \"x\", \"y\": \"education\", \"yref\": \"y\"}, {\"font\": {\"color\": \"#FFFFFF\"}, \"showarrow\": false, \"text\": \"-0.04\", \"x\": \"euribor3m\", \"xref\": \"x\", \"y\": \"education\", \"yref\": \"y\"}, {\"font\": {\"color\": \"#FFFFFF\"}, \"showarrow\": false, \"text\": \"-0.04\", \"x\": \"nr.employed\", \"xref\": \"x\", \"y\": \"education\", \"yref\": \"y\"}, {\"font\": {\"color\": \"#FFFFFF\"}, \"showarrow\": false, \"text\": \"-0.17\", \"x\": \"age\", \"xref\": \"x\", \"y\": \"default\", \"yref\": \"y\"}, {\"font\": {\"color\": \"#FFFFFF\"}, \"showarrow\": false, \"text\": \"-0.09\", \"x\": \"job\", \"xref\": \"x\", \"y\": \"default\", \"yref\": \"y\"}, {\"font\": {\"color\": \"#FFFFFF\"}, \"showarrow\": false, \"text\": \"0.09\", \"x\": \"marital\", \"xref\": \"x\", \"y\": \"default\", \"yref\": \"y\"}, {\"font\": {\"color\": \"#000000\"}, \"showarrow\": false, \"text\": \"0.24\", \"x\": \"education\", \"xref\": \"x\", \"y\": \"default\", \"yref\": \"y\"}, {\"font\": {\"color\": \"#000000\"}, \"showarrow\": false, \"text\": \"1.0\", \"x\": \"default\", \"xref\": \"x\", \"y\": \"default\", \"yref\": \"y\"}, {\"font\": {\"color\": \"#FFFFFF\"}, \"showarrow\": false, \"text\": \"0.02\", \"x\": \"housing\", \"xref\": \"x\", \"y\": \"default\", \"yref\": \"y\"}, {\"font\": {\"color\": \"#FFFFFF\"}, \"showarrow\": false, \"text\": \"-0.01\", \"x\": \"loan\", \"xref\": \"x\", \"y\": \"default\", \"yref\": \"y\"}, {\"font\": {\"color\": \"#FFFFFF\"}, \"showarrow\": false, \"text\": \"-0.16\", \"x\": \"contact\", \"xref\": \"x\", \"y\": \"default\", \"yref\": \"y\"}, {\"font\": {\"color\": \"#FFFFFF\"}, \"showarrow\": false, \"text\": \"0.11\", \"x\": \"month\", \"xref\": \"x\", \"y\": \"default\", \"yref\": \"y\"}, {\"font\": {\"color\": \"#FFFFFF\"}, \"showarrow\": false, \"text\": \"0.02\", \"x\": \"duration\", \"xref\": \"x\", \"y\": \"default\", \"yref\": \"y\"}, {\"font\": {\"color\": \"#FFFFFF\"}, \"showarrow\": false, \"text\": \"-0.02\", \"x\": \"campaign\", \"xref\": \"x\", \"y\": \"default\", \"yref\": \"y\"}, {\"font\": {\"color\": \"#FFFFFF\"}, \"showarrow\": false, \"text\": \"-0.09\", \"x\": \"pdays\", \"xref\": \"x\", \"y\": \"default\", \"yref\": \"y\"}, {\"font\": {\"color\": \"#FFFFFF\"}, \"showarrow\": false, \"text\": \"0.1\", \"x\": \"previous\", \"xref\": \"x\", \"y\": \"default\", \"yref\": \"y\"}, {\"font\": {\"color\": \"#FFFFFF\"}, \"showarrow\": false, \"text\": \"0.0\", \"x\": \"poutcome\", \"xref\": \"x\", \"y\": \"default\", \"yref\": \"y\"}, {\"font\": {\"color\": \"#FFFFFF\"}, \"showarrow\": false, \"text\": \"-0.19\", \"x\": \"emp.var.rate\", \"xref\": \"x\", \"y\": \"default\", \"yref\": \"y\"}, {\"font\": {\"color\": \"#FFFFFF\"}, \"showarrow\": false, \"text\": \"-0.16\", \"x\": \"cons.price.idx\", \"xref\": \"x\", \"y\": \"default\", \"yref\": \"y\"}, {\"font\": {\"color\": \"#FFFFFF\"}, \"showarrow\": false, \"text\": \"-0.02\", \"x\": \"cons.conf.idx\", \"xref\": \"x\", \"y\": \"default\", \"yref\": \"y\"}, {\"font\": {\"color\": \"#FFFFFF\"}, \"showarrow\": false, \"text\": \"-0.18\", \"x\": \"euribor3m\", \"xref\": \"x\", \"y\": \"default\", \"yref\": \"y\"}, {\"font\": {\"color\": \"#FFFFFF\"}, \"showarrow\": false, \"text\": \"-0.17\", \"x\": \"nr.employed\", \"xref\": \"x\", \"y\": \"default\", \"yref\": \"y\"}, {\"font\": {\"color\": \"#FFFFFF\"}, \"showarrow\": false, \"text\": \"-0.01\", \"x\": \"age\", \"xref\": \"x\", \"y\": \"housing\", \"yref\": \"y\"}, {\"font\": {\"color\": \"#FFFFFF\"}, \"showarrow\": false, \"text\": \"0.01\", \"x\": \"job\", \"xref\": \"x\", \"y\": \"housing\", \"yref\": \"y\"}, {\"font\": {\"color\": \"#FFFFFF\"}, \"showarrow\": false, \"text\": \"0.03\", \"x\": \"marital\", \"xref\": \"x\", \"y\": \"housing\", \"yref\": \"y\"}, {\"font\": {\"color\": \"#FFFFFF\"}, \"showarrow\": false, \"text\": \"0.05\", \"x\": \"education\", \"xref\": \"x\", \"y\": \"housing\", \"yref\": \"y\"}, {\"font\": {\"color\": \"#FFFFFF\"}, \"showarrow\": false, \"text\": \"0.02\", \"x\": \"default\", \"xref\": \"x\", \"y\": \"housing\", \"yref\": \"y\"}, {\"font\": {\"color\": \"#000000\"}, \"showarrow\": false, \"text\": \"1.0\", \"x\": \"housing\", \"xref\": \"x\", \"y\": \"housing\", \"yref\": \"y\"}, {\"font\": {\"color\": \"#000000\"}, \"showarrow\": false, \"text\": \"0.27\", \"x\": \"loan\", \"xref\": \"x\", \"y\": \"housing\", \"yref\": \"y\"}, {\"font\": {\"color\": \"#FFFFFF\"}, \"showarrow\": false, \"text\": \"-0.07\", \"x\": \"contact\", \"xref\": \"x\", \"y\": \"housing\", \"yref\": \"y\"}, {\"font\": {\"color\": \"#FFFFFF\"}, \"showarrow\": false, \"text\": \"0.04\", \"x\": \"month\", \"xref\": \"x\", \"y\": \"housing\", \"yref\": \"y\"}, {\"font\": {\"color\": \"#FFFFFF\"}, \"showarrow\": false, \"text\": \"-0.02\", \"x\": \"duration\", \"xref\": \"x\", \"y\": \"housing\", \"yref\": \"y\"}, {\"font\": {\"color\": \"#FFFFFF\"}, \"showarrow\": false, \"text\": \"-0.02\", \"x\": \"campaign\", \"xref\": \"x\", \"y\": \"housing\", \"yref\": \"y\"}, {\"font\": {\"color\": \"#FFFFFF\"}, \"showarrow\": false, \"text\": \"-0.03\", \"x\": \"pdays\", \"xref\": \"x\", \"y\": \"housing\", \"yref\": \"y\"}, {\"font\": {\"color\": \"#FFFFFF\"}, \"showarrow\": false, \"text\": \"0.02\", \"x\": \"previous\", \"xref\": \"x\", \"y\": \"housing\", \"yref\": \"y\"}, {\"font\": {\"color\": \"#FFFFFF\"}, \"showarrow\": false, \"text\": \"0.02\", \"x\": \"poutcome\", \"xref\": \"x\", \"y\": \"housing\", \"yref\": \"y\"}, {\"font\": {\"color\": \"#FFFFFF\"}, \"showarrow\": false, \"text\": \"-0.05\", \"x\": \"emp.var.rate\", \"xref\": \"x\", \"y\": \"housing\", \"yref\": \"y\"}, {\"font\": {\"color\": \"#FFFFFF\"}, \"showarrow\": false, \"text\": \"-0.09\", \"x\": \"cons.price.idx\", \"xref\": \"x\", \"y\": \"housing\", \"yref\": \"y\"}, {\"font\": {\"color\": \"#FFFFFF\"}, \"showarrow\": false, \"text\": \"-0.03\", \"x\": \"cons.conf.idx\", \"xref\": \"x\", \"y\": \"housing\", \"yref\": \"y\"}, {\"font\": {\"color\": \"#FFFFFF\"}, \"showarrow\": false, \"text\": \"-0.05\", \"x\": \"euribor3m\", \"xref\": \"x\", \"y\": \"housing\", \"yref\": \"y\"}, {\"font\": {\"color\": \"#FFFFFF\"}, \"showarrow\": false, \"text\": \"-0.03\", \"x\": \"nr.employed\", \"xref\": \"x\", \"y\": \"housing\", \"yref\": \"y\"}, {\"font\": {\"color\": \"#FFFFFF\"}, \"showarrow\": false, \"text\": \"0.0\", \"x\": \"age\", \"xref\": \"x\", \"y\": \"loan\", \"yref\": \"y\"}, {\"font\": {\"color\": \"#FFFFFF\"}, \"showarrow\": false, \"text\": \"0.0\", \"x\": \"job\", \"xref\": \"x\", \"y\": \"loan\", \"yref\": \"y\"}, {\"font\": {\"color\": \"#FFFFFF\"}, \"showarrow\": false, \"text\": \"0.01\", \"x\": \"marital\", \"xref\": \"x\", \"y\": \"loan\", \"yref\": \"y\"}, {\"font\": {\"color\": \"#FFFFFF\"}, \"showarrow\": false, \"text\": \"0.01\", \"x\": \"education\", \"xref\": \"x\", \"y\": \"loan\", \"yref\": \"y\"}, {\"font\": {\"color\": \"#FFFFFF\"}, \"showarrow\": false, \"text\": \"-0.01\", \"x\": \"default\", \"xref\": \"x\", \"y\": \"loan\", \"yref\": \"y\"}, {\"font\": {\"color\": \"#000000\"}, \"showarrow\": false, \"text\": \"0.27\", \"x\": \"housing\", \"xref\": \"x\", \"y\": \"loan\", \"yref\": \"y\"}, {\"font\": {\"color\": \"#000000\"}, \"showarrow\": false, \"text\": \"1.0\", \"x\": \"loan\", \"xref\": \"x\", \"y\": \"loan\", \"yref\": \"y\"}, {\"font\": {\"color\": \"#FFFFFF\"}, \"showarrow\": false, \"text\": \"-0.0\", \"x\": \"contact\", \"xref\": \"x\", \"y\": \"loan\", \"yref\": \"y\"}, {\"font\": {\"color\": \"#FFFFFF\"}, \"showarrow\": false, \"text\": \"0.0\", \"x\": \"month\", \"xref\": \"x\", \"y\": \"loan\", \"yref\": \"y\"}, {\"font\": {\"color\": \"#FFFFFF\"}, \"showarrow\": false, \"text\": \"0.0\", \"x\": \"duration\", \"xref\": \"x\", \"y\": \"loan\", \"yref\": \"y\"}, {\"font\": {\"color\": \"#FFFFFF\"}, \"showarrow\": false, \"text\": \"-0.02\", \"x\": \"campaign\", \"xref\": \"x\", \"y\": \"loan\", \"yref\": \"y\"}, {\"font\": {\"color\": \"#FFFFFF\"}, \"showarrow\": false, \"text\": \"0.0\", \"x\": \"pdays\", \"xref\": \"x\", \"y\": \"loan\", \"yref\": \"y\"}, {\"font\": {\"color\": \"#FFFFFF\"}, \"showarrow\": false, \"text\": \"-0.01\", \"x\": \"previous\", \"xref\": \"x\", \"y\": \"loan\", \"yref\": \"y\"}, {\"font\": {\"color\": \"#FFFFFF\"}, \"showarrow\": false, \"text\": \"0.01\", \"x\": \"poutcome\", \"xref\": \"x\", \"y\": \"loan\", \"yref\": \"y\"}, {\"font\": {\"color\": \"#FFFFFF\"}, \"showarrow\": false, \"text\": \"-0.02\", \"x\": \"emp.var.rate\", \"xref\": \"x\", \"y\": \"loan\", \"yref\": \"y\"}, {\"font\": {\"color\": \"#FFFFFF\"}, \"showarrow\": false, \"text\": \"-0.03\", \"x\": \"cons.price.idx\", \"xref\": \"x\", \"y\": \"loan\", \"yref\": \"y\"}, {\"font\": {\"color\": \"#FFFFFF\"}, \"showarrow\": false, \"text\": \"-0.0\", \"x\": \"cons.conf.idx\", \"xref\": \"x\", \"y\": \"loan\", \"yref\": \"y\"}, {\"font\": {\"color\": \"#FFFFFF\"}, \"showarrow\": false, \"text\": \"-0.01\", \"x\": \"euribor3m\", \"xref\": \"x\", \"y\": \"loan\", \"yref\": \"y\"}, {\"font\": {\"color\": \"#FFFFFF\"}, \"showarrow\": false, \"text\": \"-0.0\", \"x\": \"nr.employed\", \"xref\": \"x\", \"y\": \"loan\", \"yref\": \"y\"}, {\"font\": {\"color\": \"#FFFFFF\"}, \"showarrow\": false, \"text\": \"0.02\", \"x\": \"age\", \"xref\": \"x\", \"y\": \"contact\", \"yref\": \"y\"}, {\"font\": {\"color\": \"#FFFFFF\"}, \"showarrow\": false, \"text\": \"0.05\", \"x\": \"job\", \"xref\": \"x\", \"y\": \"contact\", \"yref\": \"y\"}, {\"font\": {\"color\": \"#FFFFFF\"}, \"showarrow\": false, \"text\": \"-0.06\", \"x\": \"marital\", \"xref\": \"x\", \"y\": \"contact\", \"yref\": \"y\"}, {\"font\": {\"color\": \"#FFFFFF\"}, \"showarrow\": false, \"text\": \"-0.13\", \"x\": \"education\", \"xref\": \"x\", \"y\": \"contact\", \"yref\": \"y\"}, {\"font\": {\"color\": \"#FFFFFF\"}, \"showarrow\": false, \"text\": \"-0.16\", \"x\": \"default\", \"xref\": \"x\", \"y\": \"contact\", \"yref\": \"y\"}, {\"font\": {\"color\": \"#FFFFFF\"}, \"showarrow\": false, \"text\": \"-0.07\", \"x\": \"housing\", \"xref\": \"x\", \"y\": \"contact\", \"yref\": \"y\"}, {\"font\": {\"color\": \"#FFFFFF\"}, \"showarrow\": false, \"text\": \"-0.0\", \"x\": \"loan\", \"xref\": \"x\", \"y\": \"contact\", \"yref\": \"y\"}, {\"font\": {\"color\": \"#000000\"}, \"showarrow\": false, \"text\": \"1.0\", \"x\": \"contact\", \"xref\": \"x\", \"y\": \"contact\", \"yref\": \"y\"}, {\"font\": {\"color\": \"#FFFFFF\"}, \"showarrow\": false, \"text\": \"-0.35\", \"x\": \"month\", \"xref\": \"x\", \"y\": \"contact\", \"yref\": \"y\"}, {\"font\": {\"color\": \"#FFFFFF\"}, \"showarrow\": false, \"text\": \"-0.03\", \"x\": \"duration\", \"xref\": \"x\", \"y\": \"contact\", \"yref\": \"y\"}, {\"font\": {\"color\": \"#FFFFFF\"}, \"showarrow\": false, \"text\": \"0.09\", \"x\": \"campaign\", \"xref\": \"x\", \"y\": \"contact\", \"yref\": \"y\"}, {\"font\": {\"color\": \"#FFFFFF\"}, \"showarrow\": false, \"text\": \"0.12\", \"x\": \"pdays\", \"xref\": \"x\", \"y\": \"contact\", \"yref\": \"y\"}, {\"font\": {\"color\": \"#FFFFFF\"}, \"showarrow\": false, \"text\": \"-0.22\", \"x\": \"previous\", \"xref\": \"x\", \"y\": \"contact\", \"yref\": \"y\"}, {\"font\": {\"color\": \"#FFFFFF\"}, \"showarrow\": false, \"text\": \"0.13\", \"x\": \"poutcome\", \"xref\": \"x\", \"y\": \"contact\", \"yref\": \"y\"}, {\"font\": {\"color\": \"#000000\"}, \"showarrow\": false, \"text\": \"0.39\", \"x\": \"emp.var.rate\", \"xref\": \"x\", \"y\": \"contact\", \"yref\": \"y\"}, {\"font\": {\"color\": \"#000000\"}, \"showarrow\": false, \"text\": \"0.57\", \"x\": \"cons.price.idx\", \"xref\": \"x\", \"y\": \"contact\", \"yref\": \"y\"}, {\"font\": {\"color\": \"#000000\"}, \"showarrow\": false, \"text\": \"0.26\", \"x\": \"cons.conf.idx\", \"xref\": \"x\", \"y\": \"contact\", \"yref\": \"y\"}, {\"font\": {\"color\": \"#000000\"}, \"showarrow\": false, \"text\": \"0.39\", \"x\": \"euribor3m\", \"xref\": \"x\", \"y\": \"contact\", \"yref\": \"y\"}, {\"font\": {\"color\": \"#000000\"}, \"showarrow\": false, \"text\": \"0.27\", \"x\": \"nr.employed\", \"xref\": \"x\", \"y\": \"contact\", \"yref\": \"y\"}, {\"font\": {\"color\": \"#FFFFFF\"}, \"showarrow\": false, \"text\": \"0.04\", \"x\": \"age\", \"xref\": \"x\", \"y\": \"month\", \"yref\": \"y\"}, {\"font\": {\"color\": \"#FFFFFF\"}, \"showarrow\": false, \"text\": \"0.01\", \"x\": \"job\", \"xref\": \"x\", \"y\": \"month\", \"yref\": \"y\"}, {\"font\": {\"color\": \"#FFFFFF\"}, \"showarrow\": false, \"text\": \"0.01\", \"x\": \"marital\", \"xref\": \"x\", \"y\": \"month\", \"yref\": \"y\"}, {\"font\": {\"color\": \"#FFFFFF\"}, \"showarrow\": false, \"text\": \"0.13\", \"x\": \"education\", \"xref\": \"x\", \"y\": \"month\", \"yref\": \"y\"}, {\"font\": {\"color\": \"#FFFFFF\"}, \"showarrow\": false, \"text\": \"0.11\", \"x\": \"default\", \"xref\": \"x\", \"y\": \"month\", \"yref\": \"y\"}, {\"font\": {\"color\": \"#FFFFFF\"}, \"showarrow\": false, \"text\": \"0.04\", \"x\": \"housing\", \"xref\": \"x\", \"y\": \"month\", \"yref\": \"y\"}, {\"font\": {\"color\": \"#FFFFFF\"}, \"showarrow\": false, \"text\": \"0.0\", \"x\": \"loan\", \"xref\": \"x\", \"y\": \"month\", \"yref\": \"y\"}, {\"font\": {\"color\": \"#FFFFFF\"}, \"showarrow\": false, \"text\": \"-0.35\", \"x\": \"contact\", \"xref\": \"x\", \"y\": \"month\", \"yref\": \"y\"}, {\"font\": {\"color\": \"#000000\"}, \"showarrow\": false, \"text\": \"1.0\", \"x\": \"month\", \"xref\": \"x\", \"y\": \"month\", \"yref\": \"y\"}, {\"font\": {\"color\": \"#FFFFFF\"}, \"showarrow\": false, \"text\": \"-0.01\", \"x\": \"duration\", \"xref\": \"x\", \"y\": \"month\", \"yref\": \"y\"}, {\"font\": {\"color\": \"#FFFFFF\"}, \"showarrow\": false, \"text\": \"-0.04\", \"x\": \"campaign\", \"xref\": \"x\", \"y\": \"month\", \"yref\": \"y\"}, {\"font\": {\"color\": \"#FFFFFF\"}, \"showarrow\": false, \"text\": \"-0.11\", \"x\": \"pdays\", \"xref\": \"x\", \"y\": \"month\", \"yref\": \"y\"}, {\"font\": {\"color\": \"#FFFFFF\"}, \"showarrow\": false, \"text\": \"0.07\", \"x\": \"previous\", \"xref\": \"x\", \"y\": \"month\", \"yref\": \"y\"}, {\"font\": {\"color\": \"#FFFFFF\"}, \"showarrow\": false, \"text\": \"0.05\", \"x\": \"poutcome\", \"xref\": \"x\", \"y\": \"month\", \"yref\": \"y\"}, {\"font\": {\"color\": \"#FFFFFF\"}, \"showarrow\": false, \"text\": \"0.04\", \"x\": \"emp.var.rate\", \"xref\": \"x\", \"y\": \"month\", \"yref\": \"y\"}, {\"font\": {\"color\": \"#FFFFFF\"}, \"showarrow\": false, \"text\": \"-0.13\", \"x\": \"cons.price.idx\", \"xref\": \"x\", \"y\": \"month\", \"yref\": \"y\"}, {\"font\": {\"color\": \"#000000\"}, \"showarrow\": false, \"text\": \"0.22\", \"x\": \"cons.conf.idx\", \"xref\": \"x\", \"y\": \"month\", \"yref\": \"y\"}, {\"font\": {\"color\": \"#FFFFFF\"}, \"showarrow\": false, \"text\": \"0.14\", \"x\": \"euribor3m\", \"xref\": \"x\", \"y\": \"month\", \"yref\": \"y\"}, {\"font\": {\"color\": \"#FFFFFF\"}, \"showarrow\": false, \"text\": \"0.09\", \"x\": \"nr.employed\", \"xref\": \"x\", \"y\": \"month\", \"yref\": \"y\"}, {\"font\": {\"color\": \"#FFFFFF\"}, \"showarrow\": false, \"text\": \"0.04\", \"x\": \"age\", \"xref\": \"x\", \"y\": \"duration\", \"yref\": \"y\"}, {\"font\": {\"color\": \"#FFFFFF\"}, \"showarrow\": false, \"text\": \"0.02\", \"x\": \"job\", \"xref\": \"x\", \"y\": \"duration\", \"yref\": \"y\"}, {\"font\": {\"color\": \"#FFFFFF\"}, \"showarrow\": false, \"text\": \"0.02\", \"x\": \"marital\", \"xref\": \"x\", \"y\": \"duration\", \"yref\": \"y\"}, {\"font\": {\"color\": \"#FFFFFF\"}, \"showarrow\": false, \"text\": \"-0.01\", \"x\": \"education\", \"xref\": \"x\", \"y\": \"duration\", \"yref\": \"y\"}, {\"font\": {\"color\": \"#FFFFFF\"}, \"showarrow\": false, \"text\": \"0.02\", \"x\": \"default\", \"xref\": \"x\", \"y\": \"duration\", \"yref\": \"y\"}, {\"font\": {\"color\": \"#FFFFFF\"}, \"showarrow\": false, \"text\": \"-0.02\", \"x\": \"housing\", \"xref\": \"x\", \"y\": \"duration\", \"yref\": \"y\"}, {\"font\": {\"color\": \"#FFFFFF\"}, \"showarrow\": false, \"text\": \"0.0\", \"x\": \"loan\", \"xref\": \"x\", \"y\": \"duration\", \"yref\": \"y\"}, {\"font\": {\"color\": \"#FFFFFF\"}, \"showarrow\": false, \"text\": \"-0.03\", \"x\": \"contact\", \"xref\": \"x\", \"y\": \"duration\", \"yref\": \"y\"}, {\"font\": {\"color\": \"#FFFFFF\"}, \"showarrow\": false, \"text\": \"-0.01\", \"x\": \"month\", \"xref\": \"x\", \"y\": \"duration\", \"yref\": \"y\"}, {\"font\": {\"color\": \"#000000\"}, \"showarrow\": false, \"text\": \"1.0\", \"x\": \"duration\", \"xref\": \"x\", \"y\": \"duration\", \"yref\": \"y\"}, {\"font\": {\"color\": \"#FFFFFF\"}, \"showarrow\": false, \"text\": \"-0.1\", \"x\": \"campaign\", \"xref\": \"x\", \"y\": \"duration\", \"yref\": \"y\"}, {\"font\": {\"color\": \"#FFFFFF\"}, \"showarrow\": false, \"text\": \"-0.05\", \"x\": \"pdays\", \"xref\": \"x\", \"y\": \"duration\", \"yref\": \"y\"}, {\"font\": {\"color\": \"#FFFFFF\"}, \"showarrow\": false, \"text\": \"0.03\", \"x\": \"previous\", \"xref\": \"x\", \"y\": \"duration\", \"yref\": \"y\"}, {\"font\": {\"color\": \"#FFFFFF\"}, \"showarrow\": false, \"text\": \"0.03\", \"x\": \"poutcome\", \"xref\": \"x\", \"y\": \"duration\", \"yref\": \"y\"}, {\"font\": {\"color\": \"#FFFFFF\"}, \"showarrow\": false, \"text\": \"-0.03\", \"x\": \"emp.var.rate\", \"xref\": \"x\", \"y\": \"duration\", \"yref\": \"y\"}, {\"font\": {\"color\": \"#FFFFFF\"}, \"showarrow\": false, \"text\": \"0.02\", \"x\": \"cons.price.idx\", \"xref\": \"x\", \"y\": \"duration\", \"yref\": \"y\"}, {\"font\": {\"color\": \"#FFFFFF\"}, \"showarrow\": false, \"text\": \"-0.04\", \"x\": \"cons.conf.idx\", \"xref\": \"x\", \"y\": \"duration\", \"yref\": \"y\"}, {\"font\": {\"color\": \"#FFFFFF\"}, \"showarrow\": false, \"text\": \"-0.03\", \"x\": \"euribor3m\", \"xref\": \"x\", \"y\": \"duration\", \"yref\": \"y\"}, {\"font\": {\"color\": \"#FFFFFF\"}, \"showarrow\": false, \"text\": \"-0.05\", \"x\": \"nr.employed\", \"xref\": \"x\", \"y\": \"duration\", \"yref\": \"y\"}, {\"font\": {\"color\": \"#FFFFFF\"}, \"showarrow\": false, \"text\": \"-0.01\", \"x\": \"age\", \"xref\": \"x\", \"y\": \"campaign\", \"yref\": \"y\"}, {\"font\": {\"color\": \"#FFFFFF\"}, \"showarrow\": false, \"text\": \"-0.05\", \"x\": \"job\", \"xref\": \"x\", \"y\": \"campaign\", \"yref\": \"y\"}, {\"font\": {\"color\": \"#FFFFFF\"}, \"showarrow\": false, \"text\": \"0.0\", \"x\": \"marital\", \"xref\": \"x\", \"y\": \"campaign\", \"yref\": \"y\"}, {\"font\": {\"color\": \"#FFFFFF\"}, \"showarrow\": false, \"text\": \"0.02\", \"x\": \"education\", \"xref\": \"x\", \"y\": \"campaign\", \"yref\": \"y\"}, {\"font\": {\"color\": \"#FFFFFF\"}, \"showarrow\": false, \"text\": \"-0.02\", \"x\": \"default\", \"xref\": \"x\", \"y\": \"campaign\", \"yref\": \"y\"}, {\"font\": {\"color\": \"#FFFFFF\"}, \"showarrow\": false, \"text\": \"-0.02\", \"x\": \"housing\", \"xref\": \"x\", \"y\": \"campaign\", \"yref\": \"y\"}, {\"font\": {\"color\": \"#FFFFFF\"}, \"showarrow\": false, \"text\": \"-0.02\", \"x\": \"loan\", \"xref\": \"x\", \"y\": \"campaign\", \"yref\": \"y\"}, {\"font\": {\"color\": \"#FFFFFF\"}, \"showarrow\": false, \"text\": \"0.09\", \"x\": \"contact\", \"xref\": \"x\", \"y\": \"campaign\", \"yref\": \"y\"}, {\"font\": {\"color\": \"#FFFFFF\"}, \"showarrow\": false, \"text\": \"-0.04\", \"x\": \"month\", \"xref\": \"x\", \"y\": \"campaign\", \"yref\": \"y\"}, {\"font\": {\"color\": \"#FFFFFF\"}, \"showarrow\": false, \"text\": \"-0.1\", \"x\": \"duration\", \"xref\": \"x\", \"y\": \"campaign\", \"yref\": \"y\"}, {\"font\": {\"color\": \"#000000\"}, \"showarrow\": false, \"text\": \"1.0\", \"x\": \"campaign\", \"xref\": \"x\", \"y\": \"campaign\", \"yref\": \"y\"}, {\"font\": {\"color\": \"#FFFFFF\"}, \"showarrow\": false, \"text\": \"0.06\", \"x\": \"pdays\", \"xref\": \"x\", \"y\": \"campaign\", \"yref\": \"y\"}, {\"font\": {\"color\": \"#FFFFFF\"}, \"showarrow\": false, \"text\": \"-0.09\", \"x\": \"previous\", \"xref\": \"x\", \"y\": \"campaign\", \"yref\": \"y\"}, {\"font\": {\"color\": \"#FFFFFF\"}, \"showarrow\": false, \"text\": \"0.04\", \"x\": \"poutcome\", \"xref\": \"x\", \"y\": \"campaign\", \"yref\": \"y\"}, {\"font\": {\"color\": \"#FFFFFF\"}, \"showarrow\": false, \"text\": \"0.18\", \"x\": \"emp.var.rate\", \"xref\": \"x\", \"y\": \"campaign\", \"yref\": \"y\"}, {\"font\": {\"color\": \"#FFFFFF\"}, \"showarrow\": false, \"text\": \"0.15\", \"x\": \"cons.price.idx\", \"xref\": \"x\", \"y\": \"campaign\", \"yref\": \"y\"}, {\"font\": {\"color\": \"#FFFFFF\"}, \"showarrow\": false, \"text\": \"0.01\", \"x\": \"cons.conf.idx\", \"xref\": \"x\", \"y\": \"campaign\", \"yref\": \"y\"}, {\"font\": {\"color\": \"#FFFFFF\"}, \"showarrow\": false, \"text\": \"0.16\", \"x\": \"euribor3m\", \"xref\": \"x\", \"y\": \"campaign\", \"yref\": \"y\"}, {\"font\": {\"color\": \"#FFFFFF\"}, \"showarrow\": false, \"text\": \"0.16\", \"x\": \"nr.employed\", \"xref\": \"x\", \"y\": \"campaign\", \"yref\": \"y\"}, {\"font\": {\"color\": \"#FFFFFF\"}, \"showarrow\": false, \"text\": \"-0.04\", \"x\": \"age\", \"xref\": \"x\", \"y\": \"pdays\", \"yref\": \"y\"}, {\"font\": {\"color\": \"#FFFFFF\"}, \"showarrow\": false, \"text\": \"0.01\", \"x\": \"job\", \"xref\": \"x\", \"y\": \"pdays\", \"yref\": \"y\"}, {\"font\": {\"color\": \"#FFFFFF\"}, \"showarrow\": false, \"text\": \"-0.02\", \"x\": \"marital\", \"xref\": \"x\", \"y\": \"pdays\", \"yref\": \"y\"}, {\"font\": {\"color\": \"#FFFFFF\"}, \"showarrow\": false, \"text\": \"-0.04\", \"x\": \"education\", \"xref\": \"x\", \"y\": \"pdays\", \"yref\": \"y\"}, {\"font\": {\"color\": \"#FFFFFF\"}, \"showarrow\": false, \"text\": \"-0.09\", \"x\": \"default\", \"xref\": \"x\", \"y\": \"pdays\", \"yref\": \"y\"}, {\"font\": {\"color\": \"#FFFFFF\"}, \"showarrow\": false, \"text\": \"-0.03\", \"x\": \"housing\", \"xref\": \"x\", \"y\": \"pdays\", \"yref\": \"y\"}, {\"font\": {\"color\": \"#FFFFFF\"}, \"showarrow\": false, \"text\": \"0.0\", \"x\": \"loan\", \"xref\": \"x\", \"y\": \"pdays\", \"yref\": \"y\"}, {\"font\": {\"color\": \"#FFFFFF\"}, \"showarrow\": false, \"text\": \"0.12\", \"x\": \"contact\", \"xref\": \"x\", \"y\": \"pdays\", \"yref\": \"y\"}, {\"font\": {\"color\": \"#FFFFFF\"}, \"showarrow\": false, \"text\": \"-0.11\", \"x\": \"month\", \"xref\": \"x\", \"y\": \"pdays\", \"yref\": \"y\"}, {\"font\": {\"color\": \"#FFFFFF\"}, \"showarrow\": false, \"text\": \"-0.05\", \"x\": \"duration\", \"xref\": \"x\", \"y\": \"pdays\", \"yref\": \"y\"}, {\"font\": {\"color\": \"#FFFFFF\"}, \"showarrow\": false, \"text\": \"0.06\", \"x\": \"campaign\", \"xref\": \"x\", \"y\": \"pdays\", \"yref\": \"y\"}, {\"font\": {\"color\": \"#000000\"}, \"showarrow\": false, \"text\": \"1.0\", \"x\": \"pdays\", \"xref\": \"x\", \"y\": \"pdays\", \"yref\": \"y\"}, {\"font\": {\"color\": \"#FFFFFF\"}, \"showarrow\": false, \"text\": \"-0.59\", \"x\": \"previous\", \"xref\": \"x\", \"y\": \"pdays\", \"yref\": \"y\"}, {\"font\": {\"color\": \"#FFFFFF\"}, \"showarrow\": false, \"text\": \"-0.48\", \"x\": \"poutcome\", \"xref\": \"x\", \"y\": \"pdays\", \"yref\": \"y\"}, {\"font\": {\"color\": \"#000000\"}, \"showarrow\": false, \"text\": \"0.27\", \"x\": \"emp.var.rate\", \"xref\": \"x\", \"y\": \"pdays\", \"yref\": \"y\"}, {\"font\": {\"color\": \"#FFFFFF\"}, \"showarrow\": false, \"text\": \"0.05\", \"x\": \"cons.price.idx\", \"xref\": \"x\", \"y\": \"pdays\", \"yref\": \"y\"}, {\"font\": {\"color\": \"#FFFFFF\"}, \"showarrow\": false, \"text\": \"-0.09\", \"x\": \"cons.conf.idx\", \"xref\": \"x\", \"y\": \"pdays\", \"yref\": \"y\"}, {\"font\": {\"color\": \"#000000\"}, \"showarrow\": false, \"text\": \"0.3\", \"x\": \"euribor3m\", \"xref\": \"x\", \"y\": \"pdays\", \"yref\": \"y\"}, {\"font\": {\"color\": \"#000000\"}, \"showarrow\": false, \"text\": \"0.39\", \"x\": \"nr.employed\", \"xref\": \"x\", \"y\": \"pdays\", \"yref\": \"y\"}, {\"font\": {\"color\": \"#FFFFFF\"}, \"showarrow\": false, \"text\": \"0.04\", \"x\": \"age\", \"xref\": \"x\", \"y\": \"previous\", \"yref\": \"y\"}, {\"font\": {\"color\": \"#FFFFFF\"}, \"showarrow\": false, \"text\": \"0.01\", \"x\": \"job\", \"xref\": \"x\", \"y\": \"previous\", \"yref\": \"y\"}, {\"font\": {\"color\": \"#FFFFFF\"}, \"showarrow\": false, \"text\": \"0.04\", \"x\": \"marital\", \"xref\": \"x\", \"y\": \"previous\", \"yref\": \"y\"}, {\"font\": {\"color\": \"#FFFFFF\"}, \"showarrow\": false, \"text\": \"0.03\", \"x\": \"education\", \"xref\": \"x\", \"y\": \"previous\", \"yref\": \"y\"}, {\"font\": {\"color\": \"#FFFFFF\"}, \"showarrow\": false, \"text\": \"0.1\", \"x\": \"default\", \"xref\": \"x\", \"y\": \"previous\", \"yref\": \"y\"}, {\"font\": {\"color\": \"#FFFFFF\"}, \"showarrow\": false, \"text\": \"0.02\", \"x\": \"housing\", \"xref\": \"x\", \"y\": \"previous\", \"yref\": \"y\"}, {\"font\": {\"color\": \"#FFFFFF\"}, \"showarrow\": false, \"text\": \"-0.01\", \"x\": \"loan\", \"xref\": \"x\", \"y\": \"previous\", \"yref\": \"y\"}, {\"font\": {\"color\": \"#FFFFFF\"}, \"showarrow\": false, \"text\": \"-0.22\", \"x\": \"contact\", \"xref\": \"x\", \"y\": \"previous\", \"yref\": \"y\"}, {\"font\": {\"color\": \"#FFFFFF\"}, \"showarrow\": false, \"text\": \"0.07\", \"x\": \"month\", \"xref\": \"x\", \"y\": \"previous\", \"yref\": \"y\"}, {\"font\": {\"color\": \"#FFFFFF\"}, \"showarrow\": false, \"text\": \"0.03\", \"x\": \"duration\", \"xref\": \"x\", \"y\": \"previous\", \"yref\": \"y\"}, {\"font\": {\"color\": \"#FFFFFF\"}, \"showarrow\": false, \"text\": \"-0.09\", \"x\": \"campaign\", \"xref\": \"x\", \"y\": \"previous\", \"yref\": \"y\"}, {\"font\": {\"color\": \"#FFFFFF\"}, \"showarrow\": false, \"text\": \"-0.59\", \"x\": \"pdays\", \"xref\": \"x\", \"y\": \"previous\", \"yref\": \"y\"}, {\"font\": {\"color\": \"#000000\"}, \"showarrow\": false, \"text\": \"1.0\", \"x\": \"previous\", \"xref\": \"x\", \"y\": \"previous\", \"yref\": \"y\"}, {\"font\": {\"color\": \"#FFFFFF\"}, \"showarrow\": false, \"text\": \"-0.27\", \"x\": \"poutcome\", \"xref\": \"x\", \"y\": \"previous\", \"yref\": \"y\"}, {\"font\": {\"color\": \"#FFFFFF\"}, \"showarrow\": false, \"text\": \"-0.41\", \"x\": \"emp.var.rate\", \"xref\": \"x\", \"y\": \"previous\", \"yref\": \"y\"}, {\"font\": {\"color\": \"#FFFFFF\"}, \"showarrow\": false, \"text\": \"-0.14\", \"x\": \"cons.price.idx\", \"xref\": \"x\", \"y\": \"previous\", \"yref\": \"y\"}, {\"font\": {\"color\": \"#FFFFFF\"}, \"showarrow\": false, \"text\": \"-0.05\", \"x\": \"cons.conf.idx\", \"xref\": \"x\", \"y\": \"previous\", \"yref\": \"y\"}, {\"font\": {\"color\": \"#FFFFFF\"}, \"showarrow\": false, \"text\": \"-0.46\", \"x\": \"euribor3m\", \"xref\": \"x\", \"y\": \"previous\", \"yref\": \"y\"}, {\"font\": {\"color\": \"#FFFFFF\"}, \"showarrow\": false, \"text\": \"-0.52\", \"x\": \"nr.employed\", \"xref\": \"x\", \"y\": \"previous\", \"yref\": \"y\"}, {\"font\": {\"color\": \"#FFFFFF\"}, \"showarrow\": false, \"text\": \"0.02\", \"x\": \"age\", \"xref\": \"x\", \"y\": \"poutcome\", \"yref\": \"y\"}, {\"font\": {\"color\": \"#FFFFFF\"}, \"showarrow\": false, \"text\": \"-0.02\", \"x\": \"job\", \"xref\": \"x\", \"y\": \"poutcome\", \"yref\": \"y\"}, {\"font\": {\"color\": \"#FFFFFF\"}, \"showarrow\": false, \"text\": \"-0.02\", \"x\": \"marital\", \"xref\": \"x\", \"y\": \"poutcome\", \"yref\": \"y\"}, {\"font\": {\"color\": \"#FFFFFF\"}, \"showarrow\": false, \"text\": \"0.02\", \"x\": \"education\", \"xref\": \"x\", \"y\": \"poutcome\", \"yref\": \"y\"}, {\"font\": {\"color\": \"#FFFFFF\"}, \"showarrow\": false, \"text\": \"0.0\", \"x\": \"default\", \"xref\": \"x\", \"y\": \"poutcome\", \"yref\": \"y\"}, {\"font\": {\"color\": \"#FFFFFF\"}, \"showarrow\": false, \"text\": \"0.02\", \"x\": \"housing\", \"xref\": \"x\", \"y\": \"poutcome\", \"yref\": \"y\"}, {\"font\": {\"color\": \"#FFFFFF\"}, \"showarrow\": false, \"text\": \"0.01\", \"x\": \"loan\", \"xref\": \"x\", \"y\": \"poutcome\", \"yref\": \"y\"}, {\"font\": {\"color\": \"#FFFFFF\"}, \"showarrow\": false, \"text\": \"0.13\", \"x\": \"contact\", \"xref\": \"x\", \"y\": \"poutcome\", \"yref\": \"y\"}, {\"font\": {\"color\": \"#FFFFFF\"}, \"showarrow\": false, \"text\": \"0.05\", \"x\": \"month\", \"xref\": \"x\", \"y\": \"poutcome\", \"yref\": \"y\"}, {\"font\": {\"color\": \"#FFFFFF\"}, \"showarrow\": false, \"text\": \"0.03\", \"x\": \"duration\", \"xref\": \"x\", \"y\": \"poutcome\", \"yref\": \"y\"}, {\"font\": {\"color\": \"#FFFFFF\"}, \"showarrow\": false, \"text\": \"0.04\", \"x\": \"campaign\", \"xref\": \"x\", \"y\": \"poutcome\", \"yref\": \"y\"}, {\"font\": {\"color\": \"#FFFFFF\"}, \"showarrow\": false, \"text\": \"-0.48\", \"x\": \"pdays\", \"xref\": \"x\", \"y\": \"poutcome\", \"yref\": \"y\"}, {\"font\": {\"color\": \"#FFFFFF\"}, \"showarrow\": false, \"text\": \"-0.27\", \"x\": \"previous\", \"xref\": \"x\", \"y\": \"poutcome\", \"yref\": \"y\"}, {\"font\": {\"color\": \"#000000\"}, \"showarrow\": false, \"text\": \"1.0\", \"x\": \"poutcome\", \"xref\": \"x\", \"y\": \"poutcome\", \"yref\": \"y\"}, {\"font\": {\"color\": \"#FFFFFF\"}, \"showarrow\": false, \"text\": \"0.2\", \"x\": \"emp.var.rate\", \"xref\": \"x\", \"y\": \"poutcome\", \"yref\": \"y\"}, {\"font\": {\"color\": \"#000000\"}, \"showarrow\": false, \"text\": \"0.21\", \"x\": \"cons.price.idx\", \"xref\": \"x\", \"y\": \"poutcome\", \"yref\": \"y\"}, {\"font\": {\"color\": \"#FFFFFF\"}, \"showarrow\": false, \"text\": \"0.19\", \"x\": \"cons.conf.idx\", \"xref\": \"x\", \"y\": \"poutcome\", \"yref\": \"y\"}, {\"font\": {\"color\": \"#FFFFFF\"}, \"showarrow\": false, \"text\": \"0.19\", \"x\": \"euribor3m\", \"xref\": \"x\", \"y\": \"poutcome\", \"yref\": \"y\"}, {\"font\": {\"color\": \"#FFFFFF\"}, \"showarrow\": false, \"text\": \"0.12\", \"x\": \"nr.employed\", \"xref\": \"x\", \"y\": \"poutcome\", \"yref\": \"y\"}, {\"font\": {\"color\": \"#FFFFFF\"}, \"showarrow\": false, \"text\": \"-0.01\", \"x\": \"age\", \"xref\": \"x\", \"y\": \"emp.var.rate\", \"yref\": \"y\"}, {\"font\": {\"color\": \"#FFFFFF\"}, \"showarrow\": false, \"text\": \"-0.03\", \"x\": \"job\", \"xref\": \"x\", \"y\": \"emp.var.rate\", \"yref\": \"y\"}, {\"font\": {\"color\": \"#FFFFFF\"}, \"showarrow\": false, \"text\": \"-0.05\", \"x\": \"marital\", \"xref\": \"x\", \"y\": \"emp.var.rate\", \"yref\": \"y\"}, {\"font\": {\"color\": \"#FFFFFF\"}, \"showarrow\": false, \"text\": \"-0.05\", \"x\": \"education\", \"xref\": \"x\", \"y\": \"emp.var.rate\", \"yref\": \"y\"}, {\"font\": {\"color\": \"#FFFFFF\"}, \"showarrow\": false, \"text\": \"-0.19\", \"x\": \"default\", \"xref\": \"x\", \"y\": \"emp.var.rate\", \"yref\": \"y\"}, {\"font\": {\"color\": \"#FFFFFF\"}, \"showarrow\": false, \"text\": \"-0.05\", \"x\": \"housing\", \"xref\": \"x\", \"y\": \"emp.var.rate\", \"yref\": \"y\"}, {\"font\": {\"color\": \"#FFFFFF\"}, \"showarrow\": false, \"text\": \"-0.02\", \"x\": \"loan\", \"xref\": \"x\", \"y\": \"emp.var.rate\", \"yref\": \"y\"}, {\"font\": {\"color\": \"#000000\"}, \"showarrow\": false, \"text\": \"0.39\", \"x\": \"contact\", \"xref\": \"x\", \"y\": \"emp.var.rate\", \"yref\": \"y\"}, {\"font\": {\"color\": \"#FFFFFF\"}, \"showarrow\": false, \"text\": \"0.04\", \"x\": \"month\", \"xref\": \"x\", \"y\": \"emp.var.rate\", \"yref\": \"y\"}, {\"font\": {\"color\": \"#FFFFFF\"}, \"showarrow\": false, \"text\": \"-0.03\", \"x\": \"duration\", \"xref\": \"x\", \"y\": \"emp.var.rate\", \"yref\": \"y\"}, {\"font\": {\"color\": \"#FFFFFF\"}, \"showarrow\": false, \"text\": \"0.18\", \"x\": \"campaign\", \"xref\": \"x\", \"y\": \"emp.var.rate\", \"yref\": \"y\"}, {\"font\": {\"color\": \"#000000\"}, \"showarrow\": false, \"text\": \"0.27\", \"x\": \"pdays\", \"xref\": \"x\", \"y\": \"emp.var.rate\", \"yref\": \"y\"}, {\"font\": {\"color\": \"#FFFFFF\"}, \"showarrow\": false, \"text\": \"-0.41\", \"x\": \"previous\", \"xref\": \"x\", \"y\": \"emp.var.rate\", \"yref\": \"y\"}, {\"font\": {\"color\": \"#FFFFFF\"}, \"showarrow\": false, \"text\": \"0.2\", \"x\": \"poutcome\", \"xref\": \"x\", \"y\": \"emp.var.rate\", \"yref\": \"y\"}, {\"font\": {\"color\": \"#000000\"}, \"showarrow\": false, \"text\": \"1.0\", \"x\": \"emp.var.rate\", \"xref\": \"x\", \"y\": \"emp.var.rate\", \"yref\": \"y\"}, {\"font\": {\"color\": \"#000000\"}, \"showarrow\": false, \"text\": \"0.75\", \"x\": \"cons.price.idx\", \"xref\": \"x\", \"y\": \"emp.var.rate\", \"yref\": \"y\"}, {\"font\": {\"color\": \"#000000\"}, \"showarrow\": false, \"text\": \"0.22\", \"x\": \"cons.conf.idx\", \"xref\": \"x\", \"y\": \"emp.var.rate\", \"yref\": \"y\"}, {\"font\": {\"color\": \"#000000\"}, \"showarrow\": false, \"text\": \"0.97\", \"x\": \"euribor3m\", \"xref\": \"x\", \"y\": \"emp.var.rate\", \"yref\": \"y\"}, {\"font\": {\"color\": \"#000000\"}, \"showarrow\": false, \"text\": \"0.89\", \"x\": \"nr.employed\", \"xref\": \"x\", \"y\": \"emp.var.rate\", \"yref\": \"y\"}, {\"font\": {\"color\": \"#FFFFFF\"}, \"showarrow\": false, \"text\": \"0.01\", \"x\": \"age\", \"xref\": \"x\", \"y\": \"cons.price.idx\", \"yref\": \"y\"}, {\"font\": {\"color\": \"#FFFFFF\"}, \"showarrow\": false, \"text\": \"0.03\", \"x\": \"job\", \"xref\": \"x\", \"y\": \"cons.price.idx\", \"yref\": \"y\"}, {\"font\": {\"color\": \"#FFFFFF\"}, \"showarrow\": false, \"text\": \"-0.03\", \"x\": \"marital\", \"xref\": \"x\", \"y\": \"cons.price.idx\", \"yref\": \"y\"}, {\"font\": {\"color\": \"#FFFFFF\"}, \"showarrow\": false, \"text\": \"-0.1\", \"x\": \"education\", \"xref\": \"x\", \"y\": \"cons.price.idx\", \"yref\": \"y\"}, {\"font\": {\"color\": \"#FFFFFF\"}, \"showarrow\": false, \"text\": \"-0.16\", \"x\": \"default\", \"xref\": \"x\", \"y\": \"cons.price.idx\", \"yref\": \"y\"}, {\"font\": {\"color\": \"#FFFFFF\"}, \"showarrow\": false, \"text\": \"-0.09\", \"x\": \"housing\", \"xref\": \"x\", \"y\": \"cons.price.idx\", \"yref\": \"y\"}, {\"font\": {\"color\": \"#FFFFFF\"}, \"showarrow\": false, \"text\": \"-0.03\", \"x\": \"loan\", \"xref\": \"x\", \"y\": \"cons.price.idx\", \"yref\": \"y\"}, {\"font\": {\"color\": \"#000000\"}, \"showarrow\": false, \"text\": \"0.57\", \"x\": \"contact\", \"xref\": \"x\", \"y\": \"cons.price.idx\", \"yref\": \"y\"}, {\"font\": {\"color\": \"#FFFFFF\"}, \"showarrow\": false, \"text\": \"-0.13\", \"x\": \"month\", \"xref\": \"x\", \"y\": \"cons.price.idx\", \"yref\": \"y\"}, {\"font\": {\"color\": \"#FFFFFF\"}, \"showarrow\": false, \"text\": \"0.02\", \"x\": \"duration\", \"xref\": \"x\", \"y\": \"cons.price.idx\", \"yref\": \"y\"}, {\"font\": {\"color\": \"#FFFFFF\"}, \"showarrow\": false, \"text\": \"0.15\", \"x\": \"campaign\", \"xref\": \"x\", \"y\": \"cons.price.idx\", \"yref\": \"y\"}, {\"font\": {\"color\": \"#FFFFFF\"}, \"showarrow\": false, \"text\": \"0.05\", \"x\": \"pdays\", \"xref\": \"x\", \"y\": \"cons.price.idx\", \"yref\": \"y\"}, {\"font\": {\"color\": \"#FFFFFF\"}, \"showarrow\": false, \"text\": \"-0.14\", \"x\": \"previous\", \"xref\": \"x\", \"y\": \"cons.price.idx\", \"yref\": \"y\"}, {\"font\": {\"color\": \"#000000\"}, \"showarrow\": false, \"text\": \"0.21\", \"x\": \"poutcome\", \"xref\": \"x\", \"y\": \"cons.price.idx\", \"yref\": \"y\"}, {\"font\": {\"color\": \"#000000\"}, \"showarrow\": false, \"text\": \"0.75\", \"x\": \"emp.var.rate\", \"xref\": \"x\", \"y\": \"cons.price.idx\", \"yref\": \"y\"}, {\"font\": {\"color\": \"#000000\"}, \"showarrow\": false, \"text\": \"1.0\", \"x\": \"cons.price.idx\", \"xref\": \"x\", \"y\": \"cons.price.idx\", \"yref\": \"y\"}, {\"font\": {\"color\": \"#FFFFFF\"}, \"showarrow\": false, \"text\": \"0.06\", \"x\": \"cons.conf.idx\", \"xref\": \"x\", \"y\": \"cons.price.idx\", \"yref\": \"y\"}, {\"font\": {\"color\": \"#000000\"}, \"showarrow\": false, \"text\": \"0.65\", \"x\": \"euribor3m\", \"xref\": \"x\", \"y\": \"cons.price.idx\", \"yref\": \"y\"}, {\"font\": {\"color\": \"#000000\"}, \"showarrow\": false, \"text\": \"0.45\", \"x\": \"nr.employed\", \"xref\": \"x\", \"y\": \"cons.price.idx\", \"yref\": \"y\"}, {\"font\": {\"color\": \"#FFFFFF\"}, \"showarrow\": false, \"text\": \"0.09\", \"x\": \"age\", \"xref\": \"x\", \"y\": \"cons.conf.idx\", \"yref\": \"y\"}, {\"font\": {\"color\": \"#FFFFFF\"}, \"showarrow\": false, \"text\": \"-0.06\", \"x\": \"job\", \"xref\": \"x\", \"y\": \"cons.conf.idx\", \"yref\": \"y\"}, {\"font\": {\"color\": \"#FFFFFF\"}, \"showarrow\": false, \"text\": \"-0.04\", \"x\": \"marital\", \"xref\": \"x\", \"y\": \"cons.conf.idx\", \"yref\": \"y\"}, {\"font\": {\"color\": \"#FFFFFF\"}, \"showarrow\": false, \"text\": \"0.07\", \"x\": \"education\", \"xref\": \"x\", \"y\": \"cons.conf.idx\", \"yref\": \"y\"}, {\"font\": {\"color\": \"#FFFFFF\"}, \"showarrow\": false, \"text\": \"-0.02\", \"x\": \"default\", \"xref\": \"x\", \"y\": \"cons.conf.idx\", \"yref\": \"y\"}, {\"font\": {\"color\": \"#FFFFFF\"}, \"showarrow\": false, \"text\": \"-0.03\", \"x\": \"housing\", \"xref\": \"x\", \"y\": \"cons.conf.idx\", \"yref\": \"y\"}, {\"font\": {\"color\": \"#FFFFFF\"}, \"showarrow\": false, \"text\": \"-0.0\", \"x\": \"loan\", \"xref\": \"x\", \"y\": \"cons.conf.idx\", \"yref\": \"y\"}, {\"font\": {\"color\": \"#000000\"}, \"showarrow\": false, \"text\": \"0.26\", \"x\": \"contact\", \"xref\": \"x\", \"y\": \"cons.conf.idx\", \"yref\": \"y\"}, {\"font\": {\"color\": \"#000000\"}, \"showarrow\": false, \"text\": \"0.22\", \"x\": \"month\", \"xref\": \"x\", \"y\": \"cons.conf.idx\", \"yref\": \"y\"}, {\"font\": {\"color\": \"#FFFFFF\"}, \"showarrow\": false, \"text\": \"-0.04\", \"x\": \"duration\", \"xref\": \"x\", \"y\": \"cons.conf.idx\", \"yref\": \"y\"}, {\"font\": {\"color\": \"#FFFFFF\"}, \"showarrow\": false, \"text\": \"0.01\", \"x\": \"campaign\", \"xref\": \"x\", \"y\": \"cons.conf.idx\", \"yref\": \"y\"}, {\"font\": {\"color\": \"#FFFFFF\"}, \"showarrow\": false, \"text\": \"-0.09\", \"x\": \"pdays\", \"xref\": \"x\", \"y\": \"cons.conf.idx\", \"yref\": \"y\"}, {\"font\": {\"color\": \"#FFFFFF\"}, \"showarrow\": false, \"text\": \"-0.05\", \"x\": \"previous\", \"xref\": \"x\", \"y\": \"cons.conf.idx\", \"yref\": \"y\"}, {\"font\": {\"color\": \"#FFFFFF\"}, \"showarrow\": false, \"text\": \"0.19\", \"x\": \"poutcome\", \"xref\": \"x\", \"y\": \"cons.conf.idx\", \"yref\": \"y\"}, {\"font\": {\"color\": \"#000000\"}, \"showarrow\": false, \"text\": \"0.22\", \"x\": \"emp.var.rate\", \"xref\": \"x\", \"y\": \"cons.conf.idx\", \"yref\": \"y\"}, {\"font\": {\"color\": \"#FFFFFF\"}, \"showarrow\": false, \"text\": \"0.06\", \"x\": \"cons.price.idx\", \"xref\": \"x\", \"y\": \"cons.conf.idx\", \"yref\": \"y\"}, {\"font\": {\"color\": \"#000000\"}, \"showarrow\": false, \"text\": \"1.0\", \"x\": \"cons.conf.idx\", \"xref\": \"x\", \"y\": \"cons.conf.idx\", \"yref\": \"y\"}, {\"font\": {\"color\": \"#000000\"}, \"showarrow\": false, \"text\": \"0.3\", \"x\": \"euribor3m\", \"xref\": \"x\", \"y\": \"cons.conf.idx\", \"yref\": \"y\"}, {\"font\": {\"color\": \"#FFFFFF\"}, \"showarrow\": false, \"text\": \"0.13\", \"x\": \"nr.employed\", \"xref\": \"x\", \"y\": \"cons.conf.idx\", \"yref\": \"y\"}, {\"font\": {\"color\": \"#FFFFFF\"}, \"showarrow\": false, \"text\": \"-0.01\", \"x\": \"age\", \"xref\": \"x\", \"y\": \"euribor3m\", \"yref\": \"y\"}, {\"font\": {\"color\": \"#FFFFFF\"}, \"showarrow\": false, \"text\": \"-0.03\", \"x\": \"job\", \"xref\": \"x\", \"y\": \"euribor3m\", \"yref\": \"y\"}, {\"font\": {\"color\": \"#FFFFFF\"}, \"showarrow\": false, \"text\": \"-0.06\", \"x\": \"marital\", \"xref\": \"x\", \"y\": \"euribor3m\", \"yref\": \"y\"}, {\"font\": {\"color\": \"#FFFFFF\"}, \"showarrow\": false, \"text\": \"-0.04\", \"x\": \"education\", \"xref\": \"x\", \"y\": \"euribor3m\", \"yref\": \"y\"}, {\"font\": {\"color\": \"#FFFFFF\"}, \"showarrow\": false, \"text\": \"-0.18\", \"x\": \"default\", \"xref\": \"x\", \"y\": \"euribor3m\", \"yref\": \"y\"}, {\"font\": {\"color\": \"#FFFFFF\"}, \"showarrow\": false, \"text\": \"-0.05\", \"x\": \"housing\", \"xref\": \"x\", \"y\": \"euribor3m\", \"yref\": \"y\"}, {\"font\": {\"color\": \"#FFFFFF\"}, \"showarrow\": false, \"text\": \"-0.01\", \"x\": \"loan\", \"xref\": \"x\", \"y\": \"euribor3m\", \"yref\": \"y\"}, {\"font\": {\"color\": \"#000000\"}, \"showarrow\": false, \"text\": \"0.39\", \"x\": \"contact\", \"xref\": \"x\", \"y\": \"euribor3m\", \"yref\": \"y\"}, {\"font\": {\"color\": \"#FFFFFF\"}, \"showarrow\": false, \"text\": \"0.14\", \"x\": \"month\", \"xref\": \"x\", \"y\": \"euribor3m\", \"yref\": \"y\"}, {\"font\": {\"color\": \"#FFFFFF\"}, \"showarrow\": false, \"text\": \"-0.03\", \"x\": \"duration\", \"xref\": \"x\", \"y\": \"euribor3m\", \"yref\": \"y\"}, {\"font\": {\"color\": \"#FFFFFF\"}, \"showarrow\": false, \"text\": \"0.16\", \"x\": \"campaign\", \"xref\": \"x\", \"y\": \"euribor3m\", \"yref\": \"y\"}, {\"font\": {\"color\": \"#000000\"}, \"showarrow\": false, \"text\": \"0.3\", \"x\": \"pdays\", \"xref\": \"x\", \"y\": \"euribor3m\", \"yref\": \"y\"}, {\"font\": {\"color\": \"#FFFFFF\"}, \"showarrow\": false, \"text\": \"-0.46\", \"x\": \"previous\", \"xref\": \"x\", \"y\": \"euribor3m\", \"yref\": \"y\"}, {\"font\": {\"color\": \"#FFFFFF\"}, \"showarrow\": false, \"text\": \"0.19\", \"x\": \"poutcome\", \"xref\": \"x\", \"y\": \"euribor3m\", \"yref\": \"y\"}, {\"font\": {\"color\": \"#000000\"}, \"showarrow\": false, \"text\": \"0.97\", \"x\": \"emp.var.rate\", \"xref\": \"x\", \"y\": \"euribor3m\", \"yref\": \"y\"}, {\"font\": {\"color\": \"#000000\"}, \"showarrow\": false, \"text\": \"0.65\", \"x\": \"cons.price.idx\", \"xref\": \"x\", \"y\": \"euribor3m\", \"yref\": \"y\"}, {\"font\": {\"color\": \"#000000\"}, \"showarrow\": false, \"text\": \"0.3\", \"x\": \"cons.conf.idx\", \"xref\": \"x\", \"y\": \"euribor3m\", \"yref\": \"y\"}, {\"font\": {\"color\": \"#000000\"}, \"showarrow\": false, \"text\": \"1.0\", \"x\": \"euribor3m\", \"xref\": \"x\", \"y\": \"euribor3m\", \"yref\": \"y\"}, {\"font\": {\"color\": \"#000000\"}, \"showarrow\": false, \"text\": \"0.94\", \"x\": \"nr.employed\", \"xref\": \"x\", \"y\": \"euribor3m\", \"yref\": \"y\"}, {\"font\": {\"color\": \"#FFFFFF\"}, \"showarrow\": false, \"text\": \"-0.04\", \"x\": \"age\", \"xref\": \"x\", \"y\": \"nr.employed\", \"yref\": \"y\"}, {\"font\": {\"color\": \"#FFFFFF\"}, \"showarrow\": false, \"text\": \"-0.03\", \"x\": \"job\", \"xref\": \"x\", \"y\": \"nr.employed\", \"yref\": \"y\"}, {\"font\": {\"color\": \"#FFFFFF\"}, \"showarrow\": false, \"text\": \"-0.05\", \"x\": \"marital\", \"xref\": \"x\", \"y\": \"nr.employed\", \"yref\": \"y\"}, {\"font\": {\"color\": \"#FFFFFF\"}, \"showarrow\": false, \"text\": \"-0.04\", \"x\": \"education\", \"xref\": \"x\", \"y\": \"nr.employed\", \"yref\": \"y\"}, {\"font\": {\"color\": \"#FFFFFF\"}, \"showarrow\": false, \"text\": \"-0.17\", \"x\": \"default\", \"xref\": \"x\", \"y\": \"nr.employed\", \"yref\": \"y\"}, {\"font\": {\"color\": \"#FFFFFF\"}, \"showarrow\": false, \"text\": \"-0.03\", \"x\": \"housing\", \"xref\": \"x\", \"y\": \"nr.employed\", \"yref\": \"y\"}, {\"font\": {\"color\": \"#FFFFFF\"}, \"showarrow\": false, \"text\": \"-0.0\", \"x\": \"loan\", \"xref\": \"x\", \"y\": \"nr.employed\", \"yref\": \"y\"}, {\"font\": {\"color\": \"#000000\"}, \"showarrow\": false, \"text\": \"0.27\", \"x\": \"contact\", \"xref\": \"x\", \"y\": \"nr.employed\", \"yref\": \"y\"}, {\"font\": {\"color\": \"#FFFFFF\"}, \"showarrow\": false, \"text\": \"0.09\", \"x\": \"month\", \"xref\": \"x\", \"y\": \"nr.employed\", \"yref\": \"y\"}, {\"font\": {\"color\": \"#FFFFFF\"}, \"showarrow\": false, \"text\": \"-0.05\", \"x\": \"duration\", \"xref\": \"x\", \"y\": \"nr.employed\", \"yref\": \"y\"}, {\"font\": {\"color\": \"#FFFFFF\"}, \"showarrow\": false, \"text\": \"0.16\", \"x\": \"campaign\", \"xref\": \"x\", \"y\": \"nr.employed\", \"yref\": \"y\"}, {\"font\": {\"color\": \"#000000\"}, \"showarrow\": false, \"text\": \"0.39\", \"x\": \"pdays\", \"xref\": \"x\", \"y\": \"nr.employed\", \"yref\": \"y\"}, {\"font\": {\"color\": \"#FFFFFF\"}, \"showarrow\": false, \"text\": \"-0.52\", \"x\": \"previous\", \"xref\": \"x\", \"y\": \"nr.employed\", \"yref\": \"y\"}, {\"font\": {\"color\": \"#FFFFFF\"}, \"showarrow\": false, \"text\": \"0.12\", \"x\": \"poutcome\", \"xref\": \"x\", \"y\": \"nr.employed\", \"yref\": \"y\"}, {\"font\": {\"color\": \"#000000\"}, \"showarrow\": false, \"text\": \"0.89\", \"x\": \"emp.var.rate\", \"xref\": \"x\", \"y\": \"nr.employed\", \"yref\": \"y\"}, {\"font\": {\"color\": \"#000000\"}, \"showarrow\": false, \"text\": \"0.45\", \"x\": \"cons.price.idx\", \"xref\": \"x\", \"y\": \"nr.employed\", \"yref\": \"y\"}, {\"font\": {\"color\": \"#FFFFFF\"}, \"showarrow\": false, \"text\": \"0.13\", \"x\": \"cons.conf.idx\", \"xref\": \"x\", \"y\": \"nr.employed\", \"yref\": \"y\"}, {\"font\": {\"color\": \"#000000\"}, \"showarrow\": false, \"text\": \"0.94\", \"x\": \"euribor3m\", \"xref\": \"x\", \"y\": \"nr.employed\", \"yref\": \"y\"}, {\"font\": {\"color\": \"#000000\"}, \"showarrow\": false, \"text\": \"1.0\", \"x\": \"nr.employed\", \"xref\": \"x\", \"y\": \"nr.employed\", \"yref\": \"y\"}], \"xaxis\": {\"dtick\": 1, \"gridcolor\": \"rgb(0, 0, 0)\", \"side\": \"top\", \"ticks\": \"\"}, \"yaxis\": {\"dtick\": 1, \"ticks\": \"\", \"ticksuffix\": \"  \"}},\n",
       "                        {\"showLink\": false, \"linkText\": \"Export to plot.ly\", \"plotlyServerURL\": \"https://plot.ly\", \"responsive\": true}\n",
       "                    ).then(function(){\n",
       "                            \n",
       "var gd = document.getElementById('419763b0-c406-4348-a4d1-fb5735263a83');\n",
       "var x = new MutationObserver(function (mutations, observer) {{\n",
       "        var display = window.getComputedStyle(gd).display;\n",
       "        if (!display || display === 'none') {{\n",
       "            console.log([gd, 'removed!']);\n",
       "            Plotly.purge(gd);\n",
       "            observer.disconnect();\n",
       "        }}\n",
       "}});\n",
       "\n",
       "// Listen for the removal of the full notebook cells\n",
       "var notebookContainer = gd.closest('#notebook-container');\n",
       "if (notebookContainer) {{\n",
       "    x.observe(notebookContainer, {childList: true});\n",
       "}}\n",
       "\n",
       "// Listen for the clearing of the current output cell\n",
       "var outputEl = gd.closest('.output');\n",
       "if (outputEl) {{\n",
       "    x.observe(outputEl, {childList: true});\n",
       "}}\n",
       "\n",
       "                        })\n",
       "                };\n",
       "                });\n",
       "            </script>\n",
       "        </div>"
      ]
     },
     "metadata": {},
     "output_type": "display_data"
    }
   ],
   "source": [
    "figure = ff.create_annotated_heatmap(\n",
    "    z=corr_features.values,\n",
    "    x=list(corr_features.columns),\n",
    "    y=list(corr_features.index),\n",
    "    annotation_text=corr_features.round(2).values,\n",
    "    showscale=True)\n",
    "\n",
    "iplot(figure)"
   ]
  },
  {
   "cell_type": "markdown",
   "metadata": {},
   "source": [
    "Заметим корреляцию больше 0,7 по модулю среди средующих параметров:\n",
    "1. emp.var.rate - nr.employed\n",
    "2. emp.var.rate - euribor3m\n",
    "3. emp.var.rate - cons.price.idx\n",
    "4. nr.employed - euribor3m\n",
    "\n",
    "То есть, эти признаки взаимосвязаны, поэтому они вместе будут оказывать сильное воздействие на модель. Будем среди пар признаков оставлять только один. В результате останеся только признак emp.var.rate"
   ]
  },
  {
   "cell_type": "code",
   "execution_count": 39,
   "metadata": {},
   "outputs": [],
   "source": [
    "X = train[:][:]\n",
    "X = X.drop(['y', 'nr.employed', 'euribor3m', 'cons.price.idx'], axis=1)\n",
    "y = train['y'][:]"
   ]
  },
  {
   "cell_type": "code",
   "execution_count": 40,
   "metadata": {},
   "outputs": [
    {
     "data": {
      "text/plain": [
       "0.8958736981672761"
      ]
     },
     "execution_count": 40,
     "metadata": {},
     "output_type": "execute_result"
    }
   ],
   "source": [
    "sss = StratifiedShuffleSplit(n_splits=5, test_size=0.3, random_state=0)\n",
    "\n",
    "scores_rf = cross_validate(classifier, X, y, scoring='roc_auc', cv=sss)\n",
    "\n",
    "scores_rf['test_score'].mean()"
   ]
  },
  {
   "cell_type": "code",
   "execution_count": 41,
   "metadata": {},
   "outputs": [
    {
     "data": {
      "text/plain": [
       "0.888415559975193"
      ]
     },
     "execution_count": 41,
     "metadata": {},
     "output_type": "execute_result"
    }
   ],
   "source": [
    "sgd = SGD(max_iter=1000, tol=1e-3)\n",
    "\n",
    "scores_sgd = cross_validate(sgd, X, y, scoring='roc_auc', cv=sss)\n",
    "scores_sgd['test_score'].mean()"
   ]
  },
  {
   "cell_type": "markdown",
   "metadata": {},
   "source": [
    "### 3.2.3. Объединение методов 3.2.1 и 3.2.2\n",
    "\n",
    "В первом случае признаки duration, pdays, previous, emp.var.rate, euribor3m и nr.employed были определены как наиболее связанные с таргетом. Второй случай определелил, что среди этих признаков есть взаимосвязанные:\n",
    "1. emp.var.rate - nr.employed\n",
    "2. emp.var.rate - euribor3m\n",
    "3. nr.employed - euribor3m\n",
    "\n",
    "Поэтому среди этих признаков можно оставить duration, pdays, previous и emp.var.rate"
   ]
  },
  {
   "cell_type": "code",
   "execution_count": 43,
   "metadata": {},
   "outputs": [],
   "source": [
    "X = train[['duration', 'pdays', 'previous','emp.var.rate']]\n",
    "y = train['y']"
   ]
  },
  {
   "cell_type": "code",
   "execution_count": 44,
   "metadata": {},
   "outputs": [
    {
     "data": {
      "text/plain": [
       "0.8236853360706572"
      ]
     },
     "execution_count": 44,
     "metadata": {},
     "output_type": "execute_result"
    }
   ],
   "source": [
    "sss = StratifiedShuffleSplit(n_splits=5, test_size=0.3, random_state=0)\n",
    "\n",
    "scores_rf = cross_validate(classifier, X, y, scoring='roc_auc', cv=sss)\n",
    "\n",
    "scores_rf['test_score'].mean()"
   ]
  },
  {
   "cell_type": "code",
   "execution_count": 45,
   "metadata": {},
   "outputs": [
    {
     "data": {
      "text/plain": [
       "0.8879728833857274"
      ]
     },
     "execution_count": 45,
     "metadata": {},
     "output_type": "execute_result"
    }
   ],
   "source": [
    "sgd = SGD(max_iter=1000, tol=1e-3)\n",
    "\n",
    "scores_sgd = cross_validate(sgd, X, y, scoring='roc_auc', cv=sss)\n",
    "scores_sgd['test_score'].mean()"
   ]
  },
  {
   "cell_type": "markdown",
   "metadata": {},
   "source": [
    "### 3.2.4. Простая логика\n",
    "\n",
    "Предыдущие модели были построены путем вычислений. Вроде бы получаются неплохие значения (если я все правильно делаю). Теперь попробуем отобрать признаки, используя свою логику\n",
    "\n",
    "Итак, у нас есть следующие признаки: \n",
    "1. age - возраст пользователя\n",
    "2. job - категория вида деятельности\n",
    "3. marital - семейный статус\n",
    "4. education - образование (высшее из имеющихся)\n",
    "5. housing - наличие недвижимости в собственности\n",
    "6. loan - наличие других кредитов\n",
    "7. contact - тип контакта (городской или мобильный)\n",
    "8. month - месяц, в котором подана заявка на кредит?\n",
    "9. day_of_week - день недели, в который подана заявка на кредит?\n",
    "10. duration - длительность займа?\n",
    "11. campaign - компания, в которой работет пользователь?\n",
    "12. previous - количество предыдущих заемов\n",
    "13. poutcome - исход предыдущих заемов\n",
    "\n",
    "Смысл остальных признаков я определить не смогла.\n",
    "\n",
    "В данном случае я считаю, что наиболее существенными признаками будут:\n",
    "1. age - как правило, молодые люди не могут иметь постоянного большого дохода, чтобы суметь стабильно оплачивать заем, в свою очередь люди в возрасте имеют риск потерять работу (здоровье, пенсия и т.п), поэтому это важный фактор\n",
    "2. job - разные типы работы оплачиваются по-разному. Соответственно, платежеспособность будет разной, поэтому стабильность выбоат и возможность уплаты заема есть у людей со стабильным высоким доходом\n",
    "3. marital - здесь спорный вопрос. С одной стороны, семейные люди могут поддерживать кредит супруга даже в критических ситуациях (здоровье, потеря работы, смерть и т.д.). с другой - семейные люди основную часть доходов будут тратить на семью, детей и т.д., а люди без пары могут ратить существенную часть доходов на оплату. Так или иначе, признак будет влять\n",
    "4. education - однозначно, чем выше у человека образование, тем более стабильный и высокий доход он будет иметь (не будем рассматривать Джобсов, Гейтсов и т.п.)\n",
    "5. housing - при наличии недвижимости в случае неуплат долга можно изъять у человека недвижимость. Если у пользователя она есть, то нам есть что изымать, в противном случае у ччеловека нечего забрать в случае неуплаты\n",
    "6. loan - если у человека уже есть долги, то он может несправиться с большим количеством уплат, поэтому наличие долгов сильно влияет на платежеспособность\n",
    "7. duration (если это длительность займа) - чем долше длительность займа, тем труднее предсказат поведения пользователя в течение периода. Если длительность заема большая, то за этот период может случиться много факторов, меняющих платежеспособность пользователя\n",
    "8. previous - если у человека есть предыдущие платежи, то можно ознакомиться с его кредитной историей, если о человеке ничего не известно, то трудно спрогнозироваь его поведение\n",
    "9. poutcome - если пользователь успешно закрыл предыдущие долги, то ему можно доверять"
   ]
  },
  {
   "cell_type": "code",
   "execution_count": 47,
   "metadata": {},
   "outputs": [],
   "source": [
    "X = train[['age', 'job', 'marital', 'education', 'housing', 'loan', 'duration', 'previous','poutcome']]\n",
    "y = train['y']"
   ]
  },
  {
   "cell_type": "code",
   "execution_count": 48,
   "metadata": {},
   "outputs": [
    {
     "data": {
      "text/plain": [
       "0.8158636470563077"
      ]
     },
     "execution_count": 48,
     "metadata": {},
     "output_type": "execute_result"
    }
   ],
   "source": [
    "sss = StratifiedShuffleSplit(n_splits=5, test_size=0.3, random_state=0)\n",
    "\n",
    "scores_rf = cross_validate(classifier, X, y, scoring='roc_auc', cv=sss)\n",
    "\n",
    "scores_rf['test_score'].mean()"
   ]
  },
  {
   "cell_type": "code",
   "execution_count": 49,
   "metadata": {},
   "outputs": [
    {
     "data": {
      "text/plain": [
       "0.4310215778105686"
      ]
     },
     "execution_count": 49,
     "metadata": {},
     "output_type": "execute_result"
    }
   ],
   "source": [
    "sgd = SGD(max_iter=1000, tol=1e-3)\n",
    "\n",
    "scores_sgd = cross_validate(sgd, X, y, scoring='roc_auc', cv=sss)\n",
    "scores_sgd['test_score'].mean()"
   ]
  },
  {
   "cell_type": "markdown",
   "metadata": {},
   "source": [
    "Логика не помогла ((((\n",
    "\n",
    "Точность модели уменьшилась, поскольку мы не использовали факторы, оказывающие влияние на таргет (факторы, полученные в методе 3.2.1)\n",
    "\n",
    "Зато можно сделать вывод, что в прогнозировании нельзя смотреть поверхностно. Необходимо искать скрытые и/или не всегда очевидные факторы, которые впоследствии смогут оказать воздействие на результат"
   ]
  },
  {
   "cell_type": "markdown",
   "metadata": {},
   "source": [
    "# 4. Итог\n",
    "\n",
    "В результате были получены показатели roc-auc на тесте 0,88 на RandomForest и SGD \n",
    "\n",
    "Если бы было больше времени, то можно было бы попробовать определить нелинейные зависимости между таргетом и признаком, поскольку используемый метод определения значимости показывал только линейную зависимость. Можно было бы поиграть с количеством деревьев в RandomForest, поиграть с количеством факторов: прямо построить графики, как меняется ошибка в зависимости от количества деревьев и факторов. Попробовать другие методы определения значимых факторов (гугл в помощь)"
   ]
  }
 ],
 "metadata": {
  "kernelspec": {
   "display_name": "Python 3",
   "language": "python",
   "name": "python3"
  },
  "language_info": {
   "codemirror_mode": {
    "name": "ipython",
    "version": 3
   },
   "file_extension": ".py",
   "mimetype": "text/x-python",
   "name": "python",
   "nbconvert_exporter": "python",
   "pygments_lexer": "ipython3",
   "version": "3.7.3"
  }
 },
 "nbformat": 4,
 "nbformat_minor": 2
}
